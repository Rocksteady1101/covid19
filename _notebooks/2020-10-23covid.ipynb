{
 "cells": [
  {
   "cell_type": "code",
   "execution_count": 11,
   "metadata": {},
   "outputs": [],
   "source": [
    "import requests\n",
    "import pandas as pd\n",
    "import io\n",
    "import datetime as dt\n",
    "import plotly.express as px\n",
    "import ipywidgets as widgets\n",
    "import altair as alt\n",
    "\n",
    "url = \"https://onemocneni-aktualne.mzcr.cz/api/v2/covid-19/osoby.csv\"\n",
    "s = requests.get(url).content\n",
    "# parse_dates = [0], index_col = 0\n",
    "df = pd.read_csv(io.StringIO(s.decode('utf-8')), parse_dates=[0])\n",
    "okresy = {'CZZZZZ': 'Extra-Regio',\n",
    "               'CZ0100': 'Praha',\n",
    "               'CZ020A': 'Praha-západ',\n",
    "               'CZ020B': 'Příbram',\n",
    "               'CZ020C': 'Rakovník',\n",
    "               'CZ0201': 'Benešov',\n",
    "               'CZ0202': 'Beroun',\n",
    "               'CZ0203': 'Kladno',\n",
    "               'CZ0204': 'Kolín',\n",
    "               'CZ0205': 'Kutná Hora',\n",
    "               'CZ0206': 'Mělník',\n",
    "               'CZ0207': 'Mladá Boleslav',\n",
    "               'CZ0208': 'Nymburk',\n",
    "               'CZ0209': 'Praha-východ',\n",
    "               'CZ0311': 'České Budějovice',\n",
    "               'CZ0312': 'Český Krumlov',\n",
    "               'CZ0313': 'Jindřichův Hradec',\n",
    "               'CZ0314': 'Písek',\n",
    "               'CZ0315': 'Prachatice',\n",
    "               'CZ0316': 'Strakonice',\n",
    "               'CZ0317': 'Tábor',\n",
    "               'CZ0321': 'Domažlice',\n",
    "               'CZ0322': 'Klatovy',\n",
    "               'CZ0323': 'Plzeň-město',\n",
    "               'CZ0324': 'Plzeň-jih',\n",
    "               'CZ0325': 'Plzeň-sever',\n",
    "               'CZ0326': 'Rokycany',\n",
    "               'CZ0327': 'Tachov',\n",
    "               'CZ0411': 'Cheb',\n",
    "               'CZ0412': 'Karlovy Vary',\n",
    "               'CZ0413': 'Sokolov',\n",
    "               'CZ0421': 'Děčín',\n",
    "               'CZ0422': 'Chomutov',\n",
    "               'CZ0423': 'Litoměřice',\n",
    "               'CZ0424': 'Louny',\n",
    "               'CZ0425': 'Most',\n",
    "               'CZ0426': 'Teplice',\n",
    "               'CZ0427': 'Ústí nad Labem',\n",
    "               'CZ0511': 'Česká Lípa',\n",
    "               'CZ0512': 'Jablonec nad Nisou',\n",
    "               'CZ0513': 'Liberec',\n",
    "               'CZ0514': 'Semily',\n",
    "               'CZ0521': 'Hradec Králové',\n",
    "               'CZ0522': 'Jičín',\n",
    "               'CZ0523': 'Náchod',\n",
    "               'CZ0524': 'Rychnov nad Kněžnou',\n",
    "               'CZ0525': 'Trutnov',\n",
    "               'CZ0531': 'Chrudim',\n",
    "               'CZ0532': 'Pardubice',\n",
    "               'CZ0533': 'Svitavy',\n",
    "               'CZ0534': 'Ústí nad Orlicí',\n",
    "               'CZ0631': 'Havlíčkův Brod',\n",
    "               'CZ0632': 'Jihlava',\n",
    "               'CZ0633': 'Pelhřimov',\n",
    "               'CZ0634': 'Třebíč',\n",
    "               'CZ0635': 'Žďár nad Sázavou',\n",
    "               'CZ0641': 'Blansko',\n",
    "               'CZ0642': 'Brno-město',\n",
    "               'CZ0643': 'Brno-venkov',\n",
    "               'CZ0644': 'Břeclav',\n",
    "               'CZ0645': 'Hodonín',\n",
    "               'CZ0646': 'Vyškov',\n",
    "               'CZ0647': 'Znojmo',\n",
    "               'CZ0711': 'Jeseník',\n",
    "               'CZ0712': 'Olomouc',\n",
    "               'CZ0713': 'Prostějov',\n",
    "               'CZ0714': 'Přerov',\n",
    "               'CZ0715': 'Šumperk',\n",
    "               'CZ0721': 'Kroměříž',\n",
    "               'CZ0722': 'Uherské Hradiště',\n",
    "               'CZ0723': 'Vsetín',\n",
    "               'CZ0724': 'Zlín',\n",
    "               'CZ0801': 'Bruntál',\n",
    "               'CZ0802': 'Frýdek-Místek',\n",
    "               'CZ0803': 'Karviná',\n",
    "               'CZ0804': 'Nový Jičín',\n",
    "               'CZ0805': 'Opava',\n",
    "               'CZ0806': 'Ostrava-město'}\n",
    "\n",
    "def count_by_date_district(df):\n",
    "    date_district_count = df.groupby(['datum', 'okres_lau_kod', 'okres_nazev']).count().reset_index()\n",
    "    return date_district_count\n",
    "\n",
    "# Týdenní přírůstek v okresech po dnech'\n",
    "\n",
    "def week_count_by_date_district(df):\n",
    "    date_district_count = df.copy()\n",
    "    date_district_count = date_district_count.groupby(\n",
    "        ['datum', 'okres_lau_kod', 'okres_nazev']).count().reset_index()\n",
    "    range_max = date_district_count['datum'].max()\n",
    "    range_min = range_max - dt.timedelta(days=7)\n",
    "    date_district_count = date_district_count[(date_district_count['datum'] >= range_min) &\n",
    "                                              (date_district_count['datum'] <= range_max)]\n",
    "    date_district_count['animate_date'] = date_district_count['datum']\n",
    "    date_district_count['animate_date'] = date_district_count['animate_date'].dt.strftime('%Y-%m-%d')\n",
    "    return date_district_count\n",
    "\n",
    "# Celkový týdenní přírůstek v okresech\n",
    "\n",
    "def week_total_count_by_district(df):\n",
    "    week_total_count_district = df.copy()\n",
    "    range_max = week_total_count_district['datum'].max()\n",
    "    range_min = range_max - dt.timedelta(days=7)\n",
    "    week_total_count_district = week_total_count_district[\n",
    "        (week_total_count_district['datum'] >= range_min) & (week_total_count_district['datum'] <= range_max)]\n",
    "    week_total_count_district = week_total_count_district.groupby(\n",
    "        ['okres_lau_kod', 'okres_nazev']).count().reset_index()\n",
    "    return week_total_count_district\n",
    "\n",
    "\n",
    "def total_count_by_district(df):\n",
    "    total_count_district = df.copy()\n",
    "    total_count_district = total_count_district.groupby(['okres_lau_kod', 'okres_nazev']).count().reset_index()\n",
    "    return total_count_district\n",
    "\n",
    "def total_count_by_date(df):\n",
    "    total = df.groupby(['datum']).count().reset_index()\n",
    "    return total\n",
    "\n",
    "\n",
    "df['okres_nazev'] = df['okres_lau_kod'].map(okresy)\n",
    "date_district_count = count_by_date_district(df)\n",
    "week_date_district_count = week_count_by_date_district(df)\n",
    "week_total_count_district = week_total_count_by_district(df)\n",
    "total_count_district = total_count_by_district(df)\n",
    "total_count_date = total_count_by_date(df)"
   ]
  },
  {
   "cell_type": "code",
   "execution_count": 6,
   "metadata": {},
   "outputs": [
    {
     "data": {
      "application/vnd.plotly.v1+json": {
       "config": {
        "plotlyServerURL": "https://plot.ly"
       },
       "data": [
        {
         "hovertemplate": "Datum=%{x}<br>Počet=%{y}<extra></extra>",
         "legendgroup": "",
         "line": {
          "color": "rgb(158,1,66)",
          "dash": "solid"
         },
         "mode": "lines",
         "name": "",
         "orientation": "v",
         "showlegend": false,
         "type": "scatter",
         "x": [
          "2020-03-01T00:00:00",
          "2020-03-03T00:00:00",
          "2020-03-04T00:00:00",
          "2020-03-05T00:00:00",
          "2020-03-06T00:00:00",
          "2020-03-07T00:00:00",
          "2020-03-08T00:00:00",
          "2020-03-09T00:00:00",
          "2020-03-10T00:00:00",
          "2020-03-11T00:00:00",
          "2020-03-12T00:00:00",
          "2020-03-13T00:00:00",
          "2020-03-14T00:00:00",
          "2020-03-15T00:00:00",
          "2020-03-16T00:00:00",
          "2020-03-17T00:00:00",
          "2020-03-18T00:00:00",
          "2020-03-19T00:00:00",
          "2020-03-20T00:00:00",
          "2020-03-21T00:00:00",
          "2020-03-22T00:00:00",
          "2020-03-23T00:00:00",
          "2020-03-24T00:00:00",
          "2020-03-25T00:00:00",
          "2020-03-26T00:00:00",
          "2020-03-27T00:00:00",
          "2020-03-28T00:00:00",
          "2020-03-29T00:00:00",
          "2020-03-30T00:00:00",
          "2020-03-31T00:00:00",
          "2020-04-01T00:00:00",
          "2020-04-02T00:00:00",
          "2020-04-03T00:00:00",
          "2020-04-04T00:00:00",
          "2020-04-05T00:00:00",
          "2020-04-06T00:00:00",
          "2020-04-07T00:00:00",
          "2020-04-08T00:00:00",
          "2020-04-09T00:00:00",
          "2020-04-10T00:00:00",
          "2020-04-11T00:00:00",
          "2020-04-12T00:00:00",
          "2020-04-13T00:00:00",
          "2020-04-14T00:00:00",
          "2020-04-15T00:00:00",
          "2020-04-16T00:00:00",
          "2020-04-17T00:00:00",
          "2020-04-18T00:00:00",
          "2020-04-19T00:00:00",
          "2020-04-20T00:00:00",
          "2020-04-21T00:00:00",
          "2020-04-22T00:00:00",
          "2020-04-23T00:00:00",
          "2020-04-24T00:00:00",
          "2020-04-25T00:00:00",
          "2020-04-26T00:00:00",
          "2020-04-27T00:00:00",
          "2020-04-28T00:00:00",
          "2020-04-29T00:00:00",
          "2020-04-30T00:00:00",
          "2020-05-01T00:00:00",
          "2020-05-02T00:00:00",
          "2020-05-03T00:00:00",
          "2020-05-04T00:00:00",
          "2020-05-05T00:00:00",
          "2020-05-06T00:00:00",
          "2020-05-07T00:00:00",
          "2020-05-08T00:00:00",
          "2020-05-09T00:00:00",
          "2020-05-10T00:00:00",
          "2020-05-11T00:00:00",
          "2020-05-12T00:00:00",
          "2020-05-13T00:00:00",
          "2020-05-14T00:00:00",
          "2020-05-15T00:00:00",
          "2020-05-16T00:00:00",
          "2020-05-17T00:00:00",
          "2020-05-18T00:00:00",
          "2020-05-19T00:00:00",
          "2020-05-20T00:00:00",
          "2020-05-21T00:00:00",
          "2020-05-22T00:00:00",
          "2020-05-23T00:00:00",
          "2020-05-24T00:00:00",
          "2020-05-25T00:00:00",
          "2020-05-26T00:00:00",
          "2020-05-27T00:00:00",
          "2020-05-28T00:00:00",
          "2020-05-29T00:00:00",
          "2020-05-30T00:00:00",
          "2020-05-31T00:00:00",
          "2020-06-01T00:00:00",
          "2020-06-02T00:00:00",
          "2020-06-03T00:00:00",
          "2020-06-04T00:00:00",
          "2020-06-05T00:00:00",
          "2020-06-06T00:00:00",
          "2020-06-07T00:00:00",
          "2020-06-08T00:00:00",
          "2020-06-09T00:00:00",
          "2020-06-10T00:00:00",
          "2020-06-11T00:00:00",
          "2020-06-12T00:00:00",
          "2020-06-13T00:00:00",
          "2020-06-14T00:00:00",
          "2020-06-15T00:00:00",
          "2020-06-16T00:00:00",
          "2020-06-17T00:00:00",
          "2020-06-18T00:00:00",
          "2020-06-19T00:00:00",
          "2020-06-20T00:00:00",
          "2020-06-21T00:00:00",
          "2020-06-22T00:00:00",
          "2020-06-23T00:00:00",
          "2020-06-24T00:00:00",
          "2020-06-25T00:00:00",
          "2020-06-26T00:00:00",
          "2020-06-27T00:00:00",
          "2020-06-28T00:00:00",
          "2020-06-29T00:00:00",
          "2020-06-30T00:00:00",
          "2020-07-01T00:00:00",
          "2020-07-02T00:00:00",
          "2020-07-03T00:00:00",
          "2020-07-04T00:00:00",
          "2020-07-05T00:00:00",
          "2020-07-06T00:00:00",
          "2020-07-07T00:00:00",
          "2020-07-08T00:00:00",
          "2020-07-09T00:00:00",
          "2020-07-10T00:00:00",
          "2020-07-11T00:00:00",
          "2020-07-12T00:00:00",
          "2020-07-13T00:00:00",
          "2020-07-14T00:00:00",
          "2020-07-15T00:00:00",
          "2020-07-16T00:00:00",
          "2020-07-17T00:00:00",
          "2020-07-18T00:00:00",
          "2020-07-19T00:00:00",
          "2020-07-20T00:00:00",
          "2020-07-21T00:00:00",
          "2020-07-22T00:00:00",
          "2020-07-23T00:00:00",
          "2020-07-24T00:00:00",
          "2020-07-25T00:00:00",
          "2020-07-26T00:00:00",
          "2020-07-27T00:00:00",
          "2020-07-28T00:00:00",
          "2020-07-29T00:00:00",
          "2020-07-30T00:00:00",
          "2020-07-31T00:00:00",
          "2020-08-01T00:00:00",
          "2020-08-02T00:00:00",
          "2020-08-03T00:00:00",
          "2020-08-04T00:00:00",
          "2020-08-05T00:00:00",
          "2020-08-06T00:00:00",
          "2020-08-07T00:00:00",
          "2020-08-08T00:00:00",
          "2020-08-09T00:00:00",
          "2020-08-10T00:00:00",
          "2020-08-11T00:00:00",
          "2020-08-12T00:00:00",
          "2020-08-13T00:00:00",
          "2020-08-14T00:00:00",
          "2020-08-15T00:00:00",
          "2020-08-16T00:00:00",
          "2020-08-17T00:00:00",
          "2020-08-18T00:00:00",
          "2020-08-19T00:00:00",
          "2020-08-20T00:00:00",
          "2020-08-21T00:00:00",
          "2020-08-22T00:00:00",
          "2020-08-23T00:00:00",
          "2020-08-24T00:00:00",
          "2020-08-25T00:00:00",
          "2020-08-26T00:00:00",
          "2020-08-27T00:00:00",
          "2020-08-28T00:00:00",
          "2020-08-29T00:00:00",
          "2020-08-30T00:00:00",
          "2020-08-31T00:00:00",
          "2020-09-01T00:00:00",
          "2020-09-02T00:00:00",
          "2020-09-03T00:00:00",
          "2020-09-04T00:00:00",
          "2020-09-05T00:00:00",
          "2020-09-06T00:00:00",
          "2020-09-07T00:00:00",
          "2020-09-08T00:00:00",
          "2020-09-09T00:00:00",
          "2020-09-10T00:00:00",
          "2020-09-11T00:00:00",
          "2020-09-12T00:00:00",
          "2020-09-13T00:00:00",
          "2020-09-14T00:00:00",
          "2020-09-15T00:00:00",
          "2020-09-16T00:00:00",
          "2020-09-17T00:00:00",
          "2020-09-18T00:00:00",
          "2020-09-19T00:00:00",
          "2020-09-20T00:00:00",
          "2020-09-21T00:00:00",
          "2020-09-22T00:00:00",
          "2020-09-23T00:00:00",
          "2020-09-24T00:00:00",
          "2020-09-25T00:00:00",
          "2020-09-26T00:00:00",
          "2020-09-27T00:00:00",
          "2020-09-28T00:00:00",
          "2020-09-29T00:00:00",
          "2020-09-30T00:00:00",
          "2020-10-01T00:00:00",
          "2020-10-02T00:00:00",
          "2020-10-03T00:00:00",
          "2020-10-04T00:00:00",
          "2020-10-05T00:00:00",
          "2020-10-06T00:00:00",
          "2020-10-07T00:00:00",
          "2020-10-08T00:00:00",
          "2020-10-09T00:00:00",
          "2020-10-10T00:00:00",
          "2020-10-11T00:00:00",
          "2020-10-12T00:00:00",
          "2020-10-13T00:00:00",
          "2020-10-14T00:00:00",
          "2020-10-15T00:00:00",
          "2020-10-16T00:00:00",
          "2020-10-17T00:00:00",
          "2020-10-18T00:00:00",
          "2020-10-19T00:00:00",
          "2020-10-20T00:00:00",
          "2020-10-21T00:00:00",
          "2020-10-22T00:00:00",
          "2020-10-23T00:00:00"
         ],
         "xaxis": "x",
         "y": [
          3,
          1,
          1,
          3,
          11,
          7,
          6,
          6,
          25,
          31,
          22,
          25,
          47,
          107,
          81,
          65,
          109,
          202,
          121,
          154,
          115,
          125,
          185,
          287,
          258,
          374,
          262,
          159,
          184,
          302,
          281,
          265,
          330,
          273,
          116,
          233,
          189,
          287,
          253,
          159,
          169,
          88,
          63,
          79,
          158,
          127,
          111,
          105,
          92,
          145,
          132,
          97,
          53,
          80,
          79,
          50,
          41,
          59,
          59,
          75,
          52,
          17,
          26,
          31,
          71,
          75,
          53,
          45,
          18,
          28,
          49,
          38,
          46,
          82,
          53,
          40,
          19,
          106,
          52,
          68,
          31,
          56,
          75,
          62,
          45,
          43,
          30,
          50,
          51,
          29,
          25,
          28,
          55,
          62,
          51,
          25,
          37,
          57,
          68,
          51,
          68,
          50,
          47,
          50,
          31,
          36,
          42,
          47,
          108,
          114,
          38,
          48,
          57,
          87,
          123,
          84,
          148,
          203,
          244,
          177,
          127,
          83,
          124,
          126,
          118,
          73,
          50,
          114,
          105,
          95,
          118,
          52,
          55,
          61,
          97,
          124,
          134,
          119,
          99,
          86,
          154,
          196,
          225,
          218,
          261,
          125,
          105,
          184,
          264,
          265,
          248,
          215,
          112,
          100,
          193,
          272,
          230,
          205,
          304,
          164,
          115,
          132,
          273,
          267,
          311,
          271,
          175,
          111,
          179,
          263,
          294,
          232,
          476,
          223,
          123,
          242,
          351,
          365,
          334,
          463,
          311,
          256,
          238,
          480,
          616,
          637,
          751,
          475,
          384,
          537,
          1085,
          1061,
          1289,
          1337,
          1425,
          744,
          955,
          1564,
          1979,
          2799,
          1877,
          1767,
          849,
          1322,
          2156,
          2023,
          2513,
          2856,
          1933,
          1274,
          1244,
          1918,
          2849,
          3434,
          3721,
          2507,
          1782,
          3027,
          4340,
          5138,
          5210,
          8317,
          4525,
          3013,
          4079,
          7957,
          9191,
          9210,
          10655,
          8442,
          4964,
          7815,
          11626,
          14446,
          13671,
          6619
         ],
         "yaxis": "y"
        }
       ],
       "layout": {
        "legend": {
         "tracegroupgap": 0
        },
        "template": {
         "data": {
          "bar": [
           {
            "error_x": {
             "color": "#2a3f5f"
            },
            "error_y": {
             "color": "#2a3f5f"
            },
            "marker": {
             "line": {
              "color": "#E5ECF6",
              "width": 0.5
             }
            },
            "type": "bar"
           }
          ],
          "barpolar": [
           {
            "marker": {
             "line": {
              "color": "#E5ECF6",
              "width": 0.5
             }
            },
            "type": "barpolar"
           }
          ],
          "carpet": [
           {
            "aaxis": {
             "endlinecolor": "#2a3f5f",
             "gridcolor": "white",
             "linecolor": "white",
             "minorgridcolor": "white",
             "startlinecolor": "#2a3f5f"
            },
            "baxis": {
             "endlinecolor": "#2a3f5f",
             "gridcolor": "white",
             "linecolor": "white",
             "minorgridcolor": "white",
             "startlinecolor": "#2a3f5f"
            },
            "type": "carpet"
           }
          ],
          "choropleth": [
           {
            "colorbar": {
             "outlinewidth": 0,
             "ticks": ""
            },
            "type": "choropleth"
           }
          ],
          "contour": [
           {
            "colorbar": {
             "outlinewidth": 0,
             "ticks": ""
            },
            "colorscale": [
             [
              0,
              "#0d0887"
             ],
             [
              0.1111111111111111,
              "#46039f"
             ],
             [
              0.2222222222222222,
              "#7201a8"
             ],
             [
              0.3333333333333333,
              "#9c179e"
             ],
             [
              0.4444444444444444,
              "#bd3786"
             ],
             [
              0.5555555555555556,
              "#d8576b"
             ],
             [
              0.6666666666666666,
              "#ed7953"
             ],
             [
              0.7777777777777778,
              "#fb9f3a"
             ],
             [
              0.8888888888888888,
              "#fdca26"
             ],
             [
              1,
              "#f0f921"
             ]
            ],
            "type": "contour"
           }
          ],
          "contourcarpet": [
           {
            "colorbar": {
             "outlinewidth": 0,
             "ticks": ""
            },
            "type": "contourcarpet"
           }
          ],
          "heatmap": [
           {
            "colorbar": {
             "outlinewidth": 0,
             "ticks": ""
            },
            "colorscale": [
             [
              0,
              "#0d0887"
             ],
             [
              0.1111111111111111,
              "#46039f"
             ],
             [
              0.2222222222222222,
              "#7201a8"
             ],
             [
              0.3333333333333333,
              "#9c179e"
             ],
             [
              0.4444444444444444,
              "#bd3786"
             ],
             [
              0.5555555555555556,
              "#d8576b"
             ],
             [
              0.6666666666666666,
              "#ed7953"
             ],
             [
              0.7777777777777778,
              "#fb9f3a"
             ],
             [
              0.8888888888888888,
              "#fdca26"
             ],
             [
              1,
              "#f0f921"
             ]
            ],
            "type": "heatmap"
           }
          ],
          "heatmapgl": [
           {
            "colorbar": {
             "outlinewidth": 0,
             "ticks": ""
            },
            "colorscale": [
             [
              0,
              "#0d0887"
             ],
             [
              0.1111111111111111,
              "#46039f"
             ],
             [
              0.2222222222222222,
              "#7201a8"
             ],
             [
              0.3333333333333333,
              "#9c179e"
             ],
             [
              0.4444444444444444,
              "#bd3786"
             ],
             [
              0.5555555555555556,
              "#d8576b"
             ],
             [
              0.6666666666666666,
              "#ed7953"
             ],
             [
              0.7777777777777778,
              "#fb9f3a"
             ],
             [
              0.8888888888888888,
              "#fdca26"
             ],
             [
              1,
              "#f0f921"
             ]
            ],
            "type": "heatmapgl"
           }
          ],
          "histogram": [
           {
            "marker": {
             "colorbar": {
              "outlinewidth": 0,
              "ticks": ""
             }
            },
            "type": "histogram"
           }
          ],
          "histogram2d": [
           {
            "colorbar": {
             "outlinewidth": 0,
             "ticks": ""
            },
            "colorscale": [
             [
              0,
              "#0d0887"
             ],
             [
              0.1111111111111111,
              "#46039f"
             ],
             [
              0.2222222222222222,
              "#7201a8"
             ],
             [
              0.3333333333333333,
              "#9c179e"
             ],
             [
              0.4444444444444444,
              "#bd3786"
             ],
             [
              0.5555555555555556,
              "#d8576b"
             ],
             [
              0.6666666666666666,
              "#ed7953"
             ],
             [
              0.7777777777777778,
              "#fb9f3a"
             ],
             [
              0.8888888888888888,
              "#fdca26"
             ],
             [
              1,
              "#f0f921"
             ]
            ],
            "type": "histogram2d"
           }
          ],
          "histogram2dcontour": [
           {
            "colorbar": {
             "outlinewidth": 0,
             "ticks": ""
            },
            "colorscale": [
             [
              0,
              "#0d0887"
             ],
             [
              0.1111111111111111,
              "#46039f"
             ],
             [
              0.2222222222222222,
              "#7201a8"
             ],
             [
              0.3333333333333333,
              "#9c179e"
             ],
             [
              0.4444444444444444,
              "#bd3786"
             ],
             [
              0.5555555555555556,
              "#d8576b"
             ],
             [
              0.6666666666666666,
              "#ed7953"
             ],
             [
              0.7777777777777778,
              "#fb9f3a"
             ],
             [
              0.8888888888888888,
              "#fdca26"
             ],
             [
              1,
              "#f0f921"
             ]
            ],
            "type": "histogram2dcontour"
           }
          ],
          "mesh3d": [
           {
            "colorbar": {
             "outlinewidth": 0,
             "ticks": ""
            },
            "type": "mesh3d"
           }
          ],
          "parcoords": [
           {
            "line": {
             "colorbar": {
              "outlinewidth": 0,
              "ticks": ""
             }
            },
            "type": "parcoords"
           }
          ],
          "pie": [
           {
            "automargin": true,
            "type": "pie"
           }
          ],
          "scatter": [
           {
            "marker": {
             "colorbar": {
              "outlinewidth": 0,
              "ticks": ""
             }
            },
            "type": "scatter"
           }
          ],
          "scatter3d": [
           {
            "line": {
             "colorbar": {
              "outlinewidth": 0,
              "ticks": ""
             }
            },
            "marker": {
             "colorbar": {
              "outlinewidth": 0,
              "ticks": ""
             }
            },
            "type": "scatter3d"
           }
          ],
          "scattercarpet": [
           {
            "marker": {
             "colorbar": {
              "outlinewidth": 0,
              "ticks": ""
             }
            },
            "type": "scattercarpet"
           }
          ],
          "scattergeo": [
           {
            "marker": {
             "colorbar": {
              "outlinewidth": 0,
              "ticks": ""
             }
            },
            "type": "scattergeo"
           }
          ],
          "scattergl": [
           {
            "marker": {
             "colorbar": {
              "outlinewidth": 0,
              "ticks": ""
             }
            },
            "type": "scattergl"
           }
          ],
          "scattermapbox": [
           {
            "marker": {
             "colorbar": {
              "outlinewidth": 0,
              "ticks": ""
             }
            },
            "type": "scattermapbox"
           }
          ],
          "scatterpolar": [
           {
            "marker": {
             "colorbar": {
              "outlinewidth": 0,
              "ticks": ""
             }
            },
            "type": "scatterpolar"
           }
          ],
          "scatterpolargl": [
           {
            "marker": {
             "colorbar": {
              "outlinewidth": 0,
              "ticks": ""
             }
            },
            "type": "scatterpolargl"
           }
          ],
          "scatterternary": [
           {
            "marker": {
             "colorbar": {
              "outlinewidth": 0,
              "ticks": ""
             }
            },
            "type": "scatterternary"
           }
          ],
          "surface": [
           {
            "colorbar": {
             "outlinewidth": 0,
             "ticks": ""
            },
            "colorscale": [
             [
              0,
              "#0d0887"
             ],
             [
              0.1111111111111111,
              "#46039f"
             ],
             [
              0.2222222222222222,
              "#7201a8"
             ],
             [
              0.3333333333333333,
              "#9c179e"
             ],
             [
              0.4444444444444444,
              "#bd3786"
             ],
             [
              0.5555555555555556,
              "#d8576b"
             ],
             [
              0.6666666666666666,
              "#ed7953"
             ],
             [
              0.7777777777777778,
              "#fb9f3a"
             ],
             [
              0.8888888888888888,
              "#fdca26"
             ],
             [
              1,
              "#f0f921"
             ]
            ],
            "type": "surface"
           }
          ],
          "table": [
           {
            "cells": {
             "fill": {
              "color": "#EBF0F8"
             },
             "line": {
              "color": "white"
             }
            },
            "header": {
             "fill": {
              "color": "#C8D4E3"
             },
             "line": {
              "color": "white"
             }
            },
            "type": "table"
           }
          ]
         },
         "layout": {
          "annotationdefaults": {
           "arrowcolor": "#2a3f5f",
           "arrowhead": 0,
           "arrowwidth": 1
          },
          "coloraxis": {
           "colorbar": {
            "outlinewidth": 0,
            "ticks": ""
           }
          },
          "colorscale": {
           "diverging": [
            [
             0,
             "#8e0152"
            ],
            [
             0.1,
             "#c51b7d"
            ],
            [
             0.2,
             "#de77ae"
            ],
            [
             0.3,
             "#f1b6da"
            ],
            [
             0.4,
             "#fde0ef"
            ],
            [
             0.5,
             "#f7f7f7"
            ],
            [
             0.6,
             "#e6f5d0"
            ],
            [
             0.7,
             "#b8e186"
            ],
            [
             0.8,
             "#7fbc41"
            ],
            [
             0.9,
             "#4d9221"
            ],
            [
             1,
             "#276419"
            ]
           ],
           "sequential": [
            [
             0,
             "#0d0887"
            ],
            [
             0.1111111111111111,
             "#46039f"
            ],
            [
             0.2222222222222222,
             "#7201a8"
            ],
            [
             0.3333333333333333,
             "#9c179e"
            ],
            [
             0.4444444444444444,
             "#bd3786"
            ],
            [
             0.5555555555555556,
             "#d8576b"
            ],
            [
             0.6666666666666666,
             "#ed7953"
            ],
            [
             0.7777777777777778,
             "#fb9f3a"
            ],
            [
             0.8888888888888888,
             "#fdca26"
            ],
            [
             1,
             "#f0f921"
            ]
           ],
           "sequentialminus": [
            [
             0,
             "#0d0887"
            ],
            [
             0.1111111111111111,
             "#46039f"
            ],
            [
             0.2222222222222222,
             "#7201a8"
            ],
            [
             0.3333333333333333,
             "#9c179e"
            ],
            [
             0.4444444444444444,
             "#bd3786"
            ],
            [
             0.5555555555555556,
             "#d8576b"
            ],
            [
             0.6666666666666666,
             "#ed7953"
            ],
            [
             0.7777777777777778,
             "#fb9f3a"
            ],
            [
             0.8888888888888888,
             "#fdca26"
            ],
            [
             1,
             "#f0f921"
            ]
           ]
          },
          "colorway": [
           "#636efa",
           "#EF553B",
           "#00cc96",
           "#ab63fa",
           "#FFA15A",
           "#19d3f3",
           "#FF6692",
           "#B6E880",
           "#FF97FF",
           "#FECB52"
          ],
          "font": {
           "color": "#2a3f5f"
          },
          "geo": {
           "bgcolor": "white",
           "lakecolor": "white",
           "landcolor": "#E5ECF6",
           "showlakes": true,
           "showland": true,
           "subunitcolor": "white"
          },
          "hoverlabel": {
           "align": "left"
          },
          "hovermode": "closest",
          "mapbox": {
           "style": "light"
          },
          "paper_bgcolor": "white",
          "plot_bgcolor": "#E5ECF6",
          "polar": {
           "angularaxis": {
            "gridcolor": "white",
            "linecolor": "white",
            "ticks": ""
           },
           "bgcolor": "#E5ECF6",
           "radialaxis": {
            "gridcolor": "white",
            "linecolor": "white",
            "ticks": ""
           }
          },
          "scene": {
           "xaxis": {
            "backgroundcolor": "#E5ECF6",
            "gridcolor": "white",
            "gridwidth": 2,
            "linecolor": "white",
            "showbackground": true,
            "ticks": "",
            "zerolinecolor": "white"
           },
           "yaxis": {
            "backgroundcolor": "#E5ECF6",
            "gridcolor": "white",
            "gridwidth": 2,
            "linecolor": "white",
            "showbackground": true,
            "ticks": "",
            "zerolinecolor": "white"
           },
           "zaxis": {
            "backgroundcolor": "#E5ECF6",
            "gridcolor": "white",
            "gridwidth": 2,
            "linecolor": "white",
            "showbackground": true,
            "ticks": "",
            "zerolinecolor": "white"
           }
          },
          "shapedefaults": {
           "line": {
            "color": "#2a3f5f"
           }
          },
          "ternary": {
           "aaxis": {
            "gridcolor": "white",
            "linecolor": "white",
            "ticks": ""
           },
           "baxis": {
            "gridcolor": "white",
            "linecolor": "white",
            "ticks": ""
           },
           "bgcolor": "#E5ECF6",
           "caxis": {
            "gridcolor": "white",
            "linecolor": "white",
            "ticks": ""
           }
          },
          "title": {
           "x": 0.05
          },
          "xaxis": {
           "automargin": true,
           "gridcolor": "white",
           "linecolor": "white",
           "ticks": "",
           "title": {
            "standoff": 15
           },
           "zerolinecolor": "white",
           "zerolinewidth": 2
          },
          "yaxis": {
           "automargin": true,
           "gridcolor": "white",
           "linecolor": "white",
           "ticks": "",
           "title": {
            "standoff": 15
           },
           "zerolinecolor": "white",
           "zerolinewidth": 2
          }
         }
        },
        "title": {
         "text": "Přírůstky celá ČR"
        },
        "xaxis": {
         "anchor": "y",
         "domain": [
          0,
          1
         ],
         "title": {
          "text": "Datum"
         }
        },
        "yaxis": {
         "anchor": "x",
         "domain": [
          0,
          1
         ],
         "title": {
          "text": "Počet"
         }
        }
       }
      },
      "text/html": [
       "<div>                            <div id=\"5cbb0996-7d46-4476-aa7f-adfb22a38c13\" class=\"plotly-graph-div\" style=\"height:525px; width:100%;\"></div>            <script type=\"text/javascript\">                require([\"plotly\"], function(Plotly) {                    window.PLOTLYENV=window.PLOTLYENV || {};                                    if (document.getElementById(\"5cbb0996-7d46-4476-aa7f-adfb22a38c13\")) {                    Plotly.newPlot(                        \"5cbb0996-7d46-4476-aa7f-adfb22a38c13\",                        [{\"hovertemplate\": \"Datum=%{x}<br>Po\\u010det=%{y}<extra></extra>\", \"legendgroup\": \"\", \"line\": {\"color\": \"rgb(158,1,66)\", \"dash\": \"solid\"}, \"mode\": \"lines\", \"name\": \"\", \"orientation\": \"v\", \"showlegend\": false, \"type\": \"scatter\", \"x\": [\"2020-03-01T00:00:00\", \"2020-03-03T00:00:00\", \"2020-03-04T00:00:00\", \"2020-03-05T00:00:00\", \"2020-03-06T00:00:00\", \"2020-03-07T00:00:00\", \"2020-03-08T00:00:00\", \"2020-03-09T00:00:00\", \"2020-03-10T00:00:00\", \"2020-03-11T00:00:00\", \"2020-03-12T00:00:00\", \"2020-03-13T00:00:00\", \"2020-03-14T00:00:00\", \"2020-03-15T00:00:00\", \"2020-03-16T00:00:00\", \"2020-03-17T00:00:00\", \"2020-03-18T00:00:00\", \"2020-03-19T00:00:00\", \"2020-03-20T00:00:00\", \"2020-03-21T00:00:00\", \"2020-03-22T00:00:00\", \"2020-03-23T00:00:00\", \"2020-03-24T00:00:00\", \"2020-03-25T00:00:00\", \"2020-03-26T00:00:00\", \"2020-03-27T00:00:00\", \"2020-03-28T00:00:00\", \"2020-03-29T00:00:00\", \"2020-03-30T00:00:00\", \"2020-03-31T00:00:00\", \"2020-04-01T00:00:00\", \"2020-04-02T00:00:00\", \"2020-04-03T00:00:00\", \"2020-04-04T00:00:00\", \"2020-04-05T00:00:00\", \"2020-04-06T00:00:00\", \"2020-04-07T00:00:00\", \"2020-04-08T00:00:00\", \"2020-04-09T00:00:00\", \"2020-04-10T00:00:00\", \"2020-04-11T00:00:00\", \"2020-04-12T00:00:00\", \"2020-04-13T00:00:00\", \"2020-04-14T00:00:00\", \"2020-04-15T00:00:00\", \"2020-04-16T00:00:00\", \"2020-04-17T00:00:00\", \"2020-04-18T00:00:00\", \"2020-04-19T00:00:00\", \"2020-04-20T00:00:00\", \"2020-04-21T00:00:00\", \"2020-04-22T00:00:00\", \"2020-04-23T00:00:00\", \"2020-04-24T00:00:00\", \"2020-04-25T00:00:00\", \"2020-04-26T00:00:00\", \"2020-04-27T00:00:00\", \"2020-04-28T00:00:00\", \"2020-04-29T00:00:00\", \"2020-04-30T00:00:00\", \"2020-05-01T00:00:00\", \"2020-05-02T00:00:00\", \"2020-05-03T00:00:00\", \"2020-05-04T00:00:00\", \"2020-05-05T00:00:00\", \"2020-05-06T00:00:00\", \"2020-05-07T00:00:00\", \"2020-05-08T00:00:00\", \"2020-05-09T00:00:00\", \"2020-05-10T00:00:00\", \"2020-05-11T00:00:00\", \"2020-05-12T00:00:00\", \"2020-05-13T00:00:00\", \"2020-05-14T00:00:00\", \"2020-05-15T00:00:00\", \"2020-05-16T00:00:00\", \"2020-05-17T00:00:00\", \"2020-05-18T00:00:00\", \"2020-05-19T00:00:00\", \"2020-05-20T00:00:00\", \"2020-05-21T00:00:00\", \"2020-05-22T00:00:00\", \"2020-05-23T00:00:00\", \"2020-05-24T00:00:00\", \"2020-05-25T00:00:00\", \"2020-05-26T00:00:00\", \"2020-05-27T00:00:00\", \"2020-05-28T00:00:00\", \"2020-05-29T00:00:00\", \"2020-05-30T00:00:00\", \"2020-05-31T00:00:00\", \"2020-06-01T00:00:00\", \"2020-06-02T00:00:00\", \"2020-06-03T00:00:00\", \"2020-06-04T00:00:00\", \"2020-06-05T00:00:00\", \"2020-06-06T00:00:00\", \"2020-06-07T00:00:00\", \"2020-06-08T00:00:00\", \"2020-06-09T00:00:00\", \"2020-06-10T00:00:00\", \"2020-06-11T00:00:00\", \"2020-06-12T00:00:00\", \"2020-06-13T00:00:00\", \"2020-06-14T00:00:00\", \"2020-06-15T00:00:00\", \"2020-06-16T00:00:00\", \"2020-06-17T00:00:00\", \"2020-06-18T00:00:00\", \"2020-06-19T00:00:00\", \"2020-06-20T00:00:00\", \"2020-06-21T00:00:00\", \"2020-06-22T00:00:00\", \"2020-06-23T00:00:00\", \"2020-06-24T00:00:00\", \"2020-06-25T00:00:00\", \"2020-06-26T00:00:00\", \"2020-06-27T00:00:00\", \"2020-06-28T00:00:00\", \"2020-06-29T00:00:00\", \"2020-06-30T00:00:00\", \"2020-07-01T00:00:00\", \"2020-07-02T00:00:00\", \"2020-07-03T00:00:00\", \"2020-07-04T00:00:00\", \"2020-07-05T00:00:00\", \"2020-07-06T00:00:00\", \"2020-07-07T00:00:00\", \"2020-07-08T00:00:00\", \"2020-07-09T00:00:00\", \"2020-07-10T00:00:00\", \"2020-07-11T00:00:00\", \"2020-07-12T00:00:00\", \"2020-07-13T00:00:00\", \"2020-07-14T00:00:00\", \"2020-07-15T00:00:00\", \"2020-07-16T00:00:00\", \"2020-07-17T00:00:00\", \"2020-07-18T00:00:00\", \"2020-07-19T00:00:00\", \"2020-07-20T00:00:00\", \"2020-07-21T00:00:00\", \"2020-07-22T00:00:00\", \"2020-07-23T00:00:00\", \"2020-07-24T00:00:00\", \"2020-07-25T00:00:00\", \"2020-07-26T00:00:00\", \"2020-07-27T00:00:00\", \"2020-07-28T00:00:00\", \"2020-07-29T00:00:00\", \"2020-07-30T00:00:00\", \"2020-07-31T00:00:00\", \"2020-08-01T00:00:00\", \"2020-08-02T00:00:00\", \"2020-08-03T00:00:00\", \"2020-08-04T00:00:00\", \"2020-08-05T00:00:00\", \"2020-08-06T00:00:00\", \"2020-08-07T00:00:00\", \"2020-08-08T00:00:00\", \"2020-08-09T00:00:00\", \"2020-08-10T00:00:00\", \"2020-08-11T00:00:00\", \"2020-08-12T00:00:00\", \"2020-08-13T00:00:00\", \"2020-08-14T00:00:00\", \"2020-08-15T00:00:00\", \"2020-08-16T00:00:00\", \"2020-08-17T00:00:00\", \"2020-08-18T00:00:00\", \"2020-08-19T00:00:00\", \"2020-08-20T00:00:00\", \"2020-08-21T00:00:00\", \"2020-08-22T00:00:00\", \"2020-08-23T00:00:00\", \"2020-08-24T00:00:00\", \"2020-08-25T00:00:00\", \"2020-08-26T00:00:00\", \"2020-08-27T00:00:00\", \"2020-08-28T00:00:00\", \"2020-08-29T00:00:00\", \"2020-08-30T00:00:00\", \"2020-08-31T00:00:00\", \"2020-09-01T00:00:00\", \"2020-09-02T00:00:00\", \"2020-09-03T00:00:00\", \"2020-09-04T00:00:00\", \"2020-09-05T00:00:00\", \"2020-09-06T00:00:00\", \"2020-09-07T00:00:00\", \"2020-09-08T00:00:00\", \"2020-09-09T00:00:00\", \"2020-09-10T00:00:00\", \"2020-09-11T00:00:00\", \"2020-09-12T00:00:00\", \"2020-09-13T00:00:00\", \"2020-09-14T00:00:00\", \"2020-09-15T00:00:00\", \"2020-09-16T00:00:00\", \"2020-09-17T00:00:00\", \"2020-09-18T00:00:00\", \"2020-09-19T00:00:00\", \"2020-09-20T00:00:00\", \"2020-09-21T00:00:00\", \"2020-09-22T00:00:00\", \"2020-09-23T00:00:00\", \"2020-09-24T00:00:00\", \"2020-09-25T00:00:00\", \"2020-09-26T00:00:00\", \"2020-09-27T00:00:00\", \"2020-09-28T00:00:00\", \"2020-09-29T00:00:00\", \"2020-09-30T00:00:00\", \"2020-10-01T00:00:00\", \"2020-10-02T00:00:00\", \"2020-10-03T00:00:00\", \"2020-10-04T00:00:00\", \"2020-10-05T00:00:00\", \"2020-10-06T00:00:00\", \"2020-10-07T00:00:00\", \"2020-10-08T00:00:00\", \"2020-10-09T00:00:00\", \"2020-10-10T00:00:00\", \"2020-10-11T00:00:00\", \"2020-10-12T00:00:00\", \"2020-10-13T00:00:00\", \"2020-10-14T00:00:00\", \"2020-10-15T00:00:00\", \"2020-10-16T00:00:00\", \"2020-10-17T00:00:00\", \"2020-10-18T00:00:00\", \"2020-10-19T00:00:00\", \"2020-10-20T00:00:00\", \"2020-10-21T00:00:00\", \"2020-10-22T00:00:00\", \"2020-10-23T00:00:00\"], \"xaxis\": \"x\", \"y\": [3, 1, 1, 3, 11, 7, 6, 6, 25, 31, 22, 25, 47, 107, 81, 65, 109, 202, 121, 154, 115, 125, 185, 287, 258, 374, 262, 159, 184, 302, 281, 265, 330, 273, 116, 233, 189, 287, 253, 159, 169, 88, 63, 79, 158, 127, 111, 105, 92, 145, 132, 97, 53, 80, 79, 50, 41, 59, 59, 75, 52, 17, 26, 31, 71, 75, 53, 45, 18, 28, 49, 38, 46, 82, 53, 40, 19, 106, 52, 68, 31, 56, 75, 62, 45, 43, 30, 50, 51, 29, 25, 28, 55, 62, 51, 25, 37, 57, 68, 51, 68, 50, 47, 50, 31, 36, 42, 47, 108, 114, 38, 48, 57, 87, 123, 84, 148, 203, 244, 177, 127, 83, 124, 126, 118, 73, 50, 114, 105, 95, 118, 52, 55, 61, 97, 124, 134, 119, 99, 86, 154, 196, 225, 218, 261, 125, 105, 184, 264, 265, 248, 215, 112, 100, 193, 272, 230, 205, 304, 164, 115, 132, 273, 267, 311, 271, 175, 111, 179, 263, 294, 232, 476, 223, 123, 242, 351, 365, 334, 463, 311, 256, 238, 480, 616, 637, 751, 475, 384, 537, 1085, 1061, 1289, 1337, 1425, 744, 955, 1564, 1979, 2799, 1877, 1767, 849, 1322, 2156, 2023, 2513, 2856, 1933, 1274, 1244, 1918, 2849, 3434, 3721, 2507, 1782, 3027, 4340, 5138, 5210, 8317, 4525, 3013, 4079, 7957, 9191, 9210, 10655, 8442, 4964, 7815, 11626, 14446, 13671, 6619], \"yaxis\": \"y\"}],                        {\"legend\": {\"tracegroupgap\": 0}, \"template\": {\"data\": {\"bar\": [{\"error_x\": {\"color\": \"#2a3f5f\"}, \"error_y\": {\"color\": \"#2a3f5f\"}, \"marker\": {\"line\": {\"color\": \"#E5ECF6\", \"width\": 0.5}}, \"type\": \"bar\"}], \"barpolar\": [{\"marker\": {\"line\": {\"color\": \"#E5ECF6\", \"width\": 0.5}}, \"type\": \"barpolar\"}], \"carpet\": [{\"aaxis\": {\"endlinecolor\": \"#2a3f5f\", \"gridcolor\": \"white\", \"linecolor\": \"white\", \"minorgridcolor\": \"white\", \"startlinecolor\": \"#2a3f5f\"}, \"baxis\": {\"endlinecolor\": \"#2a3f5f\", \"gridcolor\": \"white\", \"linecolor\": \"white\", \"minorgridcolor\": \"white\", \"startlinecolor\": \"#2a3f5f\"}, \"type\": \"carpet\"}], \"choropleth\": [{\"colorbar\": {\"outlinewidth\": 0, \"ticks\": \"\"}, \"type\": \"choropleth\"}], \"contour\": [{\"colorbar\": {\"outlinewidth\": 0, \"ticks\": \"\"}, \"colorscale\": [[0.0, \"#0d0887\"], [0.1111111111111111, \"#46039f\"], [0.2222222222222222, \"#7201a8\"], [0.3333333333333333, \"#9c179e\"], [0.4444444444444444, \"#bd3786\"], [0.5555555555555556, \"#d8576b\"], [0.6666666666666666, \"#ed7953\"], [0.7777777777777778, \"#fb9f3a\"], [0.8888888888888888, \"#fdca26\"], [1.0, \"#f0f921\"]], \"type\": \"contour\"}], \"contourcarpet\": [{\"colorbar\": {\"outlinewidth\": 0, \"ticks\": \"\"}, \"type\": \"contourcarpet\"}], \"heatmap\": [{\"colorbar\": {\"outlinewidth\": 0, \"ticks\": \"\"}, \"colorscale\": [[0.0, \"#0d0887\"], [0.1111111111111111, \"#46039f\"], [0.2222222222222222, \"#7201a8\"], [0.3333333333333333, \"#9c179e\"], [0.4444444444444444, \"#bd3786\"], [0.5555555555555556, \"#d8576b\"], [0.6666666666666666, \"#ed7953\"], [0.7777777777777778, \"#fb9f3a\"], [0.8888888888888888, \"#fdca26\"], [1.0, \"#f0f921\"]], \"type\": \"heatmap\"}], \"heatmapgl\": [{\"colorbar\": {\"outlinewidth\": 0, \"ticks\": \"\"}, \"colorscale\": [[0.0, \"#0d0887\"], [0.1111111111111111, \"#46039f\"], [0.2222222222222222, \"#7201a8\"], [0.3333333333333333, \"#9c179e\"], [0.4444444444444444, \"#bd3786\"], [0.5555555555555556, \"#d8576b\"], [0.6666666666666666, \"#ed7953\"], [0.7777777777777778, \"#fb9f3a\"], [0.8888888888888888, \"#fdca26\"], [1.0, \"#f0f921\"]], \"type\": \"heatmapgl\"}], \"histogram\": [{\"marker\": {\"colorbar\": {\"outlinewidth\": 0, \"ticks\": \"\"}}, \"type\": \"histogram\"}], \"histogram2d\": [{\"colorbar\": {\"outlinewidth\": 0, \"ticks\": \"\"}, \"colorscale\": [[0.0, \"#0d0887\"], [0.1111111111111111, \"#46039f\"], [0.2222222222222222, \"#7201a8\"], [0.3333333333333333, \"#9c179e\"], [0.4444444444444444, \"#bd3786\"], [0.5555555555555556, \"#d8576b\"], [0.6666666666666666, \"#ed7953\"], [0.7777777777777778, \"#fb9f3a\"], [0.8888888888888888, \"#fdca26\"], [1.0, \"#f0f921\"]], \"type\": \"histogram2d\"}], \"histogram2dcontour\": [{\"colorbar\": {\"outlinewidth\": 0, \"ticks\": \"\"}, \"colorscale\": [[0.0, \"#0d0887\"], [0.1111111111111111, \"#46039f\"], [0.2222222222222222, \"#7201a8\"], [0.3333333333333333, \"#9c179e\"], [0.4444444444444444, \"#bd3786\"], [0.5555555555555556, \"#d8576b\"], [0.6666666666666666, \"#ed7953\"], [0.7777777777777778, \"#fb9f3a\"], [0.8888888888888888, \"#fdca26\"], [1.0, \"#f0f921\"]], \"type\": \"histogram2dcontour\"}], \"mesh3d\": [{\"colorbar\": {\"outlinewidth\": 0, \"ticks\": \"\"}, \"type\": \"mesh3d\"}], \"parcoords\": [{\"line\": {\"colorbar\": {\"outlinewidth\": 0, \"ticks\": \"\"}}, \"type\": \"parcoords\"}], \"pie\": [{\"automargin\": true, \"type\": \"pie\"}], \"scatter\": [{\"marker\": {\"colorbar\": {\"outlinewidth\": 0, \"ticks\": \"\"}}, \"type\": \"scatter\"}], \"scatter3d\": [{\"line\": {\"colorbar\": {\"outlinewidth\": 0, \"ticks\": \"\"}}, \"marker\": {\"colorbar\": {\"outlinewidth\": 0, \"ticks\": \"\"}}, \"type\": \"scatter3d\"}], \"scattercarpet\": [{\"marker\": {\"colorbar\": {\"outlinewidth\": 0, \"ticks\": \"\"}}, \"type\": \"scattercarpet\"}], \"scattergeo\": [{\"marker\": {\"colorbar\": {\"outlinewidth\": 0, \"ticks\": \"\"}}, \"type\": \"scattergeo\"}], \"scattergl\": [{\"marker\": {\"colorbar\": {\"outlinewidth\": 0, \"ticks\": \"\"}}, \"type\": \"scattergl\"}], \"scattermapbox\": [{\"marker\": {\"colorbar\": {\"outlinewidth\": 0, \"ticks\": \"\"}}, \"type\": \"scattermapbox\"}], \"scatterpolar\": [{\"marker\": {\"colorbar\": {\"outlinewidth\": 0, \"ticks\": \"\"}}, \"type\": \"scatterpolar\"}], \"scatterpolargl\": [{\"marker\": {\"colorbar\": {\"outlinewidth\": 0, \"ticks\": \"\"}}, \"type\": \"scatterpolargl\"}], \"scatterternary\": [{\"marker\": {\"colorbar\": {\"outlinewidth\": 0, \"ticks\": \"\"}}, \"type\": \"scatterternary\"}], \"surface\": [{\"colorbar\": {\"outlinewidth\": 0, \"ticks\": \"\"}, \"colorscale\": [[0.0, \"#0d0887\"], [0.1111111111111111, \"#46039f\"], [0.2222222222222222, \"#7201a8\"], [0.3333333333333333, \"#9c179e\"], [0.4444444444444444, \"#bd3786\"], [0.5555555555555556, \"#d8576b\"], [0.6666666666666666, \"#ed7953\"], [0.7777777777777778, \"#fb9f3a\"], [0.8888888888888888, \"#fdca26\"], [1.0, \"#f0f921\"]], \"type\": \"surface\"}], \"table\": [{\"cells\": {\"fill\": {\"color\": \"#EBF0F8\"}, \"line\": {\"color\": \"white\"}}, \"header\": {\"fill\": {\"color\": \"#C8D4E3\"}, \"line\": {\"color\": \"white\"}}, \"type\": \"table\"}]}, \"layout\": {\"annotationdefaults\": {\"arrowcolor\": \"#2a3f5f\", \"arrowhead\": 0, \"arrowwidth\": 1}, \"coloraxis\": {\"colorbar\": {\"outlinewidth\": 0, \"ticks\": \"\"}}, \"colorscale\": {\"diverging\": [[0, \"#8e0152\"], [0.1, \"#c51b7d\"], [0.2, \"#de77ae\"], [0.3, \"#f1b6da\"], [0.4, \"#fde0ef\"], [0.5, \"#f7f7f7\"], [0.6, \"#e6f5d0\"], [0.7, \"#b8e186\"], [0.8, \"#7fbc41\"], [0.9, \"#4d9221\"], [1, \"#276419\"]], \"sequential\": [[0.0, \"#0d0887\"], [0.1111111111111111, \"#46039f\"], [0.2222222222222222, \"#7201a8\"], [0.3333333333333333, \"#9c179e\"], [0.4444444444444444, \"#bd3786\"], [0.5555555555555556, \"#d8576b\"], [0.6666666666666666, \"#ed7953\"], [0.7777777777777778, \"#fb9f3a\"], [0.8888888888888888, \"#fdca26\"], [1.0, \"#f0f921\"]], \"sequentialminus\": [[0.0, \"#0d0887\"], [0.1111111111111111, \"#46039f\"], [0.2222222222222222, \"#7201a8\"], [0.3333333333333333, \"#9c179e\"], [0.4444444444444444, \"#bd3786\"], [0.5555555555555556, \"#d8576b\"], [0.6666666666666666, \"#ed7953\"], [0.7777777777777778, \"#fb9f3a\"], [0.8888888888888888, \"#fdca26\"], [1.0, \"#f0f921\"]]}, \"colorway\": [\"#636efa\", \"#EF553B\", \"#00cc96\", \"#ab63fa\", \"#FFA15A\", \"#19d3f3\", \"#FF6692\", \"#B6E880\", \"#FF97FF\", \"#FECB52\"], \"font\": {\"color\": \"#2a3f5f\"}, \"geo\": {\"bgcolor\": \"white\", \"lakecolor\": \"white\", \"landcolor\": \"#E5ECF6\", \"showlakes\": true, \"showland\": true, \"subunitcolor\": \"white\"}, \"hoverlabel\": {\"align\": \"left\"}, \"hovermode\": \"closest\", \"mapbox\": {\"style\": \"light\"}, \"paper_bgcolor\": \"white\", \"plot_bgcolor\": \"#E5ECF6\", \"polar\": {\"angularaxis\": {\"gridcolor\": \"white\", \"linecolor\": \"white\", \"ticks\": \"\"}, \"bgcolor\": \"#E5ECF6\", \"radialaxis\": {\"gridcolor\": \"white\", \"linecolor\": \"white\", \"ticks\": \"\"}}, \"scene\": {\"xaxis\": {\"backgroundcolor\": \"#E5ECF6\", \"gridcolor\": \"white\", \"gridwidth\": 2, \"linecolor\": \"white\", \"showbackground\": true, \"ticks\": \"\", \"zerolinecolor\": \"white\"}, \"yaxis\": {\"backgroundcolor\": \"#E5ECF6\", \"gridcolor\": \"white\", \"gridwidth\": 2, \"linecolor\": \"white\", \"showbackground\": true, \"ticks\": \"\", \"zerolinecolor\": \"white\"}, \"zaxis\": {\"backgroundcolor\": \"#E5ECF6\", \"gridcolor\": \"white\", \"gridwidth\": 2, \"linecolor\": \"white\", \"showbackground\": true, \"ticks\": \"\", \"zerolinecolor\": \"white\"}}, \"shapedefaults\": {\"line\": {\"color\": \"#2a3f5f\"}}, \"ternary\": {\"aaxis\": {\"gridcolor\": \"white\", \"linecolor\": \"white\", \"ticks\": \"\"}, \"baxis\": {\"gridcolor\": \"white\", \"linecolor\": \"white\", \"ticks\": \"\"}, \"bgcolor\": \"#E5ECF6\", \"caxis\": {\"gridcolor\": \"white\", \"linecolor\": \"white\", \"ticks\": \"\"}}, \"title\": {\"x\": 0.05}, \"xaxis\": {\"automargin\": true, \"gridcolor\": \"white\", \"linecolor\": \"white\", \"ticks\": \"\", \"title\": {\"standoff\": 15}, \"zerolinecolor\": \"white\", \"zerolinewidth\": 2}, \"yaxis\": {\"automargin\": true, \"gridcolor\": \"white\", \"linecolor\": \"white\", \"ticks\": \"\", \"title\": {\"standoff\": 15}, \"zerolinecolor\": \"white\", \"zerolinewidth\": 2}}}, \"title\": {\"text\": \"P\\u0159\\u00edr\\u016fstky cel\\u00e1 \\u010cR\"}, \"xaxis\": {\"anchor\": \"y\", \"domain\": [0.0, 1.0], \"title\": {\"text\": \"Datum\"}}, \"yaxis\": {\"anchor\": \"x\", \"domain\": [0.0, 1.0], \"title\": {\"text\": \"Po\\u010det\"}}},                        {\"responsive\": true}                    ).then(function(){\n",
       "                            \n",
       "var gd = document.getElementById('5cbb0996-7d46-4476-aa7f-adfb22a38c13');\n",
       "var x = new MutationObserver(function (mutations, observer) {{\n",
       "        var display = window.getComputedStyle(gd).display;\n",
       "        if (!display || display === 'none') {{\n",
       "            console.log([gd, 'removed!']);\n",
       "            Plotly.purge(gd);\n",
       "            observer.disconnect();\n",
       "        }}\n",
       "}});\n",
       "\n",
       "// Listen for the removal of the full notebook cells\n",
       "var notebookContainer = gd.closest('#notebook-container');\n",
       "if (notebookContainer) {{\n",
       "    x.observe(notebookContainer, {childList: true});\n",
       "}}\n",
       "\n",
       "// Listen for the clearing of the current output cell\n",
       "var outputEl = gd.closest('.output');\n",
       "if (outputEl) {{\n",
       "    x.observe(outputEl, {childList: true});\n",
       "}}\n",
       "\n",
       "                        })                };                });            </script>        </div>"
      ]
     },
     "metadata": {},
     "output_type": "display_data"
    }
   ],
   "source": [
    "republic_total_line_graph = px.line(total_count_date, x='datum', y='vek',\n",
    "                                    labels={'datum': 'Datum', 'vek': 'Počet'}, title='Přírůstky celá ČR',\n",
    "                                    template='plotly', color_discrete_sequence=px.colors.diverging.Spectral)\n",
    "\n",
    "republic_total_line_graph.show()"
   ]
  },
  {
   "cell_type": "code",
   "execution_count": 32,
   "metadata": {},
   "outputs": [
    {
     "data": {
      "text/html": [
       "\n",
       "<div id=\"altair-viz-376bf43708ad409d93982a3fab80f507\"></div>\n",
       "<script type=\"text/javascript\">\n",
       "  (function(spec, embedOpt){\n",
       "    let outputDiv = document.currentScript.previousElementSibling;\n",
       "    if (outputDiv.id !== \"altair-viz-376bf43708ad409d93982a3fab80f507\") {\n",
       "      outputDiv = document.getElementById(\"altair-viz-376bf43708ad409d93982a3fab80f507\");\n",
       "    }\n",
       "    const paths = {\n",
       "      \"vega\": \"https://cdn.jsdelivr.net/npm//vega@5?noext\",\n",
       "      \"vega-lib\": \"https://cdn.jsdelivr.net/npm//vega-lib?noext\",\n",
       "      \"vega-lite\": \"https://cdn.jsdelivr.net/npm//vega-lite@4.8.1?noext\",\n",
       "      \"vega-embed\": \"https://cdn.jsdelivr.net/npm//vega-embed@6?noext\",\n",
       "    };\n",
       "\n",
       "    function loadScript(lib) {\n",
       "      return new Promise(function(resolve, reject) {\n",
       "        var s = document.createElement('script');\n",
       "        s.src = paths[lib];\n",
       "        s.async = true;\n",
       "        s.onload = () => resolve(paths[lib]);\n",
       "        s.onerror = () => reject(`Error loading script: ${paths[lib]}`);\n",
       "        document.getElementsByTagName(\"head\")[0].appendChild(s);\n",
       "      });\n",
       "    }\n",
       "\n",
       "    function showError(err) {\n",
       "      outputDiv.innerHTML = `<div class=\"error\" style=\"color:red;\">${err}</div>`;\n",
       "      throw err;\n",
       "    }\n",
       "\n",
       "    function displayChart(vegaEmbed) {\n",
       "      vegaEmbed(outputDiv, spec, embedOpt)\n",
       "        .catch(err => showError(`Javascript Error: ${err.message}<br>This usually means there's a typo in your chart specification. See the javascript console for the full traceback.`));\n",
       "    }\n",
       "\n",
       "    if(typeof define === \"function\" && define.amd) {\n",
       "      requirejs.config({paths});\n",
       "      require([\"vega-embed\"], displayChart, err => showError(`Error loading script: ${err.message}`));\n",
       "    } else if (typeof vegaEmbed === \"function\") {\n",
       "      displayChart(vegaEmbed);\n",
       "    } else {\n",
       "      loadScript(\"vega\")\n",
       "        .then(() => loadScript(\"vega-lite\"))\n",
       "        .then(() => loadScript(\"vega-embed\"))\n",
       "        .catch(showError)\n",
       "        .then(() => displayChart(vegaEmbed));\n",
       "    }\n",
       "  })({\"config\": {\"view\": {\"continuousWidth\": 400, \"continuousHeight\": 300}}, \"data\": {\"name\": \"data-f9c3777a9f8b3e507eb647acb0d8a200\"}, \"mark\": \"line\", \"encoding\": {\"x\": {\"type\": \"temporal\", \"field\": \"datum\"}, \"y\": {\"type\": \"quantitative\", \"field\": \"vek\"}}, \"$schema\": \"https://vega.github.io/schema/vega-lite/v4.8.1.json\", \"datasets\": {\"data-f9c3777a9f8b3e507eb647acb0d8a200\": [{\"datum\": \"2020-03-01T00:00:00\", \"vek\": 3, \"pohlavi\": 3, \"kraj_nuts_kod\": 3, \"okres_lau_kod\": 3, \"nakaza_v_zahranici\": 3, \"nakaza_zeme_csu_kod\": 3, \"okres_nazev\": 3}, {\"datum\": \"2020-03-03T00:00:00\", \"vek\": 1, \"pohlavi\": 1, \"kraj_nuts_kod\": 1, \"okres_lau_kod\": 1, \"nakaza_v_zahranici\": 1, \"nakaza_zeme_csu_kod\": 1, \"okres_nazev\": 1}, {\"datum\": \"2020-03-04T00:00:00\", \"vek\": 1, \"pohlavi\": 1, \"kraj_nuts_kod\": 1, \"okres_lau_kod\": 1, \"nakaza_v_zahranici\": 1, \"nakaza_zeme_csu_kod\": 1, \"okres_nazev\": 1}, {\"datum\": \"2020-03-05T00:00:00\", \"vek\": 3, \"pohlavi\": 3, \"kraj_nuts_kod\": 3, \"okres_lau_kod\": 3, \"nakaza_v_zahranici\": 2, \"nakaza_zeme_csu_kod\": 2, \"okres_nazev\": 3}, {\"datum\": \"2020-03-06T00:00:00\", \"vek\": 11, \"pohlavi\": 11, \"kraj_nuts_kod\": 11, \"okres_lau_kod\": 11, \"nakaza_v_zahranici\": 8, \"nakaza_zeme_csu_kod\": 8, \"okres_nazev\": 11}, {\"datum\": \"2020-03-07T00:00:00\", \"vek\": 7, \"pohlavi\": 7, \"kraj_nuts_kod\": 7, \"okres_lau_kod\": 7, \"nakaza_v_zahranici\": 4, \"nakaza_zeme_csu_kod\": 4, \"okres_nazev\": 7}, {\"datum\": \"2020-03-08T00:00:00\", \"vek\": 6, \"pohlavi\": 6, \"kraj_nuts_kod\": 6, \"okres_lau_kod\": 6, \"nakaza_v_zahranici\": 4, \"nakaza_zeme_csu_kod\": 4, \"okres_nazev\": 6}, {\"datum\": \"2020-03-09T00:00:00\", \"vek\": 6, \"pohlavi\": 6, \"kraj_nuts_kod\": 6, \"okres_lau_kod\": 6, \"nakaza_v_zahranici\": 6, \"nakaza_zeme_csu_kod\": 6, \"okres_nazev\": 6}, {\"datum\": \"2020-03-10T00:00:00\", \"vek\": 25, \"pohlavi\": 25, \"kraj_nuts_kod\": 25, \"okres_lau_kod\": 25, \"nakaza_v_zahranici\": 16, \"nakaza_zeme_csu_kod\": 16, \"okres_nazev\": 25}, {\"datum\": \"2020-03-11T00:00:00\", \"vek\": 31, \"pohlavi\": 31, \"kraj_nuts_kod\": 31, \"okres_lau_kod\": 31, \"nakaza_v_zahranici\": 20, \"nakaza_zeme_csu_kod\": 20, \"okres_nazev\": 31}, {\"datum\": \"2020-03-12T00:00:00\", \"vek\": 22, \"pohlavi\": 22, \"kraj_nuts_kod\": 22, \"okres_lau_kod\": 22, \"nakaza_v_zahranici\": 9, \"nakaza_zeme_csu_kod\": 9, \"okres_nazev\": 22}, {\"datum\": \"2020-03-13T00:00:00\", \"vek\": 25, \"pohlavi\": 25, \"kraj_nuts_kod\": 25, \"okres_lau_kod\": 25, \"nakaza_v_zahranici\": 19, \"nakaza_zeme_csu_kod\": 19, \"okres_nazev\": 25}, {\"datum\": \"2020-03-14T00:00:00\", \"vek\": 47, \"pohlavi\": 47, \"kraj_nuts_kod\": 47, \"okres_lau_kod\": 47, \"nakaza_v_zahranici\": 20, \"nakaza_zeme_csu_kod\": 20, \"okres_nazev\": 47}, {\"datum\": \"2020-03-15T00:00:00\", \"vek\": 107, \"pohlavi\": 107, \"kraj_nuts_kod\": 107, \"okres_lau_kod\": 107, \"nakaza_v_zahranici\": 38, \"nakaza_zeme_csu_kod\": 38, \"okres_nazev\": 107}, {\"datum\": \"2020-03-16T00:00:00\", \"vek\": 81, \"pohlavi\": 81, \"kraj_nuts_kod\": 81, \"okres_lau_kod\": 81, \"nakaza_v_zahranici\": 23, \"nakaza_zeme_csu_kod\": 23, \"okres_nazev\": 81}, {\"datum\": \"2020-03-17T00:00:00\", \"vek\": 65, \"pohlavi\": 65, \"kraj_nuts_kod\": 65, \"okres_lau_kod\": 65, \"nakaza_v_zahranici\": 19, \"nakaza_zeme_csu_kod\": 19, \"okres_nazev\": 65}, {\"datum\": \"2020-03-18T00:00:00\", \"vek\": 109, \"pohlavi\": 109, \"kraj_nuts_kod\": 109, \"okres_lau_kod\": 109, \"nakaza_v_zahranici\": 28, \"nakaza_zeme_csu_kod\": 28, \"okres_nazev\": 109}, {\"datum\": \"2020-03-19T00:00:00\", \"vek\": 202, \"pohlavi\": 202, \"kraj_nuts_kod\": 202, \"okres_lau_kod\": 202, \"nakaza_v_zahranici\": 32, \"nakaza_zeme_csu_kod\": 32, \"okres_nazev\": 202}, {\"datum\": \"2020-03-20T00:00:00\", \"vek\": 121, \"pohlavi\": 121, \"kraj_nuts_kod\": 121, \"okres_lau_kod\": 121, \"nakaza_v_zahranici\": 21, \"nakaza_zeme_csu_kod\": 21, \"okres_nazev\": 121}, {\"datum\": \"2020-03-21T00:00:00\", \"vek\": 154, \"pohlavi\": 154, \"kraj_nuts_kod\": 154, \"okres_lau_kod\": 154, \"nakaza_v_zahranici\": 23, \"nakaza_zeme_csu_kod\": 23, \"okres_nazev\": 154}, {\"datum\": \"2020-03-22T00:00:00\", \"vek\": 115, \"pohlavi\": 115, \"kraj_nuts_kod\": 115, \"okres_lau_kod\": 115, \"nakaza_v_zahranici\": 15, \"nakaza_zeme_csu_kod\": 15, \"okres_nazev\": 115}, {\"datum\": \"2020-03-23T00:00:00\", \"vek\": 125, \"pohlavi\": 125, \"kraj_nuts_kod\": 125, \"okres_lau_kod\": 125, \"nakaza_v_zahranici\": 18, \"nakaza_zeme_csu_kod\": 18, \"okres_nazev\": 125}, {\"datum\": \"2020-03-24T00:00:00\", \"vek\": 185, \"pohlavi\": 185, \"kraj_nuts_kod\": 185, \"okres_lau_kod\": 185, \"nakaza_v_zahranici\": 27, \"nakaza_zeme_csu_kod\": 27, \"okres_nazev\": 185}, {\"datum\": \"2020-03-25T00:00:00\", \"vek\": 287, \"pohlavi\": 287, \"kraj_nuts_kod\": 287, \"okres_lau_kod\": 287, \"nakaza_v_zahranici\": 28, \"nakaza_zeme_csu_kod\": 28, \"okres_nazev\": 287}, {\"datum\": \"2020-03-26T00:00:00\", \"vek\": 258, \"pohlavi\": 258, \"kraj_nuts_kod\": 258, \"okres_lau_kod\": 258, \"nakaza_v_zahranici\": 33, \"nakaza_zeme_csu_kod\": 33, \"okres_nazev\": 258}, {\"datum\": \"2020-03-27T00:00:00\", \"vek\": 374, \"pohlavi\": 374, \"kraj_nuts_kod\": 374, \"okres_lau_kod\": 374, \"nakaza_v_zahranici\": 33, \"nakaza_zeme_csu_kod\": 33, \"okres_nazev\": 374}, {\"datum\": \"2020-03-28T00:00:00\", \"vek\": 262, \"pohlavi\": 262, \"kraj_nuts_kod\": 262, \"okres_lau_kod\": 262, \"nakaza_v_zahranici\": 23, \"nakaza_zeme_csu_kod\": 23, \"okres_nazev\": 262}, {\"datum\": \"2020-03-29T00:00:00\", \"vek\": 159, \"pohlavi\": 159, \"kraj_nuts_kod\": 159, \"okres_lau_kod\": 159, \"nakaza_v_zahranici\": 17, \"nakaza_zeme_csu_kod\": 17, \"okres_nazev\": 159}, {\"datum\": \"2020-03-30T00:00:00\", \"vek\": 184, \"pohlavi\": 184, \"kraj_nuts_kod\": 184, \"okres_lau_kod\": 184, \"nakaza_v_zahranici\": 15, \"nakaza_zeme_csu_kod\": 15, \"okres_nazev\": 184}, {\"datum\": \"2020-03-31T00:00:00\", \"vek\": 302, \"pohlavi\": 302, \"kraj_nuts_kod\": 302, \"okres_lau_kod\": 302, \"nakaza_v_zahranici\": 20, \"nakaza_zeme_csu_kod\": 20, \"okres_nazev\": 302}, {\"datum\": \"2020-04-01T00:00:00\", \"vek\": 281, \"pohlavi\": 281, \"kraj_nuts_kod\": 281, \"okres_lau_kod\": 281, \"nakaza_v_zahranici\": 22, \"nakaza_zeme_csu_kod\": 22, \"okres_nazev\": 281}, {\"datum\": \"2020-04-02T00:00:00\", \"vek\": 265, \"pohlavi\": 265, \"kraj_nuts_kod\": 265, \"okres_lau_kod\": 265, \"nakaza_v_zahranici\": 21, \"nakaza_zeme_csu_kod\": 21, \"okres_nazev\": 265}, {\"datum\": \"2020-04-03T00:00:00\", \"vek\": 330, \"pohlavi\": 330, \"kraj_nuts_kod\": 330, \"okres_lau_kod\": 330, \"nakaza_v_zahranici\": 19, \"nakaza_zeme_csu_kod\": 19, \"okres_nazev\": 330}, {\"datum\": \"2020-04-04T00:00:00\", \"vek\": 273, \"pohlavi\": 273, \"kraj_nuts_kod\": 273, \"okres_lau_kod\": 273, \"nakaza_v_zahranici\": 10, \"nakaza_zeme_csu_kod\": 10, \"okres_nazev\": 273}, {\"datum\": \"2020-04-05T00:00:00\", \"vek\": 116, \"pohlavi\": 116, \"kraj_nuts_kod\": 116, \"okres_lau_kod\": 116, \"nakaza_v_zahranici\": 3, \"nakaza_zeme_csu_kod\": 3, \"okres_nazev\": 116}, {\"datum\": \"2020-04-06T00:00:00\", \"vek\": 233, \"pohlavi\": 233, \"kraj_nuts_kod\": 233, \"okres_lau_kod\": 233, \"nakaza_v_zahranici\": 4, \"nakaza_zeme_csu_kod\": 4, \"okres_nazev\": 233}, {\"datum\": \"2020-04-07T00:00:00\", \"vek\": 189, \"pohlavi\": 189, \"kraj_nuts_kod\": 189, \"okres_lau_kod\": 189, \"nakaza_v_zahranici\": 5, \"nakaza_zeme_csu_kod\": 5, \"okres_nazev\": 189}, {\"datum\": \"2020-04-08T00:00:00\", \"vek\": 287, \"pohlavi\": 287, \"kraj_nuts_kod\": 287, \"okres_lau_kod\": 287, \"nakaza_v_zahranici\": 11, \"nakaza_zeme_csu_kod\": 11, \"okres_nazev\": 287}, {\"datum\": \"2020-04-09T00:00:00\", \"vek\": 253, \"pohlavi\": 253, \"kraj_nuts_kod\": 253, \"okres_lau_kod\": 253, \"nakaza_v_zahranici\": 8, \"nakaza_zeme_csu_kod\": 8, \"okres_nazev\": 253}, {\"datum\": \"2020-04-10T00:00:00\", \"vek\": 159, \"pohlavi\": 159, \"kraj_nuts_kod\": 159, \"okres_lau_kod\": 159, \"nakaza_v_zahranici\": 4, \"nakaza_zeme_csu_kod\": 4, \"okres_nazev\": 159}, {\"datum\": \"2020-04-11T00:00:00\", \"vek\": 169, \"pohlavi\": 169, \"kraj_nuts_kod\": 169, \"okres_lau_kod\": 169, \"nakaza_v_zahranici\": 4, \"nakaza_zeme_csu_kod\": 4, \"okres_nazev\": 169}, {\"datum\": \"2020-04-12T00:00:00\", \"vek\": 88, \"pohlavi\": 88, \"kraj_nuts_kod\": 88, \"okres_lau_kod\": 88, \"nakaza_v_zahranici\": 0, \"nakaza_zeme_csu_kod\": 0, \"okres_nazev\": 88}, {\"datum\": \"2020-04-13T00:00:00\", \"vek\": 63, \"pohlavi\": 63, \"kraj_nuts_kod\": 63, \"okres_lau_kod\": 63, \"nakaza_v_zahranici\": 0, \"nakaza_zeme_csu_kod\": 0, \"okres_nazev\": 63}, {\"datum\": \"2020-04-14T00:00:00\", \"vek\": 79, \"pohlavi\": 79, \"kraj_nuts_kod\": 79, \"okres_lau_kod\": 79, \"nakaza_v_zahranici\": 0, \"nakaza_zeme_csu_kod\": 0, \"okres_nazev\": 79}, {\"datum\": \"2020-04-15T00:00:00\", \"vek\": 158, \"pohlavi\": 158, \"kraj_nuts_kod\": 158, \"okres_lau_kod\": 158, \"nakaza_v_zahranici\": 7, \"nakaza_zeme_csu_kod\": 7, \"okres_nazev\": 158}, {\"datum\": \"2020-04-16T00:00:00\", \"vek\": 127, \"pohlavi\": 127, \"kraj_nuts_kod\": 127, \"okres_lau_kod\": 127, \"nakaza_v_zahranici\": 3, \"nakaza_zeme_csu_kod\": 3, \"okres_nazev\": 127}, {\"datum\": \"2020-04-17T00:00:00\", \"vek\": 111, \"pohlavi\": 111, \"kraj_nuts_kod\": 111, \"okres_lau_kod\": 111, \"nakaza_v_zahranici\": 5, \"nakaza_zeme_csu_kod\": 5, \"okres_nazev\": 111}, {\"datum\": \"2020-04-18T00:00:00\", \"vek\": 105, \"pohlavi\": 105, \"kraj_nuts_kod\": 105, \"okres_lau_kod\": 105, \"nakaza_v_zahranici\": 1, \"nakaza_zeme_csu_kod\": 1, \"okres_nazev\": 105}, {\"datum\": \"2020-04-19T00:00:00\", \"vek\": 92, \"pohlavi\": 92, \"kraj_nuts_kod\": 92, \"okres_lau_kod\": 92, \"nakaza_v_zahranici\": 1, \"nakaza_zeme_csu_kod\": 1, \"okres_nazev\": 92}, {\"datum\": \"2020-04-20T00:00:00\", \"vek\": 145, \"pohlavi\": 145, \"kraj_nuts_kod\": 145, \"okres_lau_kod\": 145, \"nakaza_v_zahranici\": 6, \"nakaza_zeme_csu_kod\": 6, \"okres_nazev\": 145}, {\"datum\": \"2020-04-21T00:00:00\", \"vek\": 132, \"pohlavi\": 132, \"kraj_nuts_kod\": 132, \"okres_lau_kod\": 132, \"nakaza_v_zahranici\": 3, \"nakaza_zeme_csu_kod\": 3, \"okres_nazev\": 132}, {\"datum\": \"2020-04-22T00:00:00\", \"vek\": 97, \"pohlavi\": 97, \"kraj_nuts_kod\": 97, \"okres_lau_kod\": 97, \"nakaza_v_zahranici\": 5, \"nakaza_zeme_csu_kod\": 5, \"okres_nazev\": 97}, {\"datum\": \"2020-04-23T00:00:00\", \"vek\": 53, \"pohlavi\": 53, \"kraj_nuts_kod\": 53, \"okres_lau_kod\": 53, \"nakaza_v_zahranici\": 2, \"nakaza_zeme_csu_kod\": 2, \"okres_nazev\": 53}, {\"datum\": \"2020-04-24T00:00:00\", \"vek\": 80, \"pohlavi\": 80, \"kraj_nuts_kod\": 80, \"okres_lau_kod\": 80, \"nakaza_v_zahranici\": 2, \"nakaza_zeme_csu_kod\": 2, \"okres_nazev\": 80}, {\"datum\": \"2020-04-25T00:00:00\", \"vek\": 79, \"pohlavi\": 79, \"kraj_nuts_kod\": 79, \"okres_lau_kod\": 79, \"nakaza_v_zahranici\": 2, \"nakaza_zeme_csu_kod\": 2, \"okres_nazev\": 79}, {\"datum\": \"2020-04-26T00:00:00\", \"vek\": 50, \"pohlavi\": 50, \"kraj_nuts_kod\": 50, \"okres_lau_kod\": 50, \"nakaza_v_zahranici\": 0, \"nakaza_zeme_csu_kod\": 0, \"okres_nazev\": 50}, {\"datum\": \"2020-04-27T00:00:00\", \"vek\": 41, \"pohlavi\": 41, \"kraj_nuts_kod\": 41, \"okres_lau_kod\": 41, \"nakaza_v_zahranici\": 0, \"nakaza_zeme_csu_kod\": 0, \"okres_nazev\": 41}, {\"datum\": \"2020-04-28T00:00:00\", \"vek\": 59, \"pohlavi\": 59, \"kraj_nuts_kod\": 59, \"okres_lau_kod\": 59, \"nakaza_v_zahranici\": 1, \"nakaza_zeme_csu_kod\": 1, \"okres_nazev\": 59}, {\"datum\": \"2020-04-29T00:00:00\", \"vek\": 59, \"pohlavi\": 59, \"kraj_nuts_kod\": 59, \"okres_lau_kod\": 59, \"nakaza_v_zahranici\": 1, \"nakaza_zeme_csu_kod\": 1, \"okres_nazev\": 59}, {\"datum\": \"2020-04-30T00:00:00\", \"vek\": 75, \"pohlavi\": 75, \"kraj_nuts_kod\": 75, \"okres_lau_kod\": 75, \"nakaza_v_zahranici\": 5, \"nakaza_zeme_csu_kod\": 5, \"okres_nazev\": 75}, {\"datum\": \"2020-05-01T00:00:00\", \"vek\": 52, \"pohlavi\": 52, \"kraj_nuts_kod\": 52, \"okres_lau_kod\": 52, \"nakaza_v_zahranici\": 0, \"nakaza_zeme_csu_kod\": 0, \"okres_nazev\": 52}, {\"datum\": \"2020-05-02T00:00:00\", \"vek\": 17, \"pohlavi\": 17, \"kraj_nuts_kod\": 17, \"okres_lau_kod\": 17, \"nakaza_v_zahranici\": 1, \"nakaza_zeme_csu_kod\": 1, \"okres_nazev\": 17}, {\"datum\": \"2020-05-03T00:00:00\", \"vek\": 26, \"pohlavi\": 26, \"kraj_nuts_kod\": 26, \"okres_lau_kod\": 26, \"nakaza_v_zahranici\": 4, \"nakaza_zeme_csu_kod\": 4, \"okres_nazev\": 26}, {\"datum\": \"2020-05-04T00:00:00\", \"vek\": 31, \"pohlavi\": 31, \"kraj_nuts_kod\": 31, \"okres_lau_kod\": 31, \"nakaza_v_zahranici\": 1, \"nakaza_zeme_csu_kod\": 1, \"okres_nazev\": 31}, {\"datum\": \"2020-05-05T00:00:00\", \"vek\": 71, \"pohlavi\": 71, \"kraj_nuts_kod\": 71, \"okres_lau_kod\": 71, \"nakaza_v_zahranici\": 1, \"nakaza_zeme_csu_kod\": 1, \"okres_nazev\": 71}, {\"datum\": \"2020-05-06T00:00:00\", \"vek\": 75, \"pohlavi\": 75, \"kraj_nuts_kod\": 75, \"okres_lau_kod\": 75, \"nakaza_v_zahranici\": 7, \"nakaza_zeme_csu_kod\": 7, \"okres_nazev\": 75}, {\"datum\": \"2020-05-07T00:00:00\", \"vek\": 53, \"pohlavi\": 53, \"kraj_nuts_kod\": 53, \"okres_lau_kod\": 53, \"nakaza_v_zahranici\": 2, \"nakaza_zeme_csu_kod\": 2, \"okres_nazev\": 53}, {\"datum\": \"2020-05-08T00:00:00\", \"vek\": 45, \"pohlavi\": 45, \"kraj_nuts_kod\": 45, \"okres_lau_kod\": 45, \"nakaza_v_zahranici\": 1, \"nakaza_zeme_csu_kod\": 1, \"okres_nazev\": 45}, {\"datum\": \"2020-05-09T00:00:00\", \"vek\": 18, \"pohlavi\": 18, \"kraj_nuts_kod\": 18, \"okres_lau_kod\": 18, \"nakaza_v_zahranici\": 0, \"nakaza_zeme_csu_kod\": 0, \"okres_nazev\": 18}, {\"datum\": \"2020-05-10T00:00:00\", \"vek\": 28, \"pohlavi\": 28, \"kraj_nuts_kod\": 28, \"okres_lau_kod\": 28, \"nakaza_v_zahranici\": 0, \"nakaza_zeme_csu_kod\": 0, \"okres_nazev\": 28}, {\"datum\": \"2020-05-11T00:00:00\", \"vek\": 49, \"pohlavi\": 49, \"kraj_nuts_kod\": 49, \"okres_lau_kod\": 49, \"nakaza_v_zahranici\": 1, \"nakaza_zeme_csu_kod\": 1, \"okres_nazev\": 49}, {\"datum\": \"2020-05-12T00:00:00\", \"vek\": 38, \"pohlavi\": 38, \"kraj_nuts_kod\": 38, \"okres_lau_kod\": 38, \"nakaza_v_zahranici\": 1, \"nakaza_zeme_csu_kod\": 1, \"okres_nazev\": 38}, {\"datum\": \"2020-05-13T00:00:00\", \"vek\": 46, \"pohlavi\": 46, \"kraj_nuts_kod\": 46, \"okres_lau_kod\": 46, \"nakaza_v_zahranici\": 2, \"nakaza_zeme_csu_kod\": 2, \"okres_nazev\": 46}, {\"datum\": \"2020-05-14T00:00:00\", \"vek\": 82, \"pohlavi\": 82, \"kraj_nuts_kod\": 82, \"okres_lau_kod\": 82, \"nakaza_v_zahranici\": 4, \"nakaza_zeme_csu_kod\": 4, \"okres_nazev\": 82}, {\"datum\": \"2020-05-15T00:00:00\", \"vek\": 53, \"pohlavi\": 53, \"kraj_nuts_kod\": 53, \"okres_lau_kod\": 53, \"nakaza_v_zahranici\": 7, \"nakaza_zeme_csu_kod\": 7, \"okres_nazev\": 53}, {\"datum\": \"2020-05-16T00:00:00\", \"vek\": 40, \"pohlavi\": 40, \"kraj_nuts_kod\": 40, \"okres_lau_kod\": 40, \"nakaza_v_zahranici\": 4, \"nakaza_zeme_csu_kod\": 4, \"okres_nazev\": 40}, {\"datum\": \"2020-05-17T00:00:00\", \"vek\": 19, \"pohlavi\": 19, \"kraj_nuts_kod\": 19, \"okres_lau_kod\": 19, \"nakaza_v_zahranici\": 3, \"nakaza_zeme_csu_kod\": 3, \"okres_nazev\": 19}, {\"datum\": \"2020-05-18T00:00:00\", \"vek\": 106, \"pohlavi\": 106, \"kraj_nuts_kod\": 106, \"okres_lau_kod\": 106, \"nakaza_v_zahranici\": 3, \"nakaza_zeme_csu_kod\": 3, \"okres_nazev\": 106}, {\"datum\": \"2020-05-19T00:00:00\", \"vek\": 52, \"pohlavi\": 52, \"kraj_nuts_kod\": 52, \"okres_lau_kod\": 52, \"nakaza_v_zahranici\": 3, \"nakaza_zeme_csu_kod\": 3, \"okres_nazev\": 52}, {\"datum\": \"2020-05-20T00:00:00\", \"vek\": 68, \"pohlavi\": 68, \"kraj_nuts_kod\": 68, \"okres_lau_kod\": 68, \"nakaza_v_zahranici\": 1, \"nakaza_zeme_csu_kod\": 1, \"okres_nazev\": 68}, {\"datum\": \"2020-05-21T00:00:00\", \"vek\": 31, \"pohlavi\": 31, \"kraj_nuts_kod\": 31, \"okres_lau_kod\": 31, \"nakaza_v_zahranici\": 3, \"nakaza_zeme_csu_kod\": 3, \"okres_nazev\": 31}, {\"datum\": \"2020-05-22T00:00:00\", \"vek\": 56, \"pohlavi\": 56, \"kraj_nuts_kod\": 56, \"okres_lau_kod\": 56, \"nakaza_v_zahranici\": 6, \"nakaza_zeme_csu_kod\": 6, \"okres_nazev\": 56}, {\"datum\": \"2020-05-23T00:00:00\", \"vek\": 75, \"pohlavi\": 75, \"kraj_nuts_kod\": 75, \"okres_lau_kod\": 75, \"nakaza_v_zahranici\": 1, \"nakaza_zeme_csu_kod\": 1, \"okres_nazev\": 75}, {\"datum\": \"2020-05-24T00:00:00\", \"vek\": 62, \"pohlavi\": 62, \"kraj_nuts_kod\": 62, \"okres_lau_kod\": 62, \"nakaza_v_zahranici\": 1, \"nakaza_zeme_csu_kod\": 1, \"okres_nazev\": 62}, {\"datum\": \"2020-05-25T00:00:00\", \"vek\": 45, \"pohlavi\": 45, \"kraj_nuts_kod\": 45, \"okres_lau_kod\": 45, \"nakaza_v_zahranici\": 1, \"nakaza_zeme_csu_kod\": 1, \"okres_nazev\": 45}, {\"datum\": \"2020-05-26T00:00:00\", \"vek\": 43, \"pohlavi\": 43, \"kraj_nuts_kod\": 43, \"okres_lau_kod\": 43, \"nakaza_v_zahranici\": 1, \"nakaza_zeme_csu_kod\": 1, \"okres_nazev\": 42}, {\"datum\": \"2020-05-27T00:00:00\", \"vek\": 30, \"pohlavi\": 30, \"kraj_nuts_kod\": 30, \"okres_lau_kod\": 30, \"nakaza_v_zahranici\": 0, \"nakaza_zeme_csu_kod\": 0, \"okres_nazev\": 30}, {\"datum\": \"2020-05-28T00:00:00\", \"vek\": 50, \"pohlavi\": 50, \"kraj_nuts_kod\": 50, \"okres_lau_kod\": 50, \"nakaza_v_zahranici\": 1, \"nakaza_zeme_csu_kod\": 1, \"okres_nazev\": 49}, {\"datum\": \"2020-05-29T00:00:00\", \"vek\": 51, \"pohlavi\": 51, \"kraj_nuts_kod\": 51, \"okres_lau_kod\": 51, \"nakaza_v_zahranici\": 1, \"nakaza_zeme_csu_kod\": 1, \"okres_nazev\": 51}, {\"datum\": \"2020-05-30T00:00:00\", \"vek\": 29, \"pohlavi\": 29, \"kraj_nuts_kod\": 29, \"okres_lau_kod\": 29, \"nakaza_v_zahranici\": 1, \"nakaza_zeme_csu_kod\": 1, \"okres_nazev\": 29}, {\"datum\": \"2020-05-31T00:00:00\", \"vek\": 25, \"pohlavi\": 25, \"kraj_nuts_kod\": 25, \"okres_lau_kod\": 25, \"nakaza_v_zahranici\": 0, \"nakaza_zeme_csu_kod\": 0, \"okres_nazev\": 25}, {\"datum\": \"2020-06-01T00:00:00\", \"vek\": 28, \"pohlavi\": 28, \"kraj_nuts_kod\": 28, \"okres_lau_kod\": 28, \"nakaza_v_zahranici\": 0, \"nakaza_zeme_csu_kod\": 0, \"okres_nazev\": 28}, {\"datum\": \"2020-06-02T00:00:00\", \"vek\": 55, \"pohlavi\": 55, \"kraj_nuts_kod\": 55, \"okres_lau_kod\": 55, \"nakaza_v_zahranici\": 5, \"nakaza_zeme_csu_kod\": 5, \"okres_nazev\": 55}, {\"datum\": \"2020-06-03T00:00:00\", \"vek\": 62, \"pohlavi\": 62, \"kraj_nuts_kod\": 62, \"okres_lau_kod\": 62, \"nakaza_v_zahranici\": 3, \"nakaza_zeme_csu_kod\": 3, \"okres_nazev\": 62}, {\"datum\": \"2020-06-04T00:00:00\", \"vek\": 51, \"pohlavi\": 51, \"kraj_nuts_kod\": 51, \"okres_lau_kod\": 51, \"nakaza_v_zahranici\": 5, \"nakaza_zeme_csu_kod\": 5, \"okres_nazev\": 51}, {\"datum\": \"2020-06-05T00:00:00\", \"vek\": 25, \"pohlavi\": 25, \"kraj_nuts_kod\": 25, \"okres_lau_kod\": 25, \"nakaza_v_zahranici\": 2, \"nakaza_zeme_csu_kod\": 2, \"okres_nazev\": 25}, {\"datum\": \"2020-06-06T00:00:00\", \"vek\": 37, \"pohlavi\": 37, \"kraj_nuts_kod\": 37, \"okres_lau_kod\": 37, \"nakaza_v_zahranici\": 2, \"nakaza_zeme_csu_kod\": 2, \"okres_nazev\": 37}, {\"datum\": \"2020-06-07T00:00:00\", \"vek\": 57, \"pohlavi\": 57, \"kraj_nuts_kod\": 57, \"okres_lau_kod\": 57, \"nakaza_v_zahranici\": 3, \"nakaza_zeme_csu_kod\": 3, \"okres_nazev\": 57}, {\"datum\": \"2020-06-08T00:00:00\", \"vek\": 68, \"pohlavi\": 68, \"kraj_nuts_kod\": 68, \"okres_lau_kod\": 68, \"nakaza_v_zahranici\": 0, \"nakaza_zeme_csu_kod\": 0, \"okres_nazev\": 68}, {\"datum\": \"2020-06-09T00:00:00\", \"vek\": 51, \"pohlavi\": 51, \"kraj_nuts_kod\": 51, \"okres_lau_kod\": 51, \"nakaza_v_zahranici\": 4, \"nakaza_zeme_csu_kod\": 4, \"okres_nazev\": 51}, {\"datum\": \"2020-06-10T00:00:00\", \"vek\": 68, \"pohlavi\": 68, \"kraj_nuts_kod\": 68, \"okres_lau_kod\": 68, \"nakaza_v_zahranici\": 5, \"nakaza_zeme_csu_kod\": 5, \"okres_nazev\": 67}, {\"datum\": \"2020-06-11T00:00:00\", \"vek\": 50, \"pohlavi\": 50, \"kraj_nuts_kod\": 50, \"okres_lau_kod\": 50, \"nakaza_v_zahranici\": 3, \"nakaza_zeme_csu_kod\": 3, \"okres_nazev\": 48}, {\"datum\": \"2020-06-12T00:00:00\", \"vek\": 47, \"pohlavi\": 47, \"kraj_nuts_kod\": 47, \"okres_lau_kod\": 47, \"nakaza_v_zahranici\": 2, \"nakaza_zeme_csu_kod\": 2, \"okres_nazev\": 46}, {\"datum\": \"2020-06-13T00:00:00\", \"vek\": 50, \"pohlavi\": 50, \"kraj_nuts_kod\": 50, \"okres_lau_kod\": 50, \"nakaza_v_zahranici\": 0, \"nakaza_zeme_csu_kod\": 0, \"okres_nazev\": 50}, {\"datum\": \"2020-06-14T00:00:00\", \"vek\": 31, \"pohlavi\": 31, \"kraj_nuts_kod\": 31, \"okres_lau_kod\": 31, \"nakaza_v_zahranici\": 2, \"nakaza_zeme_csu_kod\": 2, \"okres_nazev\": 31}, {\"datum\": \"2020-06-15T00:00:00\", \"vek\": 36, \"pohlavi\": 36, \"kraj_nuts_kod\": 36, \"okres_lau_kod\": 36, \"nakaza_v_zahranici\": 1, \"nakaza_zeme_csu_kod\": 1, \"okres_nazev\": 36}, {\"datum\": \"2020-06-16T00:00:00\", \"vek\": 42, \"pohlavi\": 42, \"kraj_nuts_kod\": 42, \"okres_lau_kod\": 42, \"nakaza_v_zahranici\": 2, \"nakaza_zeme_csu_kod\": 2, \"okres_nazev\": 42}, {\"datum\": \"2020-06-17T00:00:00\", \"vek\": 47, \"pohlavi\": 47, \"kraj_nuts_kod\": 47, \"okres_lau_kod\": 47, \"nakaza_v_zahranici\": 4, \"nakaza_zeme_csu_kod\": 4, \"okres_nazev\": 47}, {\"datum\": \"2020-06-18T00:00:00\", \"vek\": 108, \"pohlavi\": 108, \"kraj_nuts_kod\": 108, \"okres_lau_kod\": 108, \"nakaza_v_zahranici\": 3, \"nakaza_zeme_csu_kod\": 3, \"okres_nazev\": 107}, {\"datum\": \"2020-06-19T00:00:00\", \"vek\": 114, \"pohlavi\": 114, \"kraj_nuts_kod\": 114, \"okres_lau_kod\": 114, \"nakaza_v_zahranici\": 2, \"nakaza_zeme_csu_kod\": 2, \"okres_nazev\": 114}, {\"datum\": \"2020-06-20T00:00:00\", \"vek\": 38, \"pohlavi\": 38, \"kraj_nuts_kod\": 38, \"okres_lau_kod\": 38, \"nakaza_v_zahranici\": 2, \"nakaza_zeme_csu_kod\": 2, \"okres_nazev\": 38}, {\"datum\": \"2020-06-21T00:00:00\", \"vek\": 48, \"pohlavi\": 48, \"kraj_nuts_kod\": 48, \"okres_lau_kod\": 48, \"nakaza_v_zahranici\": 2, \"nakaza_zeme_csu_kod\": 2, \"okres_nazev\": 48}, {\"datum\": \"2020-06-22T00:00:00\", \"vek\": 57, \"pohlavi\": 57, \"kraj_nuts_kod\": 57, \"okres_lau_kod\": 57, \"nakaza_v_zahranici\": 2, \"nakaza_zeme_csu_kod\": 2, \"okres_nazev\": 55}, {\"datum\": \"2020-06-23T00:00:00\", \"vek\": 87, \"pohlavi\": 87, \"kraj_nuts_kod\": 87, \"okres_lau_kod\": 87, \"nakaza_v_zahranici\": 9, \"nakaza_zeme_csu_kod\": 9, \"okres_nazev\": 87}, {\"datum\": \"2020-06-24T00:00:00\", \"vek\": 123, \"pohlavi\": 123, \"kraj_nuts_kod\": 123, \"okres_lau_kod\": 123, \"nakaza_v_zahranici\": 20, \"nakaza_zeme_csu_kod\": 20, \"okres_nazev\": 123}, {\"datum\": \"2020-06-25T00:00:00\", \"vek\": 84, \"pohlavi\": 84, \"kraj_nuts_kod\": 84, \"okres_lau_kod\": 84, \"nakaza_v_zahranici\": 10, \"nakaza_zeme_csu_kod\": 10, \"okres_nazev\": 84}, {\"datum\": \"2020-06-26T00:00:00\", \"vek\": 148, \"pohlavi\": 148, \"kraj_nuts_kod\": 148, \"okres_lau_kod\": 148, \"nakaza_v_zahranici\": 6, \"nakaza_zeme_csu_kod\": 5, \"okres_nazev\": 148}, {\"datum\": \"2020-06-27T00:00:00\", \"vek\": 203, \"pohlavi\": 203, \"kraj_nuts_kod\": 203, \"okres_lau_kod\": 203, \"nakaza_v_zahranici\": 5, \"nakaza_zeme_csu_kod\": 5, \"okres_nazev\": 203}, {\"datum\": \"2020-06-28T00:00:00\", \"vek\": 244, \"pohlavi\": 244, \"kraj_nuts_kod\": 244, \"okres_lau_kod\": 244, \"nakaza_v_zahranici\": 1, \"nakaza_zeme_csu_kod\": 1, \"okres_nazev\": 244}, {\"datum\": \"2020-06-29T00:00:00\", \"vek\": 177, \"pohlavi\": 177, \"kraj_nuts_kod\": 177, \"okres_lau_kod\": 177, \"nakaza_v_zahranici\": 2, \"nakaza_zeme_csu_kod\": 2, \"okres_nazev\": 176}, {\"datum\": \"2020-06-30T00:00:00\", \"vek\": 127, \"pohlavi\": 127, \"kraj_nuts_kod\": 127, \"okres_lau_kod\": 127, \"nakaza_v_zahranici\": 5, \"nakaza_zeme_csu_kod\": 5, \"okres_nazev\": 127}, {\"datum\": \"2020-07-01T00:00:00\", \"vek\": 83, \"pohlavi\": 83, \"kraj_nuts_kod\": 83, \"okres_lau_kod\": 83, \"nakaza_v_zahranici\": 4, \"nakaza_zeme_csu_kod\": 4, \"okres_nazev\": 83}, {\"datum\": \"2020-07-02T00:00:00\", \"vek\": 124, \"pohlavi\": 124, \"kraj_nuts_kod\": 124, \"okres_lau_kod\": 124, \"nakaza_v_zahranici\": 8, \"nakaza_zeme_csu_kod\": 8, \"okres_nazev\": 124}, {\"datum\": \"2020-07-03T00:00:00\", \"vek\": 126, \"pohlavi\": 126, \"kraj_nuts_kod\": 126, \"okres_lau_kod\": 126, \"nakaza_v_zahranici\": 7, \"nakaza_zeme_csu_kod\": 7, \"okres_nazev\": 126}, {\"datum\": \"2020-07-04T00:00:00\", \"vek\": 118, \"pohlavi\": 118, \"kraj_nuts_kod\": 118, \"okres_lau_kod\": 118, \"nakaza_v_zahranici\": 1, \"nakaza_zeme_csu_kod\": 1, \"okres_nazev\": 118}, {\"datum\": \"2020-07-05T00:00:00\", \"vek\": 73, \"pohlavi\": 73, \"kraj_nuts_kod\": 73, \"okres_lau_kod\": 73, \"nakaza_v_zahranici\": 2, \"nakaza_zeme_csu_kod\": 2, \"okres_nazev\": 73}, {\"datum\": \"2020-07-06T00:00:00\", \"vek\": 50, \"pohlavi\": 50, \"kraj_nuts_kod\": 50, \"okres_lau_kod\": 50, \"nakaza_v_zahranici\": 1, \"nakaza_zeme_csu_kod\": 1, \"okres_nazev\": 50}, {\"datum\": \"2020-07-07T00:00:00\", \"vek\": 114, \"pohlavi\": 114, \"kraj_nuts_kod\": 114, \"okres_lau_kod\": 114, \"nakaza_v_zahranici\": 8, \"nakaza_zeme_csu_kod\": 8, \"okres_nazev\": 114}, {\"datum\": \"2020-07-08T00:00:00\", \"vek\": 105, \"pohlavi\": 105, \"kraj_nuts_kod\": 105, \"okres_lau_kod\": 105, \"nakaza_v_zahranici\": 5, \"nakaza_zeme_csu_kod\": 5, \"okres_nazev\": 105}, {\"datum\": \"2020-07-09T00:00:00\", \"vek\": 95, \"pohlavi\": 95, \"kraj_nuts_kod\": 95, \"okres_lau_kod\": 95, \"nakaza_v_zahranici\": 9, \"nakaza_zeme_csu_kod\": 9, \"okres_nazev\": 95}, {\"datum\": \"2020-07-10T00:00:00\", \"vek\": 118, \"pohlavi\": 118, \"kraj_nuts_kod\": 118, \"okres_lau_kod\": 118, \"nakaza_v_zahranici\": 7, \"nakaza_zeme_csu_kod\": 7, \"okres_nazev\": 118}, {\"datum\": \"2020-07-11T00:00:00\", \"vek\": 52, \"pohlavi\": 52, \"kraj_nuts_kod\": 52, \"okres_lau_kod\": 52, \"nakaza_v_zahranici\": 1, \"nakaza_zeme_csu_kod\": 1, \"okres_nazev\": 52}, {\"datum\": \"2020-07-12T00:00:00\", \"vek\": 55, \"pohlavi\": 55, \"kraj_nuts_kod\": 55, \"okres_lau_kod\": 55, \"nakaza_v_zahranici\": 3, \"nakaza_zeme_csu_kod\": 3, \"okres_nazev\": 55}, {\"datum\": \"2020-07-13T00:00:00\", \"vek\": 61, \"pohlavi\": 61, \"kraj_nuts_kod\": 61, \"okres_lau_kod\": 61, \"nakaza_v_zahranici\": 2, \"nakaza_zeme_csu_kod\": 2, \"okres_nazev\": 61}, {\"datum\": \"2020-07-14T00:00:00\", \"vek\": 97, \"pohlavi\": 97, \"kraj_nuts_kod\": 97, \"okres_lau_kod\": 97, \"nakaza_v_zahranici\": 9, \"nakaza_zeme_csu_kod\": 9, \"okres_nazev\": 97}, {\"datum\": \"2020-07-15T00:00:00\", \"vek\": 124, \"pohlavi\": 124, \"kraj_nuts_kod\": 124, \"okres_lau_kod\": 124, \"nakaza_v_zahranici\": 12, \"nakaza_zeme_csu_kod\": 12, \"okres_nazev\": 124}, {\"datum\": \"2020-07-16T00:00:00\", \"vek\": 134, \"pohlavi\": 134, \"kraj_nuts_kod\": 134, \"okres_lau_kod\": 134, \"nakaza_v_zahranici\": 11, \"nakaza_zeme_csu_kod\": 11, \"okres_nazev\": 134}, {\"datum\": \"2020-07-17T00:00:00\", \"vek\": 119, \"pohlavi\": 119, \"kraj_nuts_kod\": 119, \"okres_lau_kod\": 119, \"nakaza_v_zahranici\": 19, \"nakaza_zeme_csu_kod\": 19, \"okres_nazev\": 119}, {\"datum\": \"2020-07-18T00:00:00\", \"vek\": 99, \"pohlavi\": 99, \"kraj_nuts_kod\": 99, \"okres_lau_kod\": 99, \"nakaza_v_zahranici\": 9, \"nakaza_zeme_csu_kod\": 9, \"okres_nazev\": 99}, {\"datum\": \"2020-07-19T00:00:00\", \"vek\": 86, \"pohlavi\": 86, \"kraj_nuts_kod\": 86, \"okres_lau_kod\": 86, \"nakaza_v_zahranici\": 7, \"nakaza_zeme_csu_kod\": 6, \"okres_nazev\": 86}, {\"datum\": \"2020-07-20T00:00:00\", \"vek\": 154, \"pohlavi\": 154, \"kraj_nuts_kod\": 154, \"okres_lau_kod\": 154, \"nakaza_v_zahranici\": 20, \"nakaza_zeme_csu_kod\": 20, \"okres_nazev\": 154}, {\"datum\": \"2020-07-21T00:00:00\", \"vek\": 196, \"pohlavi\": 196, \"kraj_nuts_kod\": 196, \"okres_lau_kod\": 196, \"nakaza_v_zahranici\": 18, \"nakaza_zeme_csu_kod\": 18, \"okres_nazev\": 196}, {\"datum\": \"2020-07-22T00:00:00\", \"vek\": 225, \"pohlavi\": 225, \"kraj_nuts_kod\": 225, \"okres_lau_kod\": 225, \"nakaza_v_zahranici\": 11, \"nakaza_zeme_csu_kod\": 11, \"okres_nazev\": 225}, {\"datum\": \"2020-07-23T00:00:00\", \"vek\": 218, \"pohlavi\": 218, \"kraj_nuts_kod\": 218, \"okres_lau_kod\": 218, \"nakaza_v_zahranici\": 15, \"nakaza_zeme_csu_kod\": 15, \"okres_nazev\": 218}, {\"datum\": \"2020-07-24T00:00:00\", \"vek\": 261, \"pohlavi\": 261, \"kraj_nuts_kod\": 261, \"okres_lau_kod\": 261, \"nakaza_v_zahranici\": 15, \"nakaza_zeme_csu_kod\": 15, \"okres_nazev\": 261}, {\"datum\": \"2020-07-25T00:00:00\", \"vek\": 125, \"pohlavi\": 125, \"kraj_nuts_kod\": 125, \"okres_lau_kod\": 125, \"nakaza_v_zahranici\": 7, \"nakaza_zeme_csu_kod\": 7, \"okres_nazev\": 125}, {\"datum\": \"2020-07-26T00:00:00\", \"vek\": 105, \"pohlavi\": 105, \"kraj_nuts_kod\": 105, \"okres_lau_kod\": 105, \"nakaza_v_zahranici\": 5, \"nakaza_zeme_csu_kod\": 5, \"okres_nazev\": 105}, {\"datum\": \"2020-07-27T00:00:00\", \"vek\": 184, \"pohlavi\": 184, \"kraj_nuts_kod\": 184, \"okres_lau_kod\": 184, \"nakaza_v_zahranici\": 22, \"nakaza_zeme_csu_kod\": 21, \"okres_nazev\": 184}, {\"datum\": \"2020-07-28T00:00:00\", \"vek\": 264, \"pohlavi\": 264, \"kraj_nuts_kod\": 264, \"okres_lau_kod\": 264, \"nakaza_v_zahranici\": 28, \"nakaza_zeme_csu_kod\": 28, \"okres_nazev\": 264}, {\"datum\": \"2020-07-29T00:00:00\", \"vek\": 265, \"pohlavi\": 265, \"kraj_nuts_kod\": 265, \"okres_lau_kod\": 265, \"nakaza_v_zahranici\": 21, \"nakaza_zeme_csu_kod\": 21, \"okres_nazev\": 265}, {\"datum\": \"2020-07-30T00:00:00\", \"vek\": 248, \"pohlavi\": 248, \"kraj_nuts_kod\": 248, \"okres_lau_kod\": 248, \"nakaza_v_zahranici\": 17, \"nakaza_zeme_csu_kod\": 16, \"okres_nazev\": 248}, {\"datum\": \"2020-07-31T00:00:00\", \"vek\": 215, \"pohlavi\": 215, \"kraj_nuts_kod\": 215, \"okres_lau_kod\": 215, \"nakaza_v_zahranici\": 26, \"nakaza_zeme_csu_kod\": 26, \"okres_nazev\": 215}, {\"datum\": \"2020-08-01T00:00:00\", \"vek\": 112, \"pohlavi\": 112, \"kraj_nuts_kod\": 112, \"okres_lau_kod\": 112, \"nakaza_v_zahranici\": 12, \"nakaza_zeme_csu_kod\": 12, \"okres_nazev\": 112}, {\"datum\": \"2020-08-02T00:00:00\", \"vek\": 100, \"pohlavi\": 100, \"kraj_nuts_kod\": 100, \"okres_lau_kod\": 100, \"nakaza_v_zahranici\": 6, \"nakaza_zeme_csu_kod\": 6, \"okres_nazev\": 100}, {\"datum\": \"2020-08-03T00:00:00\", \"vek\": 193, \"pohlavi\": 193, \"kraj_nuts_kod\": 193, \"okres_lau_kod\": 193, \"nakaza_v_zahranici\": 19, \"nakaza_zeme_csu_kod\": 18, \"okres_nazev\": 193}, {\"datum\": \"2020-08-04T00:00:00\", \"vek\": 272, \"pohlavi\": 272, \"kraj_nuts_kod\": 272, \"okres_lau_kod\": 272, \"nakaza_v_zahranici\": 37, \"nakaza_zeme_csu_kod\": 37, \"okres_nazev\": 272}, {\"datum\": \"2020-08-05T00:00:00\", \"vek\": 230, \"pohlavi\": 230, \"kraj_nuts_kod\": 230, \"okres_lau_kod\": 230, \"nakaza_v_zahranici\": 29, \"nakaza_zeme_csu_kod\": 29, \"okres_nazev\": 230}, {\"datum\": \"2020-08-06T00:00:00\", \"vek\": 205, \"pohlavi\": 205, \"kraj_nuts_kod\": 205, \"okres_lau_kod\": 205, \"nakaza_v_zahranici\": 26, \"nakaza_zeme_csu_kod\": 26, \"okres_nazev\": 205}, {\"datum\": \"2020-08-07T00:00:00\", \"vek\": 304, \"pohlavi\": 304, \"kraj_nuts_kod\": 304, \"okres_lau_kod\": 304, \"nakaza_v_zahranici\": 35, \"nakaza_zeme_csu_kod\": 34, \"okres_nazev\": 304}, {\"datum\": \"2020-08-08T00:00:00\", \"vek\": 164, \"pohlavi\": 164, \"kraj_nuts_kod\": 164, \"okres_lau_kod\": 164, \"nakaza_v_zahranici\": 26, \"nakaza_zeme_csu_kod\": 26, \"okres_nazev\": 164}, {\"datum\": \"2020-08-09T00:00:00\", \"vek\": 115, \"pohlavi\": 115, \"kraj_nuts_kod\": 115, \"okres_lau_kod\": 115, \"nakaza_v_zahranici\": 13, \"nakaza_zeme_csu_kod\": 13, \"okres_nazev\": 115}, {\"datum\": \"2020-08-10T00:00:00\", \"vek\": 132, \"pohlavi\": 132, \"kraj_nuts_kod\": 132, \"okres_lau_kod\": 132, \"nakaza_v_zahranici\": 27, \"nakaza_zeme_csu_kod\": 27, \"okres_nazev\": 132}, {\"datum\": \"2020-08-11T00:00:00\", \"vek\": 273, \"pohlavi\": 273, \"kraj_nuts_kod\": 273, \"okres_lau_kod\": 273, \"nakaza_v_zahranici\": 59, \"nakaza_zeme_csu_kod\": 58, \"okres_nazev\": 273}, {\"datum\": \"2020-08-12T00:00:00\", \"vek\": 267, \"pohlavi\": 267, \"kraj_nuts_kod\": 267, \"okres_lau_kod\": 267, \"nakaza_v_zahranici\": 45, \"nakaza_zeme_csu_kod\": 45, \"okres_nazev\": 267}, {\"datum\": \"2020-08-13T00:00:00\", \"vek\": 311, \"pohlavi\": 311, \"kraj_nuts_kod\": 311, \"okres_lau_kod\": 311, \"nakaza_v_zahranici\": 42, \"nakaza_zeme_csu_kod\": 42, \"okres_nazev\": 311}, {\"datum\": \"2020-08-14T00:00:00\", \"vek\": 271, \"pohlavi\": 271, \"kraj_nuts_kod\": 271, \"okres_lau_kod\": 271, \"nakaza_v_zahranici\": 36, \"nakaza_zeme_csu_kod\": 36, \"okres_nazev\": 271}, {\"datum\": \"2020-08-15T00:00:00\", \"vek\": 175, \"pohlavi\": 175, \"kraj_nuts_kod\": 175, \"okres_lau_kod\": 175, \"nakaza_v_zahranici\": 26, \"nakaza_zeme_csu_kod\": 26, \"okres_nazev\": 175}, {\"datum\": \"2020-08-16T00:00:00\", \"vek\": 111, \"pohlavi\": 111, \"kraj_nuts_kod\": 111, \"okres_lau_kod\": 111, \"nakaza_v_zahranici\": 12, \"nakaza_zeme_csu_kod\": 12, \"okres_nazev\": 111}, {\"datum\": \"2020-08-17T00:00:00\", \"vek\": 179, \"pohlavi\": 179, \"kraj_nuts_kod\": 179, \"okres_lau_kod\": 179, \"nakaza_v_zahranici\": 21, \"nakaza_zeme_csu_kod\": 21, \"okres_nazev\": 179}, {\"datum\": \"2020-08-18T00:00:00\", \"vek\": 263, \"pohlavi\": 263, \"kraj_nuts_kod\": 263, \"okres_lau_kod\": 263, \"nakaza_v_zahranici\": 32, \"nakaza_zeme_csu_kod\": 32, \"okres_nazev\": 263}, {\"datum\": \"2020-08-19T00:00:00\", \"vek\": 294, \"pohlavi\": 294, \"kraj_nuts_kod\": 294, \"okres_lau_kod\": 294, \"nakaza_v_zahranici\": 45, \"nakaza_zeme_csu_kod\": 45, \"okres_nazev\": 294}, {\"datum\": \"2020-08-20T00:00:00\", \"vek\": 232, \"pohlavi\": 232, \"kraj_nuts_kod\": 232, \"okres_lau_kod\": 232, \"nakaza_v_zahranici\": 27, \"nakaza_zeme_csu_kod\": 26, \"okres_nazev\": 232}, {\"datum\": \"2020-08-21T00:00:00\", \"vek\": 476, \"pohlavi\": 476, \"kraj_nuts_kod\": 476, \"okres_lau_kod\": 476, \"nakaza_v_zahranici\": 44, \"nakaza_zeme_csu_kod\": 44, \"okres_nazev\": 476}, {\"datum\": \"2020-08-22T00:00:00\", \"vek\": 223, \"pohlavi\": 223, \"kraj_nuts_kod\": 223, \"okres_lau_kod\": 223, \"nakaza_v_zahranici\": 25, \"nakaza_zeme_csu_kod\": 25, \"okres_nazev\": 223}, {\"datum\": \"2020-08-23T00:00:00\", \"vek\": 123, \"pohlavi\": 123, \"kraj_nuts_kod\": 123, \"okres_lau_kod\": 123, \"nakaza_v_zahranici\": 13, \"nakaza_zeme_csu_kod\": 13, \"okres_nazev\": 123}, {\"datum\": \"2020-08-24T00:00:00\", \"vek\": 242, \"pohlavi\": 242, \"kraj_nuts_kod\": 242, \"okres_lau_kod\": 242, \"nakaza_v_zahranici\": 38, \"nakaza_zeme_csu_kod\": 39, \"okres_nazev\": 242}, {\"datum\": \"2020-08-25T00:00:00\", \"vek\": 351, \"pohlavi\": 351, \"kraj_nuts_kod\": 351, \"okres_lau_kod\": 351, \"nakaza_v_zahranici\": 52, \"nakaza_zeme_csu_kod\": 52, \"okres_nazev\": 351}, {\"datum\": \"2020-08-26T00:00:00\", \"vek\": 365, \"pohlavi\": 365, \"kraj_nuts_kod\": 365, \"okres_lau_kod\": 365, \"nakaza_v_zahranici\": 49, \"nakaza_zeme_csu_kod\": 49, \"okres_nazev\": 365}, {\"datum\": \"2020-08-27T00:00:00\", \"vek\": 334, \"pohlavi\": 334, \"kraj_nuts_kod\": 334, \"okres_lau_kod\": 334, \"nakaza_v_zahranici\": 37, \"nakaza_zeme_csu_kod\": 37, \"okres_nazev\": 334}, {\"datum\": \"2020-08-28T00:00:00\", \"vek\": 463, \"pohlavi\": 463, \"kraj_nuts_kod\": 463, \"okres_lau_kod\": 463, \"nakaza_v_zahranici\": 41, \"nakaza_zeme_csu_kod\": 41, \"okres_nazev\": 463}, {\"datum\": \"2020-08-29T00:00:00\", \"vek\": 311, \"pohlavi\": 311, \"kraj_nuts_kod\": 311, \"okres_lau_kod\": 311, \"nakaza_v_zahranici\": 23, \"nakaza_zeme_csu_kod\": 23, \"okres_nazev\": 311}, {\"datum\": \"2020-08-30T00:00:00\", \"vek\": 256, \"pohlavi\": 256, \"kraj_nuts_kod\": 256, \"okres_lau_kod\": 256, \"nakaza_v_zahranici\": 31, \"nakaza_zeme_csu_kod\": 31, \"okres_nazev\": 256}, {\"datum\": \"2020-08-31T00:00:00\", \"vek\": 238, \"pohlavi\": 238, \"kraj_nuts_kod\": 238, \"okres_lau_kod\": 238, \"nakaza_v_zahranici\": 31, \"nakaza_zeme_csu_kod\": 31, \"okres_nazev\": 238}, {\"datum\": \"2020-09-01T00:00:00\", \"vek\": 480, \"pohlavi\": 480, \"kraj_nuts_kod\": 480, \"okres_lau_kod\": 480, \"nakaza_v_zahranici\": 67, \"nakaza_zeme_csu_kod\": 67, \"okres_nazev\": 480}, {\"datum\": \"2020-09-02T00:00:00\", \"vek\": 616, \"pohlavi\": 616, \"kraj_nuts_kod\": 616, \"okres_lau_kod\": 616, \"nakaza_v_zahranici\": 56, \"nakaza_zeme_csu_kod\": 57, \"okres_nazev\": 616}, {\"datum\": \"2020-09-03T00:00:00\", \"vek\": 637, \"pohlavi\": 637, \"kraj_nuts_kod\": 637, \"okres_lau_kod\": 637, \"nakaza_v_zahranici\": 54, \"nakaza_zeme_csu_kod\": 54, \"okres_nazev\": 637}, {\"datum\": \"2020-09-04T00:00:00\", \"vek\": 751, \"pohlavi\": 751, \"kraj_nuts_kod\": 751, \"okres_lau_kod\": 751, \"nakaza_v_zahranici\": 32, \"nakaza_zeme_csu_kod\": 32, \"okres_nazev\": 751}, {\"datum\": \"2020-09-05T00:00:00\", \"vek\": 475, \"pohlavi\": 475, \"kraj_nuts_kod\": 475, \"okres_lau_kod\": 475, \"nakaza_v_zahranici\": 22, \"nakaza_zeme_csu_kod\": 22, \"okres_nazev\": 475}, {\"datum\": \"2020-09-06T00:00:00\", \"vek\": 384, \"pohlavi\": 384, \"kraj_nuts_kod\": 384, \"okres_lau_kod\": 384, \"nakaza_v_zahranici\": 20, \"nakaza_zeme_csu_kod\": 20, \"okres_nazev\": 384}, {\"datum\": \"2020-09-07T00:00:00\", \"vek\": 537, \"pohlavi\": 537, \"kraj_nuts_kod\": 537, \"okres_lau_kod\": 537, \"nakaza_v_zahranici\": 26, \"nakaza_zeme_csu_kod\": 26, \"okres_nazev\": 537}, {\"datum\": \"2020-09-08T00:00:00\", \"vek\": 1085, \"pohlavi\": 1085, \"kraj_nuts_kod\": 1085, \"okres_lau_kod\": 1085, \"nakaza_v_zahranici\": 38, \"nakaza_zeme_csu_kod\": 38, \"okres_nazev\": 1085}, {\"datum\": \"2020-09-09T00:00:00\", \"vek\": 1061, \"pohlavi\": 1061, \"kraj_nuts_kod\": 1061, \"okres_lau_kod\": 1061, \"nakaza_v_zahranici\": 47, \"nakaza_zeme_csu_kod\": 48, \"okres_nazev\": 1061}, {\"datum\": \"2020-09-10T00:00:00\", \"vek\": 1289, \"pohlavi\": 1289, \"kraj_nuts_kod\": 1289, \"okres_lau_kod\": 1289, \"nakaza_v_zahranici\": 45, \"nakaza_zeme_csu_kod\": 45, \"okres_nazev\": 1289}, {\"datum\": \"2020-09-11T00:00:00\", \"vek\": 1337, \"pohlavi\": 1337, \"kraj_nuts_kod\": 1337, \"okres_lau_kod\": 1337, \"nakaza_v_zahranici\": 36, \"nakaza_zeme_csu_kod\": 36, \"okres_nazev\": 1337}, {\"datum\": \"2020-09-12T00:00:00\", \"vek\": 1425, \"pohlavi\": 1425, \"kraj_nuts_kod\": 1425, \"okres_lau_kod\": 1425, \"nakaza_v_zahranici\": 42, \"nakaza_zeme_csu_kod\": 42, \"okres_nazev\": 1425}, {\"datum\": \"2020-09-13T00:00:00\", \"vek\": 744, \"pohlavi\": 744, \"kraj_nuts_kod\": 744, \"okres_lau_kod\": 744, \"nakaza_v_zahranici\": 19, \"nakaza_zeme_csu_kod\": 19, \"okres_nazev\": 744}, {\"datum\": \"2020-09-14T00:00:00\", \"vek\": 955, \"pohlavi\": 955, \"kraj_nuts_kod\": 955, \"okres_lau_kod\": 955, \"nakaza_v_zahranici\": 22, \"nakaza_zeme_csu_kod\": 22, \"okres_nazev\": 955}, {\"datum\": \"2020-09-15T00:00:00\", \"vek\": 1564, \"pohlavi\": 1564, \"kraj_nuts_kod\": 1564, \"okres_lau_kod\": 1564, \"nakaza_v_zahranici\": 48, \"nakaza_zeme_csu_kod\": 49, \"okres_nazev\": 1563}, {\"datum\": \"2020-09-16T00:00:00\", \"vek\": 1979, \"pohlavi\": 1979, \"kraj_nuts_kod\": 1979, \"okres_lau_kod\": 1979, \"nakaza_v_zahranici\": 52, \"nakaza_zeme_csu_kod\": 53, \"okres_nazev\": 1979}, {\"datum\": \"2020-09-17T00:00:00\", \"vek\": 2799, \"pohlavi\": 2799, \"kraj_nuts_kod\": 2799, \"okres_lau_kod\": 2799, \"nakaza_v_zahranici\": 44, \"nakaza_zeme_csu_kod\": 44, \"okres_nazev\": 2799}, {\"datum\": \"2020-09-18T00:00:00\", \"vek\": 1877, \"pohlavi\": 1877, \"kraj_nuts_kod\": 1877, \"okres_lau_kod\": 1877, \"nakaza_v_zahranici\": 35, \"nakaza_zeme_csu_kod\": 35, \"okres_nazev\": 1877}, {\"datum\": \"2020-09-19T00:00:00\", \"vek\": 1767, \"pohlavi\": 1767, \"kraj_nuts_kod\": 1767, \"okres_lau_kod\": 1767, \"nakaza_v_zahranici\": 43, \"nakaza_zeme_csu_kod\": 43, \"okres_nazev\": 1767}, {\"datum\": \"2020-09-20T00:00:00\", \"vek\": 849, \"pohlavi\": 849, \"kraj_nuts_kod\": 849, \"okres_lau_kod\": 849, \"nakaza_v_zahranici\": 21, \"nakaza_zeme_csu_kod\": 21, \"okres_nazev\": 849}, {\"datum\": \"2020-09-21T00:00:00\", \"vek\": 1322, \"pohlavi\": 1322, \"kraj_nuts_kod\": 1322, \"okres_lau_kod\": 1322, \"nakaza_v_zahranici\": 33, \"nakaza_zeme_csu_kod\": 33, \"okres_nazev\": 1322}, {\"datum\": \"2020-09-22T00:00:00\", \"vek\": 2156, \"pohlavi\": 2156, \"kraj_nuts_kod\": 2156, \"okres_lau_kod\": 2156, \"nakaza_v_zahranici\": 62, \"nakaza_zeme_csu_kod\": 62, \"okres_nazev\": 2156}, {\"datum\": \"2020-09-23T00:00:00\", \"vek\": 2023, \"pohlavi\": 2023, \"kraj_nuts_kod\": 2023, \"okres_lau_kod\": 2023, \"nakaza_v_zahranici\": 31, \"nakaza_zeme_csu_kod\": 31, \"okres_nazev\": 2023}, {\"datum\": \"2020-09-24T00:00:00\", \"vek\": 2513, \"pohlavi\": 2513, \"kraj_nuts_kod\": 2513, \"okres_lau_kod\": 2513, \"nakaza_v_zahranici\": 48, \"nakaza_zeme_csu_kod\": 48, \"okres_nazev\": 2513}, {\"datum\": \"2020-09-25T00:00:00\", \"vek\": 2856, \"pohlavi\": 2856, \"kraj_nuts_kod\": 2856, \"okres_lau_kod\": 2856, \"nakaza_v_zahranici\": 38, \"nakaza_zeme_csu_kod\": 38, \"okres_nazev\": 2856}, {\"datum\": \"2020-09-26T00:00:00\", \"vek\": 1933, \"pohlavi\": 1933, \"kraj_nuts_kod\": 1933, \"okres_lau_kod\": 1933, \"nakaza_v_zahranici\": 20, \"nakaza_zeme_csu_kod\": 20, \"okres_nazev\": 1933}, {\"datum\": \"2020-09-27T00:00:00\", \"vek\": 1274, \"pohlavi\": 1274, \"kraj_nuts_kod\": 1274, \"okres_lau_kod\": 1274, \"nakaza_v_zahranici\": 16, \"nakaza_zeme_csu_kod\": 16, \"okres_nazev\": 1274}, {\"datum\": \"2020-09-28T00:00:00\", \"vek\": 1244, \"pohlavi\": 1244, \"kraj_nuts_kod\": 1244, \"okres_lau_kod\": 1244, \"nakaza_v_zahranici\": 17, \"nakaza_zeme_csu_kod\": 18, \"okres_nazev\": 1244}, {\"datum\": \"2020-09-29T00:00:00\", \"vek\": 1918, \"pohlavi\": 1918, \"kraj_nuts_kod\": 1918, \"okres_lau_kod\": 1918, \"nakaza_v_zahranici\": 42, \"nakaza_zeme_csu_kod\": 42, \"okres_nazev\": 1917}, {\"datum\": \"2020-09-30T00:00:00\", \"vek\": 2849, \"pohlavi\": 2849, \"kraj_nuts_kod\": 2849, \"okres_lau_kod\": 2849, \"nakaza_v_zahranici\": 54, \"nakaza_zeme_csu_kod\": 54, \"okres_nazev\": 2848}, {\"datum\": \"2020-10-01T00:00:00\", \"vek\": 3434, \"pohlavi\": 3434, \"kraj_nuts_kod\": 3434, \"okres_lau_kod\": 3434, \"nakaza_v_zahranici\": 37, \"nakaza_zeme_csu_kod\": 38, \"okres_nazev\": 3434}, {\"datum\": \"2020-10-02T00:00:00\", \"vek\": 3721, \"pohlavi\": 3721, \"kraj_nuts_kod\": 3721, \"okres_lau_kod\": 3721, \"nakaza_v_zahranici\": 64, \"nakaza_zeme_csu_kod\": 65, \"okres_nazev\": 3721}, {\"datum\": \"2020-10-03T00:00:00\", \"vek\": 2507, \"pohlavi\": 2507, \"kraj_nuts_kod\": 2507, \"okres_lau_kod\": 2507, \"nakaza_v_zahranici\": 22, \"nakaza_zeme_csu_kod\": 22, \"okres_nazev\": 2507}, {\"datum\": \"2020-10-04T00:00:00\", \"vek\": 1782, \"pohlavi\": 1782, \"kraj_nuts_kod\": 1782, \"okres_lau_kod\": 1782, \"nakaza_v_zahranici\": 23, \"nakaza_zeme_csu_kod\": 23, \"okres_nazev\": 1782}, {\"datum\": \"2020-10-05T00:00:00\", \"vek\": 3027, \"pohlavi\": 3027, \"kraj_nuts_kod\": 3027, \"okres_lau_kod\": 3027, \"nakaza_v_zahranici\": 29, \"nakaza_zeme_csu_kod\": 29, \"okres_nazev\": 3027}, {\"datum\": \"2020-10-06T00:00:00\", \"vek\": 4340, \"pohlavi\": 4340, \"kraj_nuts_kod\": 4340, \"okres_lau_kod\": 4340, \"nakaza_v_zahranici\": 28, \"nakaza_zeme_csu_kod\": 28, \"okres_nazev\": 4340}, {\"datum\": \"2020-10-07T00:00:00\", \"vek\": 5138, \"pohlavi\": 5138, \"kraj_nuts_kod\": 5138, \"okres_lau_kod\": 5138, \"nakaza_v_zahranici\": 51, \"nakaza_zeme_csu_kod\": 51, \"okres_nazev\": 5138}, {\"datum\": \"2020-10-08T00:00:00\", \"vek\": 5210, \"pohlavi\": 5210, \"kraj_nuts_kod\": 5210, \"okres_lau_kod\": 5210, \"nakaza_v_zahranici\": 34, \"nakaza_zeme_csu_kod\": 34, \"okres_nazev\": 5210}, {\"datum\": \"2020-10-09T00:00:00\", \"vek\": 8317, \"pohlavi\": 8317, \"kraj_nuts_kod\": 8317, \"okres_lau_kod\": 8317, \"nakaza_v_zahranici\": 36, \"nakaza_zeme_csu_kod\": 36, \"okres_nazev\": 8317}, {\"datum\": \"2020-10-10T00:00:00\", \"vek\": 4525, \"pohlavi\": 4525, \"kraj_nuts_kod\": 4525, \"okres_lau_kod\": 4525, \"nakaza_v_zahranici\": 29, \"nakaza_zeme_csu_kod\": 29, \"okres_nazev\": 4525}, {\"datum\": \"2020-10-11T00:00:00\", \"vek\": 3013, \"pohlavi\": 3013, \"kraj_nuts_kod\": 3013, \"okres_lau_kod\": 3013, \"nakaza_v_zahranici\": 20, \"nakaza_zeme_csu_kod\": 20, \"okres_nazev\": 3013}, {\"datum\": \"2020-10-12T00:00:00\", \"vek\": 4079, \"pohlavi\": 4079, \"kraj_nuts_kod\": 4079, \"okres_lau_kod\": 4079, \"nakaza_v_zahranici\": 44, \"nakaza_zeme_csu_kod\": 44, \"okres_nazev\": 4079}, {\"datum\": \"2020-10-13T00:00:00\", \"vek\": 7957, \"pohlavi\": 7957, \"kraj_nuts_kod\": 7957, \"okres_lau_kod\": 7957, \"nakaza_v_zahranici\": 78, \"nakaza_zeme_csu_kod\": 78, \"okres_nazev\": 7957}, {\"datum\": \"2020-10-14T00:00:00\", \"vek\": 9191, \"pohlavi\": 9191, \"kraj_nuts_kod\": 9191, \"okres_lau_kod\": 9191, \"nakaza_v_zahranici\": 39, \"nakaza_zeme_csu_kod\": 39, \"okres_nazev\": 9191}, {\"datum\": \"2020-10-15T00:00:00\", \"vek\": 9210, \"pohlavi\": 9210, \"kraj_nuts_kod\": 9210, \"okres_lau_kod\": 9210, \"nakaza_v_zahranici\": 21, \"nakaza_zeme_csu_kod\": 21, \"okres_nazev\": 9210}, {\"datum\": \"2020-10-16T00:00:00\", \"vek\": 10655, \"pohlavi\": 10655, \"kraj_nuts_kod\": 10655, \"okres_lau_kod\": 10655, \"nakaza_v_zahranici\": 34, \"nakaza_zeme_csu_kod\": 34, \"okres_nazev\": 10654}, {\"datum\": \"2020-10-17T00:00:00\", \"vek\": 8442, \"pohlavi\": 8442, \"kraj_nuts_kod\": 8442, \"okres_lau_kod\": 8442, \"nakaza_v_zahranici\": 25, \"nakaza_zeme_csu_kod\": 26, \"okres_nazev\": 8442}, {\"datum\": \"2020-10-18T00:00:00\", \"vek\": 4964, \"pohlavi\": 4964, \"kraj_nuts_kod\": 4964, \"okres_lau_kod\": 4964, \"nakaza_v_zahranici\": 34, \"nakaza_zeme_csu_kod\": 34, \"okres_nazev\": 4964}, {\"datum\": \"2020-10-19T00:00:00\", \"vek\": 7815, \"pohlavi\": 7815, \"kraj_nuts_kod\": 7815, \"okres_lau_kod\": 7815, \"nakaza_v_zahranici\": 43, \"nakaza_zeme_csu_kod\": 43, \"okres_nazev\": 7815}, {\"datum\": \"2020-10-20T00:00:00\", \"vek\": 11626, \"pohlavi\": 11626, \"kraj_nuts_kod\": 11626, \"okres_lau_kod\": 11626, \"nakaza_v_zahranici\": 35, \"nakaza_zeme_csu_kod\": 35, \"okres_nazev\": 11626}, {\"datum\": \"2020-10-21T00:00:00\", \"vek\": 14446, \"pohlavi\": 14446, \"kraj_nuts_kod\": 14446, \"okres_lau_kod\": 14446, \"nakaza_v_zahranici\": 41, \"nakaza_zeme_csu_kod\": 41, \"okres_nazev\": 14446}, {\"datum\": \"2020-10-22T00:00:00\", \"vek\": 13671, \"pohlavi\": 13671, \"kraj_nuts_kod\": 13671, \"okres_lau_kod\": 13671, \"nakaza_v_zahranici\": 21, \"nakaza_zeme_csu_kod\": 21, \"okres_nazev\": 13671}, {\"datum\": \"2020-10-23T00:00:00\", \"vek\": 6619, \"pohlavi\": 6619, \"kraj_nuts_kod\": 6619, \"okres_lau_kod\": 6619, \"nakaza_v_zahranici\": 6, \"nakaza_zeme_csu_kod\": 6, \"okres_nazev\": 6619}]}}, {\"mode\": \"vega-lite\"});\n",
       "</script>"
      ],
      "text/plain": [
       "alt.Chart(...)"
      ]
     },
     "execution_count": 32,
     "metadata": {},
     "output_type": "execute_result"
    }
   ],
   "source": [
    "alt.Chart(total_count_date).mark_line().encode(\n",
    "    x='datum',\n",
    "    y='vek',\n",
    ")"
   ]
  },
  {
   "cell_type": "code",
   "execution_count": 17,
   "metadata": {},
   "outputs": [
    {
     "data": {
      "text/html": [
       "<div>\n",
       "<style scoped>\n",
       "    .dataframe tbody tr th:only-of-type {\n",
       "        vertical-align: middle;\n",
       "    }\n",
       "\n",
       "    .dataframe tbody tr th {\n",
       "        vertical-align: top;\n",
       "    }\n",
       "\n",
       "    .dataframe thead th {\n",
       "        text-align: right;\n",
       "    }\n",
       "</style>\n",
       "<table border=\"1\" class=\"dataframe\">\n",
       "  <thead>\n",
       "    <tr style=\"text-align: right;\">\n",
       "      <th></th>\n",
       "      <th>datum</th>\n",
       "      <th>vek</th>\n",
       "      <th>pohlavi</th>\n",
       "      <th>kraj_nuts_kod</th>\n",
       "      <th>okres_lau_kod</th>\n",
       "      <th>nakaza_v_zahranici</th>\n",
       "      <th>nakaza_zeme_csu_kod</th>\n",
       "      <th>okres_nazev</th>\n",
       "    </tr>\n",
       "  </thead>\n",
       "  <tbody>\n",
       "    <tr>\n",
       "      <td>0</td>\n",
       "      <td>2020-03-01</td>\n",
       "      <td>3</td>\n",
       "      <td>3</td>\n",
       "      <td>3</td>\n",
       "      <td>3</td>\n",
       "      <td>3</td>\n",
       "      <td>3</td>\n",
       "      <td>3</td>\n",
       "    </tr>\n",
       "    <tr>\n",
       "      <td>1</td>\n",
       "      <td>2020-03-03</td>\n",
       "      <td>1</td>\n",
       "      <td>1</td>\n",
       "      <td>1</td>\n",
       "      <td>1</td>\n",
       "      <td>1</td>\n",
       "      <td>1</td>\n",
       "      <td>1</td>\n",
       "    </tr>\n",
       "    <tr>\n",
       "      <td>2</td>\n",
       "      <td>2020-03-04</td>\n",
       "      <td>1</td>\n",
       "      <td>1</td>\n",
       "      <td>1</td>\n",
       "      <td>1</td>\n",
       "      <td>1</td>\n",
       "      <td>1</td>\n",
       "      <td>1</td>\n",
       "    </tr>\n",
       "    <tr>\n",
       "      <td>3</td>\n",
       "      <td>2020-03-05</td>\n",
       "      <td>3</td>\n",
       "      <td>3</td>\n",
       "      <td>3</td>\n",
       "      <td>3</td>\n",
       "      <td>2</td>\n",
       "      <td>2</td>\n",
       "      <td>3</td>\n",
       "    </tr>\n",
       "    <tr>\n",
       "      <td>4</td>\n",
       "      <td>2020-03-06</td>\n",
       "      <td>11</td>\n",
       "      <td>11</td>\n",
       "      <td>11</td>\n",
       "      <td>11</td>\n",
       "      <td>8</td>\n",
       "      <td>8</td>\n",
       "      <td>11</td>\n",
       "    </tr>\n",
       "    <tr>\n",
       "      <td>...</td>\n",
       "      <td>...</td>\n",
       "      <td>...</td>\n",
       "      <td>...</td>\n",
       "      <td>...</td>\n",
       "      <td>...</td>\n",
       "      <td>...</td>\n",
       "      <td>...</td>\n",
       "      <td>...</td>\n",
       "    </tr>\n",
       "    <tr>\n",
       "      <td>231</td>\n",
       "      <td>2020-10-19</td>\n",
       "      <td>7815</td>\n",
       "      <td>7815</td>\n",
       "      <td>7815</td>\n",
       "      <td>7815</td>\n",
       "      <td>43</td>\n",
       "      <td>43</td>\n",
       "      <td>7815</td>\n",
       "    </tr>\n",
       "    <tr>\n",
       "      <td>232</td>\n",
       "      <td>2020-10-20</td>\n",
       "      <td>11626</td>\n",
       "      <td>11626</td>\n",
       "      <td>11626</td>\n",
       "      <td>11626</td>\n",
       "      <td>35</td>\n",
       "      <td>35</td>\n",
       "      <td>11626</td>\n",
       "    </tr>\n",
       "    <tr>\n",
       "      <td>233</td>\n",
       "      <td>2020-10-21</td>\n",
       "      <td>14446</td>\n",
       "      <td>14446</td>\n",
       "      <td>14446</td>\n",
       "      <td>14446</td>\n",
       "      <td>41</td>\n",
       "      <td>41</td>\n",
       "      <td>14446</td>\n",
       "    </tr>\n",
       "    <tr>\n",
       "      <td>234</td>\n",
       "      <td>2020-10-22</td>\n",
       "      <td>13671</td>\n",
       "      <td>13671</td>\n",
       "      <td>13671</td>\n",
       "      <td>13671</td>\n",
       "      <td>21</td>\n",
       "      <td>21</td>\n",
       "      <td>13671</td>\n",
       "    </tr>\n",
       "    <tr>\n",
       "      <td>235</td>\n",
       "      <td>2020-10-23</td>\n",
       "      <td>6619</td>\n",
       "      <td>6619</td>\n",
       "      <td>6619</td>\n",
       "      <td>6619</td>\n",
       "      <td>6</td>\n",
       "      <td>6</td>\n",
       "      <td>6619</td>\n",
       "    </tr>\n",
       "  </tbody>\n",
       "</table>\n",
       "<p>236 rows × 8 columns</p>\n",
       "</div>"
      ],
      "text/plain": [
       "         datum    vek  pohlavi  kraj_nuts_kod  okres_lau_kod  \\\n",
       "0   2020-03-01      3        3              3              3   \n",
       "1   2020-03-03      1        1              1              1   \n",
       "2   2020-03-04      1        1              1              1   \n",
       "3   2020-03-05      3        3              3              3   \n",
       "4   2020-03-06     11       11             11             11   \n",
       "..         ...    ...      ...            ...            ...   \n",
       "231 2020-10-19   7815     7815           7815           7815   \n",
       "232 2020-10-20  11626    11626          11626          11626   \n",
       "233 2020-10-21  14446    14446          14446          14446   \n",
       "234 2020-10-22  13671    13671          13671          13671   \n",
       "235 2020-10-23   6619     6619           6619           6619   \n",
       "\n",
       "     nakaza_v_zahranici  nakaza_zeme_csu_kod  okres_nazev  \n",
       "0                     3                    3            3  \n",
       "1                     1                    1            1  \n",
       "2                     1                    1            1  \n",
       "3                     2                    2            3  \n",
       "4                     8                    8           11  \n",
       "..                  ...                  ...          ...  \n",
       "231                  43                   43         7815  \n",
       "232                  35                   35        11626  \n",
       "233                  41                   41        14446  \n",
       "234                  21                   21        13671  \n",
       "235                   6                    6         6619  \n",
       "\n",
       "[236 rows x 8 columns]"
      ]
     },
     "execution_count": 17,
     "metadata": {},
     "output_type": "execute_result"
    }
   ],
   "source": [
    "total_count_date"
   ]
  },
  {
   "cell_type": "code",
   "execution_count": 36,
   "metadata": {},
   "outputs": [
    {
     "data": {
      "text/html": [
       "<div>\n",
       "<style scoped>\n",
       "    .dataframe tbody tr th:only-of-type {\n",
       "        vertical-align: middle;\n",
       "    }\n",
       "\n",
       "    .dataframe tbody tr th {\n",
       "        vertical-align: top;\n",
       "    }\n",
       "\n",
       "    .dataframe thead th {\n",
       "        text-align: right;\n",
       "    }\n",
       "</style>\n",
       "<table border=\"1\" class=\"dataframe\">\n",
       "  <thead>\n",
       "    <tr style=\"text-align: right;\">\n",
       "      <th></th>\n",
       "      <th>datum</th>\n",
       "      <th>okres_lau_kod</th>\n",
       "      <th>okres_nazev</th>\n",
       "      <th>vek</th>\n",
       "      <th>pohlavi</th>\n",
       "      <th>kraj_nuts_kod</th>\n",
       "      <th>nakaza_v_zahranici</th>\n",
       "      <th>nakaza_zeme_csu_kod</th>\n",
       "    </tr>\n",
       "  </thead>\n",
       "  <tbody>\n",
       "    <tr>\n",
       "      <td>0</td>\n",
       "      <td>2020-03-01</td>\n",
       "      <td>CZ0100</td>\n",
       "      <td>Praha</td>\n",
       "      <td>2</td>\n",
       "      <td>2</td>\n",
       "      <td>2</td>\n",
       "      <td>2</td>\n",
       "      <td>2</td>\n",
       "    </tr>\n",
       "    <tr>\n",
       "      <td>3</td>\n",
       "      <td>2020-03-04</td>\n",
       "      <td>CZ0100</td>\n",
       "      <td>Praha</td>\n",
       "      <td>1</td>\n",
       "      <td>1</td>\n",
       "      <td>1</td>\n",
       "      <td>1</td>\n",
       "      <td>1</td>\n",
       "    </tr>\n",
       "    <tr>\n",
       "      <td>5</td>\n",
       "      <td>2020-03-06</td>\n",
       "      <td>CZ0100</td>\n",
       "      <td>Praha</td>\n",
       "      <td>8</td>\n",
       "      <td>8</td>\n",
       "      <td>8</td>\n",
       "      <td>7</td>\n",
       "      <td>7</td>\n",
       "    </tr>\n",
       "    <tr>\n",
       "      <td>8</td>\n",
       "      <td>2020-03-07</td>\n",
       "      <td>CZ0100</td>\n",
       "      <td>Praha</td>\n",
       "      <td>4</td>\n",
       "      <td>4</td>\n",
       "      <td>4</td>\n",
       "      <td>3</td>\n",
       "      <td>3</td>\n",
       "    </tr>\n",
       "    <tr>\n",
       "      <td>17</td>\n",
       "      <td>2020-03-09</td>\n",
       "      <td>CZ0100</td>\n",
       "      <td>Praha</td>\n",
       "      <td>4</td>\n",
       "      <td>4</td>\n",
       "      <td>4</td>\n",
       "      <td>4</td>\n",
       "      <td>4</td>\n",
       "    </tr>\n",
       "    <tr>\n",
       "      <td>...</td>\n",
       "      <td>...</td>\n",
       "      <td>...</td>\n",
       "      <td>...</td>\n",
       "      <td>...</td>\n",
       "      <td>...</td>\n",
       "      <td>...</td>\n",
       "      <td>...</td>\n",
       "      <td>...</td>\n",
       "    </tr>\n",
       "    <tr>\n",
       "      <td>8928</td>\n",
       "      <td>2020-10-21</td>\n",
       "      <td>CZ0722</td>\n",
       "      <td>Uherské Hradiště</td>\n",
       "      <td>274</td>\n",
       "      <td>274</td>\n",
       "      <td>274</td>\n",
       "      <td>1</td>\n",
       "      <td>1</td>\n",
       "    </tr>\n",
       "    <tr>\n",
       "      <td>8937</td>\n",
       "      <td>2020-10-22</td>\n",
       "      <td>CZ0100</td>\n",
       "      <td>Praha</td>\n",
       "      <td>1670</td>\n",
       "      <td>1670</td>\n",
       "      <td>1670</td>\n",
       "      <td>7</td>\n",
       "      <td>7</td>\n",
       "    </tr>\n",
       "    <tr>\n",
       "      <td>9005</td>\n",
       "      <td>2020-10-22</td>\n",
       "      <td>CZ0722</td>\n",
       "      <td>Uherské Hradiště</td>\n",
       "      <td>243</td>\n",
       "      <td>243</td>\n",
       "      <td>243</td>\n",
       "      <td>0</td>\n",
       "      <td>0</td>\n",
       "    </tr>\n",
       "    <tr>\n",
       "      <td>9014</td>\n",
       "      <td>2020-10-23</td>\n",
       "      <td>CZ0100</td>\n",
       "      <td>Praha</td>\n",
       "      <td>579</td>\n",
       "      <td>579</td>\n",
       "      <td>579</td>\n",
       "      <td>0</td>\n",
       "      <td>0</td>\n",
       "    </tr>\n",
       "    <tr>\n",
       "      <td>9082</td>\n",
       "      <td>2020-10-23</td>\n",
       "      <td>CZ0722</td>\n",
       "      <td>Uherské Hradiště</td>\n",
       "      <td>145</td>\n",
       "      <td>145</td>\n",
       "      <td>145</td>\n",
       "      <td>0</td>\n",
       "      <td>0</td>\n",
       "    </tr>\n",
       "  </tbody>\n",
       "</table>\n",
       "<p>370 rows × 8 columns</p>\n",
       "</div>"
      ],
      "text/plain": [
       "          datum okres_lau_kod       okres_nazev   vek  pohlavi  kraj_nuts_kod  \\\n",
       "0    2020-03-01        CZ0100             Praha     2        2              2   \n",
       "3    2020-03-04        CZ0100             Praha     1        1              1   \n",
       "5    2020-03-06        CZ0100             Praha     8        8              8   \n",
       "8    2020-03-07        CZ0100             Praha     4        4              4   \n",
       "17   2020-03-09        CZ0100             Praha     4        4              4   \n",
       "...         ...           ...               ...   ...      ...            ...   \n",
       "8928 2020-10-21        CZ0722  Uherské Hradiště   274      274            274   \n",
       "8937 2020-10-22        CZ0100             Praha  1670     1670           1670   \n",
       "9005 2020-10-22        CZ0722  Uherské Hradiště   243      243            243   \n",
       "9014 2020-10-23        CZ0100             Praha   579      579            579   \n",
       "9082 2020-10-23        CZ0722  Uherské Hradiště   145      145            145   \n",
       "\n",
       "      nakaza_v_zahranici  nakaza_zeme_csu_kod  \n",
       "0                      2                    2  \n",
       "3                      1                    1  \n",
       "5                      7                    7  \n",
       "8                      3                    3  \n",
       "17                     4                    4  \n",
       "...                  ...                  ...  \n",
       "8928                   1                    1  \n",
       "8937                   7                    7  \n",
       "9005                   0                    0  \n",
       "9014                   0                    0  \n",
       "9082                   0                    0  \n",
       "\n",
       "[370 rows x 8 columns]"
      ]
     },
     "execution_count": 36,
     "metadata": {},
     "output_type": "execute_result"
    }
   ],
   "source": [
    "date_district_count[date_district_count['okres_lau_kod'].isin(['CZ0100','CZ0722'])]"
   ]
  },
  {
   "cell_type": "code",
   "execution_count": 4,
   "metadata": {},
   "outputs": [
    {
     "data": {
      "application/vnd.plotly.v1+json": {
       "config": {
        "plotlyServerURL": "https://plot.ly"
       },
       "data": [
        {
         "hovertemplate": "Název okresu=Praha<br>Datum=%{x}<br>Počet=%{y}<extra></extra>",
         "legendgroup": "Praha",
         "line": {
          "color": "rgb(158,1,66)",
          "dash": "solid"
         },
         "mode": "lines",
         "name": "Praha",
         "orientation": "v",
         "showlegend": true,
         "type": "scatter",
         "x": [
          "2020-03-01T00:00:00",
          "2020-03-04T00:00:00",
          "2020-03-06T00:00:00",
          "2020-03-07T00:00:00",
          "2020-03-09T00:00:00",
          "2020-03-10T00:00:00",
          "2020-03-11T00:00:00",
          "2020-03-12T00:00:00",
          "2020-03-13T00:00:00",
          "2020-03-14T00:00:00",
          "2020-03-15T00:00:00",
          "2020-03-16T00:00:00",
          "2020-03-17T00:00:00",
          "2020-03-18T00:00:00",
          "2020-03-19T00:00:00",
          "2020-03-20T00:00:00",
          "2020-03-21T00:00:00",
          "2020-03-22T00:00:00",
          "2020-03-23T00:00:00",
          "2020-03-24T00:00:00",
          "2020-03-25T00:00:00",
          "2020-03-26T00:00:00",
          "2020-03-27T00:00:00",
          "2020-03-28T00:00:00",
          "2020-03-29T00:00:00",
          "2020-03-30T00:00:00",
          "2020-03-31T00:00:00",
          "2020-04-01T00:00:00",
          "2020-04-02T00:00:00",
          "2020-04-03T00:00:00",
          "2020-04-04T00:00:00",
          "2020-04-05T00:00:00",
          "2020-04-06T00:00:00",
          "2020-04-07T00:00:00",
          "2020-04-08T00:00:00",
          "2020-04-09T00:00:00",
          "2020-04-10T00:00:00",
          "2020-04-11T00:00:00",
          "2020-04-12T00:00:00",
          "2020-04-13T00:00:00",
          "2020-04-14T00:00:00",
          "2020-04-15T00:00:00",
          "2020-04-16T00:00:00",
          "2020-04-17T00:00:00",
          "2020-04-18T00:00:00",
          "2020-04-19T00:00:00",
          "2020-04-20T00:00:00",
          "2020-04-21T00:00:00",
          "2020-04-22T00:00:00",
          "2020-04-23T00:00:00",
          "2020-04-24T00:00:00",
          "2020-04-25T00:00:00",
          "2020-04-26T00:00:00",
          "2020-04-27T00:00:00",
          "2020-04-28T00:00:00",
          "2020-04-29T00:00:00",
          "2020-04-30T00:00:00",
          "2020-05-01T00:00:00",
          "2020-05-02T00:00:00",
          "2020-05-03T00:00:00",
          "2020-05-04T00:00:00",
          "2020-05-05T00:00:00",
          "2020-05-06T00:00:00",
          "2020-05-07T00:00:00",
          "2020-05-08T00:00:00",
          "2020-05-09T00:00:00",
          "2020-05-10T00:00:00",
          "2020-05-11T00:00:00",
          "2020-05-12T00:00:00",
          "2020-05-13T00:00:00",
          "2020-05-14T00:00:00",
          "2020-05-15T00:00:00",
          "2020-05-16T00:00:00",
          "2020-05-17T00:00:00",
          "2020-05-18T00:00:00",
          "2020-05-19T00:00:00",
          "2020-05-20T00:00:00",
          "2020-05-21T00:00:00",
          "2020-05-22T00:00:00",
          "2020-05-23T00:00:00",
          "2020-05-24T00:00:00",
          "2020-05-25T00:00:00",
          "2020-05-26T00:00:00",
          "2020-05-27T00:00:00",
          "2020-05-28T00:00:00",
          "2020-05-29T00:00:00",
          "2020-05-30T00:00:00",
          "2020-05-31T00:00:00",
          "2020-06-01T00:00:00",
          "2020-06-02T00:00:00",
          "2020-06-03T00:00:00",
          "2020-06-04T00:00:00",
          "2020-06-05T00:00:00",
          "2020-06-06T00:00:00",
          "2020-06-07T00:00:00",
          "2020-06-08T00:00:00",
          "2020-06-09T00:00:00",
          "2020-06-10T00:00:00",
          "2020-06-11T00:00:00",
          "2020-06-12T00:00:00",
          "2020-06-13T00:00:00",
          "2020-06-14T00:00:00",
          "2020-06-15T00:00:00",
          "2020-06-16T00:00:00",
          "2020-06-17T00:00:00",
          "2020-06-18T00:00:00",
          "2020-06-19T00:00:00",
          "2020-06-20T00:00:00",
          "2020-06-21T00:00:00",
          "2020-06-22T00:00:00",
          "2020-06-23T00:00:00",
          "2020-06-24T00:00:00",
          "2020-06-25T00:00:00",
          "2020-06-26T00:00:00",
          "2020-06-27T00:00:00",
          "2020-06-28T00:00:00",
          "2020-06-29T00:00:00",
          "2020-06-30T00:00:00",
          "2020-07-01T00:00:00",
          "2020-07-02T00:00:00",
          "2020-07-03T00:00:00",
          "2020-07-04T00:00:00",
          "2020-07-05T00:00:00",
          "2020-07-06T00:00:00",
          "2020-07-07T00:00:00",
          "2020-07-08T00:00:00",
          "2020-07-09T00:00:00",
          "2020-07-10T00:00:00",
          "2020-07-11T00:00:00",
          "2020-07-12T00:00:00",
          "2020-07-13T00:00:00",
          "2020-07-14T00:00:00",
          "2020-07-15T00:00:00",
          "2020-07-16T00:00:00",
          "2020-07-17T00:00:00",
          "2020-07-18T00:00:00",
          "2020-07-19T00:00:00",
          "2020-07-20T00:00:00",
          "2020-07-21T00:00:00",
          "2020-07-22T00:00:00",
          "2020-07-23T00:00:00",
          "2020-07-24T00:00:00",
          "2020-07-25T00:00:00",
          "2020-07-26T00:00:00",
          "2020-07-27T00:00:00",
          "2020-07-28T00:00:00",
          "2020-07-29T00:00:00",
          "2020-07-30T00:00:00",
          "2020-07-31T00:00:00",
          "2020-08-01T00:00:00",
          "2020-08-02T00:00:00",
          "2020-08-03T00:00:00",
          "2020-08-04T00:00:00",
          "2020-08-05T00:00:00",
          "2020-08-06T00:00:00",
          "2020-08-07T00:00:00",
          "2020-08-08T00:00:00",
          "2020-08-09T00:00:00",
          "2020-08-10T00:00:00",
          "2020-08-11T00:00:00",
          "2020-08-12T00:00:00",
          "2020-08-13T00:00:00",
          "2020-08-14T00:00:00",
          "2020-08-15T00:00:00",
          "2020-08-16T00:00:00",
          "2020-08-17T00:00:00",
          "2020-08-18T00:00:00",
          "2020-08-19T00:00:00",
          "2020-08-20T00:00:00",
          "2020-08-21T00:00:00",
          "2020-08-22T00:00:00",
          "2020-08-23T00:00:00",
          "2020-08-24T00:00:00",
          "2020-08-25T00:00:00",
          "2020-08-26T00:00:00",
          "2020-08-27T00:00:00",
          "2020-08-28T00:00:00",
          "2020-08-29T00:00:00",
          "2020-08-30T00:00:00",
          "2020-08-31T00:00:00",
          "2020-09-01T00:00:00",
          "2020-09-02T00:00:00",
          "2020-09-03T00:00:00",
          "2020-09-04T00:00:00",
          "2020-09-05T00:00:00",
          "2020-09-06T00:00:00",
          "2020-09-07T00:00:00",
          "2020-09-08T00:00:00",
          "2020-09-09T00:00:00",
          "2020-09-10T00:00:00",
          "2020-09-11T00:00:00",
          "2020-09-12T00:00:00",
          "2020-09-13T00:00:00",
          "2020-09-14T00:00:00",
          "2020-09-15T00:00:00",
          "2020-09-16T00:00:00",
          "2020-09-17T00:00:00",
          "2020-09-18T00:00:00",
          "2020-09-19T00:00:00",
          "2020-09-20T00:00:00",
          "2020-09-21T00:00:00",
          "2020-09-22T00:00:00",
          "2020-09-23T00:00:00",
          "2020-09-24T00:00:00",
          "2020-09-25T00:00:00",
          "2020-09-26T00:00:00",
          "2020-09-27T00:00:00",
          "2020-09-28T00:00:00",
          "2020-09-29T00:00:00",
          "2020-09-30T00:00:00",
          "2020-10-01T00:00:00",
          "2020-10-02T00:00:00",
          "2020-10-03T00:00:00",
          "2020-10-04T00:00:00",
          "2020-10-05T00:00:00",
          "2020-10-06T00:00:00",
          "2020-10-07T00:00:00",
          "2020-10-08T00:00:00",
          "2020-10-09T00:00:00",
          "2020-10-10T00:00:00",
          "2020-10-11T00:00:00",
          "2020-10-12T00:00:00",
          "2020-10-13T00:00:00",
          "2020-10-14T00:00:00",
          "2020-10-15T00:00:00",
          "2020-10-16T00:00:00",
          "2020-10-17T00:00:00",
          "2020-10-18T00:00:00",
          "2020-10-19T00:00:00",
          "2020-10-20T00:00:00",
          "2020-10-21T00:00:00",
          "2020-10-22T00:00:00",
          "2020-10-23T00:00:00"
         ],
         "xaxis": "x",
         "y": [
          2,
          1,
          8,
          4,
          4,
          12,
          6,
          12,
          7,
          15,
          39,
          20,
          20,
          32,
          78,
          33,
          61,
          26,
          38,
          58,
          82,
          68,
          109,
          56,
          33,
          37,
          56,
          78,
          81,
          60,
          27,
          38,
          36,
          32,
          55,
          40,
          34,
          19,
          16,
          10,
          11,
          39,
          22,
          22,
          28,
          13,
          43,
          9,
          14,
          2,
          14,
          14,
          1,
          4,
          10,
          10,
          22,
          12,
          2,
          1,
          7,
          15,
          10,
          14,
          14,
          12,
          9,
          12,
          6,
          21,
          13,
          15,
          15,
          13,
          24,
          11,
          14,
          2,
          22,
          3,
          4,
          3,
          3,
          8,
          12,
          10,
          9,
          8,
          11,
          15,
          24,
          15,
          5,
          2,
          6,
          13,
          6,
          14,
          12,
          17,
          18,
          14,
          13,
          12,
          12,
          24,
          21,
          4,
          9,
          8,
          19,
          19,
          15,
          12,
          10,
          8,
          3,
          9,
          8,
          16,
          11,
          1,
          8,
          9,
          5,
          11,
          15,
          16,
          7,
          6,
          12,
          14,
          14,
          20,
          11,
          16,
          26,
          24,
          62,
          54,
          50,
          82,
          39,
          34,
          44,
          63,
          67,
          46,
          52,
          32,
          26,
          43,
          78,
          37,
          52,
          71,
          46,
          32,
          50,
          84,
          81,
          89,
          78,
          43,
          39,
          47,
          66,
          84,
          45,
          128,
          83,
          33,
          58,
          68,
          106,
          93,
          135,
          57,
          127,
          54,
          119,
          140,
          180,
          198,
          122,
          163,
          128,
          304,
          270,
          315,
          276,
          408,
          247,
          245,
          266,
          447,
          676,
          377,
          374,
          204,
          250,
          426,
          360,
          425,
          488,
          449,
          311,
          230,
          340,
          499,
          651,
          510,
          472,
          490,
          445,
          823,
          825,
          694,
          1333,
          627,
          407,
          611,
          1099,
          1239,
          1098,
          1311,
          1151,
          629,
          995,
          1542,
          1635,
          1670,
          579
         ],
         "yaxis": "y"
        },
        {
         "hovertemplate": "Název okresu=Uherské Hradiště<br>Datum=%{x}<br>Počet=%{y}<extra></extra>",
         "legendgroup": "Uherské Hradiště",
         "line": {
          "color": "rgb(213,62,79)",
          "dash": "solid"
         },
         "mode": "lines",
         "name": "Uherské Hradiště",
         "orientation": "v",
         "showlegend": true,
         "type": "scatter",
         "x": [
          "2020-03-10T00:00:00",
          "2020-03-11T00:00:00",
          "2020-03-12T00:00:00",
          "2020-03-13T00:00:00",
          "2020-03-15T00:00:00",
          "2020-03-18T00:00:00",
          "2020-03-19T00:00:00",
          "2020-03-21T00:00:00",
          "2020-03-22T00:00:00",
          "2020-03-23T00:00:00",
          "2020-03-24T00:00:00",
          "2020-03-25T00:00:00",
          "2020-03-26T00:00:00",
          "2020-03-27T00:00:00",
          "2020-03-28T00:00:00",
          "2020-03-29T00:00:00",
          "2020-03-30T00:00:00",
          "2020-03-31T00:00:00",
          "2020-04-01T00:00:00",
          "2020-04-02T00:00:00",
          "2020-04-03T00:00:00",
          "2020-04-04T00:00:00",
          "2020-04-05T00:00:00",
          "2020-04-07T00:00:00",
          "2020-04-08T00:00:00",
          "2020-04-09T00:00:00",
          "2020-04-10T00:00:00",
          "2020-04-11T00:00:00",
          "2020-04-12T00:00:00",
          "2020-04-15T00:00:00",
          "2020-04-16T00:00:00",
          "2020-04-17T00:00:00",
          "2020-04-21T00:00:00",
          "2020-04-22T00:00:00",
          "2020-04-25T00:00:00",
          "2020-04-26T00:00:00",
          "2020-05-12T00:00:00",
          "2020-05-13T00:00:00",
          "2020-07-07T00:00:00",
          "2020-07-09T00:00:00",
          "2020-07-10T00:00:00",
          "2020-07-12T00:00:00",
          "2020-07-13T00:00:00",
          "2020-07-14T00:00:00",
          "2020-07-15T00:00:00",
          "2020-07-16T00:00:00",
          "2020-07-17T00:00:00",
          "2020-07-18T00:00:00",
          "2020-07-19T00:00:00",
          "2020-07-21T00:00:00",
          "2020-07-23T00:00:00",
          "2020-07-24T00:00:00",
          "2020-07-25T00:00:00",
          "2020-07-26T00:00:00",
          "2020-07-27T00:00:00",
          "2020-07-29T00:00:00",
          "2020-07-30T00:00:00",
          "2020-07-31T00:00:00",
          "2020-08-02T00:00:00",
          "2020-08-03T00:00:00",
          "2020-08-04T00:00:00",
          "2020-08-05T00:00:00",
          "2020-08-06T00:00:00",
          "2020-08-07T00:00:00",
          "2020-08-08T00:00:00",
          "2020-08-09T00:00:00",
          "2020-08-11T00:00:00",
          "2020-08-12T00:00:00",
          "2020-08-13T00:00:00",
          "2020-08-14T00:00:00",
          "2020-08-15T00:00:00",
          "2020-08-16T00:00:00",
          "2020-08-17T00:00:00",
          "2020-08-18T00:00:00",
          "2020-08-19T00:00:00",
          "2020-08-20T00:00:00",
          "2020-08-21T00:00:00",
          "2020-08-22T00:00:00",
          "2020-08-25T00:00:00",
          "2020-08-26T00:00:00",
          "2020-08-27T00:00:00",
          "2020-08-28T00:00:00",
          "2020-08-29T00:00:00",
          "2020-08-30T00:00:00",
          "2020-09-01T00:00:00",
          "2020-09-02T00:00:00",
          "2020-09-03T00:00:00",
          "2020-09-04T00:00:00",
          "2020-09-05T00:00:00",
          "2020-09-06T00:00:00",
          "2020-09-07T00:00:00",
          "2020-09-08T00:00:00",
          "2020-09-09T00:00:00",
          "2020-09-10T00:00:00",
          "2020-09-11T00:00:00",
          "2020-09-12T00:00:00",
          "2020-09-13T00:00:00",
          "2020-09-14T00:00:00",
          "2020-09-15T00:00:00",
          "2020-09-16T00:00:00",
          "2020-09-17T00:00:00",
          "2020-09-18T00:00:00",
          "2020-09-19T00:00:00",
          "2020-09-20T00:00:00",
          "2020-09-21T00:00:00",
          "2020-09-22T00:00:00",
          "2020-09-23T00:00:00",
          "2020-09-24T00:00:00",
          "2020-09-25T00:00:00",
          "2020-09-26T00:00:00",
          "2020-09-27T00:00:00",
          "2020-09-28T00:00:00",
          "2020-09-29T00:00:00",
          "2020-09-30T00:00:00",
          "2020-10-01T00:00:00",
          "2020-10-02T00:00:00",
          "2020-10-03T00:00:00",
          "2020-10-04T00:00:00",
          "2020-10-05T00:00:00",
          "2020-10-06T00:00:00",
          "2020-10-07T00:00:00",
          "2020-10-08T00:00:00",
          "2020-10-09T00:00:00",
          "2020-10-10T00:00:00",
          "2020-10-11T00:00:00",
          "2020-10-12T00:00:00",
          "2020-10-13T00:00:00",
          "2020-10-14T00:00:00",
          "2020-10-15T00:00:00",
          "2020-10-16T00:00:00",
          "2020-10-17T00:00:00",
          "2020-10-18T00:00:00",
          "2020-10-19T00:00:00",
          "2020-10-20T00:00:00",
          "2020-10-21T00:00:00",
          "2020-10-22T00:00:00",
          "2020-10-23T00:00:00"
         ],
         "xaxis": "x",
         "y": [
          1,
          1,
          1,
          6,
          6,
          5,
          2,
          5,
          3,
          3,
          5,
          6,
          3,
          7,
          7,
          12,
          2,
          14,
          5,
          1,
          9,
          2,
          1,
          1,
          12,
          3,
          1,
          5,
          1,
          1,
          2,
          1,
          1,
          2,
          2,
          3,
          1,
          1,
          3,
          1,
          1,
          1,
          1,
          6,
          5,
          7,
          4,
          2,
          9,
          6,
          3,
          2,
          4,
          2,
          2,
          1,
          3,
          2,
          3,
          2,
          5,
          1,
          1,
          4,
          1,
          1,
          7,
          2,
          10,
          15,
          13,
          1,
          1,
          27,
          1,
          5,
          15,
          6,
          3,
          9,
          5,
          2,
          8,
          2,
          14,
          6,
          7,
          19,
          8,
          2,
          10,
          23,
          12,
          54,
          36,
          31,
          6,
          16,
          45,
          42,
          77,
          27,
          60,
          29,
          18,
          48,
          30,
          58,
          61,
          57,
          46,
          50,
          78,
          70,
          85,
          153,
          97,
          81,
          54,
          82,
          115,
          163,
          210,
          97,
          128,
          99,
          137,
          209,
          189,
          186,
          162,
          99,
          140,
          220,
          274,
          243,
          145
         ],
         "yaxis": "y"
        }
       ],
       "layout": {
        "legend": {
         "title": {
          "text": "Název okresu"
         },
         "tracegroupgap": 0
        },
        "template": {
         "data": {
          "bar": [
           {
            "error_x": {
             "color": "#2a3f5f"
            },
            "error_y": {
             "color": "#2a3f5f"
            },
            "marker": {
             "line": {
              "color": "#E5ECF6",
              "width": 0.5
             }
            },
            "type": "bar"
           }
          ],
          "barpolar": [
           {
            "marker": {
             "line": {
              "color": "#E5ECF6",
              "width": 0.5
             }
            },
            "type": "barpolar"
           }
          ],
          "carpet": [
           {
            "aaxis": {
             "endlinecolor": "#2a3f5f",
             "gridcolor": "white",
             "linecolor": "white",
             "minorgridcolor": "white",
             "startlinecolor": "#2a3f5f"
            },
            "baxis": {
             "endlinecolor": "#2a3f5f",
             "gridcolor": "white",
             "linecolor": "white",
             "minorgridcolor": "white",
             "startlinecolor": "#2a3f5f"
            },
            "type": "carpet"
           }
          ],
          "choropleth": [
           {
            "colorbar": {
             "outlinewidth": 0,
             "ticks": ""
            },
            "type": "choropleth"
           }
          ],
          "contour": [
           {
            "colorbar": {
             "outlinewidth": 0,
             "ticks": ""
            },
            "colorscale": [
             [
              0,
              "#0d0887"
             ],
             [
              0.1111111111111111,
              "#46039f"
             ],
             [
              0.2222222222222222,
              "#7201a8"
             ],
             [
              0.3333333333333333,
              "#9c179e"
             ],
             [
              0.4444444444444444,
              "#bd3786"
             ],
             [
              0.5555555555555556,
              "#d8576b"
             ],
             [
              0.6666666666666666,
              "#ed7953"
             ],
             [
              0.7777777777777778,
              "#fb9f3a"
             ],
             [
              0.8888888888888888,
              "#fdca26"
             ],
             [
              1,
              "#f0f921"
             ]
            ],
            "type": "contour"
           }
          ],
          "contourcarpet": [
           {
            "colorbar": {
             "outlinewidth": 0,
             "ticks": ""
            },
            "type": "contourcarpet"
           }
          ],
          "heatmap": [
           {
            "colorbar": {
             "outlinewidth": 0,
             "ticks": ""
            },
            "colorscale": [
             [
              0,
              "#0d0887"
             ],
             [
              0.1111111111111111,
              "#46039f"
             ],
             [
              0.2222222222222222,
              "#7201a8"
             ],
             [
              0.3333333333333333,
              "#9c179e"
             ],
             [
              0.4444444444444444,
              "#bd3786"
             ],
             [
              0.5555555555555556,
              "#d8576b"
             ],
             [
              0.6666666666666666,
              "#ed7953"
             ],
             [
              0.7777777777777778,
              "#fb9f3a"
             ],
             [
              0.8888888888888888,
              "#fdca26"
             ],
             [
              1,
              "#f0f921"
             ]
            ],
            "type": "heatmap"
           }
          ],
          "heatmapgl": [
           {
            "colorbar": {
             "outlinewidth": 0,
             "ticks": ""
            },
            "colorscale": [
             [
              0,
              "#0d0887"
             ],
             [
              0.1111111111111111,
              "#46039f"
             ],
             [
              0.2222222222222222,
              "#7201a8"
             ],
             [
              0.3333333333333333,
              "#9c179e"
             ],
             [
              0.4444444444444444,
              "#bd3786"
             ],
             [
              0.5555555555555556,
              "#d8576b"
             ],
             [
              0.6666666666666666,
              "#ed7953"
             ],
             [
              0.7777777777777778,
              "#fb9f3a"
             ],
             [
              0.8888888888888888,
              "#fdca26"
             ],
             [
              1,
              "#f0f921"
             ]
            ],
            "type": "heatmapgl"
           }
          ],
          "histogram": [
           {
            "marker": {
             "colorbar": {
              "outlinewidth": 0,
              "ticks": ""
             }
            },
            "type": "histogram"
           }
          ],
          "histogram2d": [
           {
            "colorbar": {
             "outlinewidth": 0,
             "ticks": ""
            },
            "colorscale": [
             [
              0,
              "#0d0887"
             ],
             [
              0.1111111111111111,
              "#46039f"
             ],
             [
              0.2222222222222222,
              "#7201a8"
             ],
             [
              0.3333333333333333,
              "#9c179e"
             ],
             [
              0.4444444444444444,
              "#bd3786"
             ],
             [
              0.5555555555555556,
              "#d8576b"
             ],
             [
              0.6666666666666666,
              "#ed7953"
             ],
             [
              0.7777777777777778,
              "#fb9f3a"
             ],
             [
              0.8888888888888888,
              "#fdca26"
             ],
             [
              1,
              "#f0f921"
             ]
            ],
            "type": "histogram2d"
           }
          ],
          "histogram2dcontour": [
           {
            "colorbar": {
             "outlinewidth": 0,
             "ticks": ""
            },
            "colorscale": [
             [
              0,
              "#0d0887"
             ],
             [
              0.1111111111111111,
              "#46039f"
             ],
             [
              0.2222222222222222,
              "#7201a8"
             ],
             [
              0.3333333333333333,
              "#9c179e"
             ],
             [
              0.4444444444444444,
              "#bd3786"
             ],
             [
              0.5555555555555556,
              "#d8576b"
             ],
             [
              0.6666666666666666,
              "#ed7953"
             ],
             [
              0.7777777777777778,
              "#fb9f3a"
             ],
             [
              0.8888888888888888,
              "#fdca26"
             ],
             [
              1,
              "#f0f921"
             ]
            ],
            "type": "histogram2dcontour"
           }
          ],
          "mesh3d": [
           {
            "colorbar": {
             "outlinewidth": 0,
             "ticks": ""
            },
            "type": "mesh3d"
           }
          ],
          "parcoords": [
           {
            "line": {
             "colorbar": {
              "outlinewidth": 0,
              "ticks": ""
             }
            },
            "type": "parcoords"
           }
          ],
          "pie": [
           {
            "automargin": true,
            "type": "pie"
           }
          ],
          "scatter": [
           {
            "marker": {
             "colorbar": {
              "outlinewidth": 0,
              "ticks": ""
             }
            },
            "type": "scatter"
           }
          ],
          "scatter3d": [
           {
            "line": {
             "colorbar": {
              "outlinewidth": 0,
              "ticks": ""
             }
            },
            "marker": {
             "colorbar": {
              "outlinewidth": 0,
              "ticks": ""
             }
            },
            "type": "scatter3d"
           }
          ],
          "scattercarpet": [
           {
            "marker": {
             "colorbar": {
              "outlinewidth": 0,
              "ticks": ""
             }
            },
            "type": "scattercarpet"
           }
          ],
          "scattergeo": [
           {
            "marker": {
             "colorbar": {
              "outlinewidth": 0,
              "ticks": ""
             }
            },
            "type": "scattergeo"
           }
          ],
          "scattergl": [
           {
            "marker": {
             "colorbar": {
              "outlinewidth": 0,
              "ticks": ""
             }
            },
            "type": "scattergl"
           }
          ],
          "scattermapbox": [
           {
            "marker": {
             "colorbar": {
              "outlinewidth": 0,
              "ticks": ""
             }
            },
            "type": "scattermapbox"
           }
          ],
          "scatterpolar": [
           {
            "marker": {
             "colorbar": {
              "outlinewidth": 0,
              "ticks": ""
             }
            },
            "type": "scatterpolar"
           }
          ],
          "scatterpolargl": [
           {
            "marker": {
             "colorbar": {
              "outlinewidth": 0,
              "ticks": ""
             }
            },
            "type": "scatterpolargl"
           }
          ],
          "scatterternary": [
           {
            "marker": {
             "colorbar": {
              "outlinewidth": 0,
              "ticks": ""
             }
            },
            "type": "scatterternary"
           }
          ],
          "surface": [
           {
            "colorbar": {
             "outlinewidth": 0,
             "ticks": ""
            },
            "colorscale": [
             [
              0,
              "#0d0887"
             ],
             [
              0.1111111111111111,
              "#46039f"
             ],
             [
              0.2222222222222222,
              "#7201a8"
             ],
             [
              0.3333333333333333,
              "#9c179e"
             ],
             [
              0.4444444444444444,
              "#bd3786"
             ],
             [
              0.5555555555555556,
              "#d8576b"
             ],
             [
              0.6666666666666666,
              "#ed7953"
             ],
             [
              0.7777777777777778,
              "#fb9f3a"
             ],
             [
              0.8888888888888888,
              "#fdca26"
             ],
             [
              1,
              "#f0f921"
             ]
            ],
            "type": "surface"
           }
          ],
          "table": [
           {
            "cells": {
             "fill": {
              "color": "#EBF0F8"
             },
             "line": {
              "color": "white"
             }
            },
            "header": {
             "fill": {
              "color": "#C8D4E3"
             },
             "line": {
              "color": "white"
             }
            },
            "type": "table"
           }
          ]
         },
         "layout": {
          "annotationdefaults": {
           "arrowcolor": "#2a3f5f",
           "arrowhead": 0,
           "arrowwidth": 1
          },
          "coloraxis": {
           "colorbar": {
            "outlinewidth": 0,
            "ticks": ""
           }
          },
          "colorscale": {
           "diverging": [
            [
             0,
             "#8e0152"
            ],
            [
             0.1,
             "#c51b7d"
            ],
            [
             0.2,
             "#de77ae"
            ],
            [
             0.3,
             "#f1b6da"
            ],
            [
             0.4,
             "#fde0ef"
            ],
            [
             0.5,
             "#f7f7f7"
            ],
            [
             0.6,
             "#e6f5d0"
            ],
            [
             0.7,
             "#b8e186"
            ],
            [
             0.8,
             "#7fbc41"
            ],
            [
             0.9,
             "#4d9221"
            ],
            [
             1,
             "#276419"
            ]
           ],
           "sequential": [
            [
             0,
             "#0d0887"
            ],
            [
             0.1111111111111111,
             "#46039f"
            ],
            [
             0.2222222222222222,
             "#7201a8"
            ],
            [
             0.3333333333333333,
             "#9c179e"
            ],
            [
             0.4444444444444444,
             "#bd3786"
            ],
            [
             0.5555555555555556,
             "#d8576b"
            ],
            [
             0.6666666666666666,
             "#ed7953"
            ],
            [
             0.7777777777777778,
             "#fb9f3a"
            ],
            [
             0.8888888888888888,
             "#fdca26"
            ],
            [
             1,
             "#f0f921"
            ]
           ],
           "sequentialminus": [
            [
             0,
             "#0d0887"
            ],
            [
             0.1111111111111111,
             "#46039f"
            ],
            [
             0.2222222222222222,
             "#7201a8"
            ],
            [
             0.3333333333333333,
             "#9c179e"
            ],
            [
             0.4444444444444444,
             "#bd3786"
            ],
            [
             0.5555555555555556,
             "#d8576b"
            ],
            [
             0.6666666666666666,
             "#ed7953"
            ],
            [
             0.7777777777777778,
             "#fb9f3a"
            ],
            [
             0.8888888888888888,
             "#fdca26"
            ],
            [
             1,
             "#f0f921"
            ]
           ]
          },
          "colorway": [
           "#636efa",
           "#EF553B",
           "#00cc96",
           "#ab63fa",
           "#FFA15A",
           "#19d3f3",
           "#FF6692",
           "#B6E880",
           "#FF97FF",
           "#FECB52"
          ],
          "font": {
           "color": "#2a3f5f"
          },
          "geo": {
           "bgcolor": "white",
           "lakecolor": "white",
           "landcolor": "#E5ECF6",
           "showlakes": true,
           "showland": true,
           "subunitcolor": "white"
          },
          "hoverlabel": {
           "align": "left"
          },
          "hovermode": "closest",
          "mapbox": {
           "style": "light"
          },
          "paper_bgcolor": "white",
          "plot_bgcolor": "#E5ECF6",
          "polar": {
           "angularaxis": {
            "gridcolor": "white",
            "linecolor": "white",
            "ticks": ""
           },
           "bgcolor": "#E5ECF6",
           "radialaxis": {
            "gridcolor": "white",
            "linecolor": "white",
            "ticks": ""
           }
          },
          "scene": {
           "xaxis": {
            "backgroundcolor": "#E5ECF6",
            "gridcolor": "white",
            "gridwidth": 2,
            "linecolor": "white",
            "showbackground": true,
            "ticks": "",
            "zerolinecolor": "white"
           },
           "yaxis": {
            "backgroundcolor": "#E5ECF6",
            "gridcolor": "white",
            "gridwidth": 2,
            "linecolor": "white",
            "showbackground": true,
            "ticks": "",
            "zerolinecolor": "white"
           },
           "zaxis": {
            "backgroundcolor": "#E5ECF6",
            "gridcolor": "white",
            "gridwidth": 2,
            "linecolor": "white",
            "showbackground": true,
            "ticks": "",
            "zerolinecolor": "white"
           }
          },
          "shapedefaults": {
           "line": {
            "color": "#2a3f5f"
           }
          },
          "ternary": {
           "aaxis": {
            "gridcolor": "white",
            "linecolor": "white",
            "ticks": ""
           },
           "baxis": {
            "gridcolor": "white",
            "linecolor": "white",
            "ticks": ""
           },
           "bgcolor": "#E5ECF6",
           "caxis": {
            "gridcolor": "white",
            "linecolor": "white",
            "ticks": ""
           }
          },
          "title": {
           "x": 0.05
          },
          "xaxis": {
           "automargin": true,
           "gridcolor": "white",
           "linecolor": "white",
           "ticks": "",
           "title": {
            "standoff": 15
           },
           "zerolinecolor": "white",
           "zerolinewidth": 2
          },
          "yaxis": {
           "automargin": true,
           "gridcolor": "white",
           "linecolor": "white",
           "ticks": "",
           "title": {
            "standoff": 15
           },
           "zerolinecolor": "white",
           "zerolinewidth": 2
          }
         }
        },
        "title": {
         "text": "Přírůstky v okresech"
        },
        "xaxis": {
         "anchor": "y",
         "domain": [
          0,
          1
         ],
         "title": {
          "text": "Datum"
         }
        },
        "yaxis": {
         "anchor": "x",
         "domain": [
          0,
          1
         ],
         "title": {
          "text": "Počet"
         }
        }
       }
      },
      "text/html": [
       "<div>                            <div id=\"13425660-eb87-4593-938f-0415f3fa7e20\" class=\"plotly-graph-div\" style=\"height:525px; width:100%;\"></div>            <script type=\"text/javascript\">                require([\"plotly\"], function(Plotly) {                    window.PLOTLYENV=window.PLOTLYENV || {};                                    if (document.getElementById(\"13425660-eb87-4593-938f-0415f3fa7e20\")) {                    Plotly.newPlot(                        \"13425660-eb87-4593-938f-0415f3fa7e20\",                        [{\"hovertemplate\": \"N\\u00e1zev okresu=Praha<br>Datum=%{x}<br>Po\\u010det=%{y}<extra></extra>\", \"legendgroup\": \"Praha\", \"line\": {\"color\": \"rgb(158,1,66)\", \"dash\": \"solid\"}, \"mode\": \"lines\", \"name\": \"Praha\", \"orientation\": \"v\", \"showlegend\": true, \"type\": \"scatter\", \"x\": [\"2020-03-01T00:00:00\", \"2020-03-04T00:00:00\", \"2020-03-06T00:00:00\", \"2020-03-07T00:00:00\", \"2020-03-09T00:00:00\", \"2020-03-10T00:00:00\", \"2020-03-11T00:00:00\", \"2020-03-12T00:00:00\", \"2020-03-13T00:00:00\", \"2020-03-14T00:00:00\", \"2020-03-15T00:00:00\", \"2020-03-16T00:00:00\", \"2020-03-17T00:00:00\", \"2020-03-18T00:00:00\", \"2020-03-19T00:00:00\", \"2020-03-20T00:00:00\", \"2020-03-21T00:00:00\", \"2020-03-22T00:00:00\", \"2020-03-23T00:00:00\", \"2020-03-24T00:00:00\", \"2020-03-25T00:00:00\", \"2020-03-26T00:00:00\", \"2020-03-27T00:00:00\", \"2020-03-28T00:00:00\", \"2020-03-29T00:00:00\", \"2020-03-30T00:00:00\", \"2020-03-31T00:00:00\", \"2020-04-01T00:00:00\", \"2020-04-02T00:00:00\", \"2020-04-03T00:00:00\", \"2020-04-04T00:00:00\", \"2020-04-05T00:00:00\", \"2020-04-06T00:00:00\", \"2020-04-07T00:00:00\", \"2020-04-08T00:00:00\", \"2020-04-09T00:00:00\", \"2020-04-10T00:00:00\", \"2020-04-11T00:00:00\", \"2020-04-12T00:00:00\", \"2020-04-13T00:00:00\", \"2020-04-14T00:00:00\", \"2020-04-15T00:00:00\", \"2020-04-16T00:00:00\", \"2020-04-17T00:00:00\", \"2020-04-18T00:00:00\", \"2020-04-19T00:00:00\", \"2020-04-20T00:00:00\", \"2020-04-21T00:00:00\", \"2020-04-22T00:00:00\", \"2020-04-23T00:00:00\", \"2020-04-24T00:00:00\", \"2020-04-25T00:00:00\", \"2020-04-26T00:00:00\", \"2020-04-27T00:00:00\", \"2020-04-28T00:00:00\", \"2020-04-29T00:00:00\", \"2020-04-30T00:00:00\", \"2020-05-01T00:00:00\", \"2020-05-02T00:00:00\", \"2020-05-03T00:00:00\", \"2020-05-04T00:00:00\", \"2020-05-05T00:00:00\", \"2020-05-06T00:00:00\", \"2020-05-07T00:00:00\", \"2020-05-08T00:00:00\", \"2020-05-09T00:00:00\", \"2020-05-10T00:00:00\", \"2020-05-11T00:00:00\", \"2020-05-12T00:00:00\", \"2020-05-13T00:00:00\", \"2020-05-14T00:00:00\", \"2020-05-15T00:00:00\", \"2020-05-16T00:00:00\", \"2020-05-17T00:00:00\", \"2020-05-18T00:00:00\", \"2020-05-19T00:00:00\", \"2020-05-20T00:00:00\", \"2020-05-21T00:00:00\", \"2020-05-22T00:00:00\", \"2020-05-23T00:00:00\", \"2020-05-24T00:00:00\", \"2020-05-25T00:00:00\", \"2020-05-26T00:00:00\", \"2020-05-27T00:00:00\", \"2020-05-28T00:00:00\", \"2020-05-29T00:00:00\", \"2020-05-30T00:00:00\", \"2020-05-31T00:00:00\", \"2020-06-01T00:00:00\", \"2020-06-02T00:00:00\", \"2020-06-03T00:00:00\", \"2020-06-04T00:00:00\", \"2020-06-05T00:00:00\", \"2020-06-06T00:00:00\", \"2020-06-07T00:00:00\", \"2020-06-08T00:00:00\", \"2020-06-09T00:00:00\", \"2020-06-10T00:00:00\", \"2020-06-11T00:00:00\", \"2020-06-12T00:00:00\", \"2020-06-13T00:00:00\", \"2020-06-14T00:00:00\", \"2020-06-15T00:00:00\", \"2020-06-16T00:00:00\", \"2020-06-17T00:00:00\", \"2020-06-18T00:00:00\", \"2020-06-19T00:00:00\", \"2020-06-20T00:00:00\", \"2020-06-21T00:00:00\", \"2020-06-22T00:00:00\", \"2020-06-23T00:00:00\", \"2020-06-24T00:00:00\", \"2020-06-25T00:00:00\", \"2020-06-26T00:00:00\", \"2020-06-27T00:00:00\", \"2020-06-28T00:00:00\", \"2020-06-29T00:00:00\", \"2020-06-30T00:00:00\", \"2020-07-01T00:00:00\", \"2020-07-02T00:00:00\", \"2020-07-03T00:00:00\", \"2020-07-04T00:00:00\", \"2020-07-05T00:00:00\", \"2020-07-06T00:00:00\", \"2020-07-07T00:00:00\", \"2020-07-08T00:00:00\", \"2020-07-09T00:00:00\", \"2020-07-10T00:00:00\", \"2020-07-11T00:00:00\", \"2020-07-12T00:00:00\", \"2020-07-13T00:00:00\", \"2020-07-14T00:00:00\", \"2020-07-15T00:00:00\", \"2020-07-16T00:00:00\", \"2020-07-17T00:00:00\", \"2020-07-18T00:00:00\", \"2020-07-19T00:00:00\", \"2020-07-20T00:00:00\", \"2020-07-21T00:00:00\", \"2020-07-22T00:00:00\", \"2020-07-23T00:00:00\", \"2020-07-24T00:00:00\", \"2020-07-25T00:00:00\", \"2020-07-26T00:00:00\", \"2020-07-27T00:00:00\", \"2020-07-28T00:00:00\", \"2020-07-29T00:00:00\", \"2020-07-30T00:00:00\", \"2020-07-31T00:00:00\", \"2020-08-01T00:00:00\", \"2020-08-02T00:00:00\", \"2020-08-03T00:00:00\", \"2020-08-04T00:00:00\", \"2020-08-05T00:00:00\", \"2020-08-06T00:00:00\", \"2020-08-07T00:00:00\", \"2020-08-08T00:00:00\", \"2020-08-09T00:00:00\", \"2020-08-10T00:00:00\", \"2020-08-11T00:00:00\", \"2020-08-12T00:00:00\", \"2020-08-13T00:00:00\", \"2020-08-14T00:00:00\", \"2020-08-15T00:00:00\", \"2020-08-16T00:00:00\", \"2020-08-17T00:00:00\", \"2020-08-18T00:00:00\", \"2020-08-19T00:00:00\", \"2020-08-20T00:00:00\", \"2020-08-21T00:00:00\", \"2020-08-22T00:00:00\", \"2020-08-23T00:00:00\", \"2020-08-24T00:00:00\", \"2020-08-25T00:00:00\", \"2020-08-26T00:00:00\", \"2020-08-27T00:00:00\", \"2020-08-28T00:00:00\", \"2020-08-29T00:00:00\", \"2020-08-30T00:00:00\", \"2020-08-31T00:00:00\", \"2020-09-01T00:00:00\", \"2020-09-02T00:00:00\", \"2020-09-03T00:00:00\", \"2020-09-04T00:00:00\", \"2020-09-05T00:00:00\", \"2020-09-06T00:00:00\", \"2020-09-07T00:00:00\", \"2020-09-08T00:00:00\", \"2020-09-09T00:00:00\", \"2020-09-10T00:00:00\", \"2020-09-11T00:00:00\", \"2020-09-12T00:00:00\", \"2020-09-13T00:00:00\", \"2020-09-14T00:00:00\", \"2020-09-15T00:00:00\", \"2020-09-16T00:00:00\", \"2020-09-17T00:00:00\", \"2020-09-18T00:00:00\", \"2020-09-19T00:00:00\", \"2020-09-20T00:00:00\", \"2020-09-21T00:00:00\", \"2020-09-22T00:00:00\", \"2020-09-23T00:00:00\", \"2020-09-24T00:00:00\", \"2020-09-25T00:00:00\", \"2020-09-26T00:00:00\", \"2020-09-27T00:00:00\", \"2020-09-28T00:00:00\", \"2020-09-29T00:00:00\", \"2020-09-30T00:00:00\", \"2020-10-01T00:00:00\", \"2020-10-02T00:00:00\", \"2020-10-03T00:00:00\", \"2020-10-04T00:00:00\", \"2020-10-05T00:00:00\", \"2020-10-06T00:00:00\", \"2020-10-07T00:00:00\", \"2020-10-08T00:00:00\", \"2020-10-09T00:00:00\", \"2020-10-10T00:00:00\", \"2020-10-11T00:00:00\", \"2020-10-12T00:00:00\", \"2020-10-13T00:00:00\", \"2020-10-14T00:00:00\", \"2020-10-15T00:00:00\", \"2020-10-16T00:00:00\", \"2020-10-17T00:00:00\", \"2020-10-18T00:00:00\", \"2020-10-19T00:00:00\", \"2020-10-20T00:00:00\", \"2020-10-21T00:00:00\", \"2020-10-22T00:00:00\", \"2020-10-23T00:00:00\"], \"xaxis\": \"x\", \"y\": [2, 1, 8, 4, 4, 12, 6, 12, 7, 15, 39, 20, 20, 32, 78, 33, 61, 26, 38, 58, 82, 68, 109, 56, 33, 37, 56, 78, 81, 60, 27, 38, 36, 32, 55, 40, 34, 19, 16, 10, 11, 39, 22, 22, 28, 13, 43, 9, 14, 2, 14, 14, 1, 4, 10, 10, 22, 12, 2, 1, 7, 15, 10, 14, 14, 12, 9, 12, 6, 21, 13, 15, 15, 13, 24, 11, 14, 2, 22, 3, 4, 3, 3, 8, 12, 10, 9, 8, 11, 15, 24, 15, 5, 2, 6, 13, 6, 14, 12, 17, 18, 14, 13, 12, 12, 24, 21, 4, 9, 8, 19, 19, 15, 12, 10, 8, 3, 9, 8, 16, 11, 1, 8, 9, 5, 11, 15, 16, 7, 6, 12, 14, 14, 20, 11, 16, 26, 24, 62, 54, 50, 82, 39, 34, 44, 63, 67, 46, 52, 32, 26, 43, 78, 37, 52, 71, 46, 32, 50, 84, 81, 89, 78, 43, 39, 47, 66, 84, 45, 128, 83, 33, 58, 68, 106, 93, 135, 57, 127, 54, 119, 140, 180, 198, 122, 163, 128, 304, 270, 315, 276, 408, 247, 245, 266, 447, 676, 377, 374, 204, 250, 426, 360, 425, 488, 449, 311, 230, 340, 499, 651, 510, 472, 490, 445, 823, 825, 694, 1333, 627, 407, 611, 1099, 1239, 1098, 1311, 1151, 629, 995, 1542, 1635, 1670, 579], \"yaxis\": \"y\"}, {\"hovertemplate\": \"N\\u00e1zev okresu=Uhersk\\u00e9 Hradi\\u0161t\\u011b<br>Datum=%{x}<br>Po\\u010det=%{y}<extra></extra>\", \"legendgroup\": \"Uhersk\\u00e9 Hradi\\u0161t\\u011b\", \"line\": {\"color\": \"rgb(213,62,79)\", \"dash\": \"solid\"}, \"mode\": \"lines\", \"name\": \"Uhersk\\u00e9 Hradi\\u0161t\\u011b\", \"orientation\": \"v\", \"showlegend\": true, \"type\": \"scatter\", \"x\": [\"2020-03-10T00:00:00\", \"2020-03-11T00:00:00\", \"2020-03-12T00:00:00\", \"2020-03-13T00:00:00\", \"2020-03-15T00:00:00\", \"2020-03-18T00:00:00\", \"2020-03-19T00:00:00\", \"2020-03-21T00:00:00\", \"2020-03-22T00:00:00\", \"2020-03-23T00:00:00\", \"2020-03-24T00:00:00\", \"2020-03-25T00:00:00\", \"2020-03-26T00:00:00\", \"2020-03-27T00:00:00\", \"2020-03-28T00:00:00\", \"2020-03-29T00:00:00\", \"2020-03-30T00:00:00\", \"2020-03-31T00:00:00\", \"2020-04-01T00:00:00\", \"2020-04-02T00:00:00\", \"2020-04-03T00:00:00\", \"2020-04-04T00:00:00\", \"2020-04-05T00:00:00\", \"2020-04-07T00:00:00\", \"2020-04-08T00:00:00\", \"2020-04-09T00:00:00\", \"2020-04-10T00:00:00\", \"2020-04-11T00:00:00\", \"2020-04-12T00:00:00\", \"2020-04-15T00:00:00\", \"2020-04-16T00:00:00\", \"2020-04-17T00:00:00\", \"2020-04-21T00:00:00\", \"2020-04-22T00:00:00\", \"2020-04-25T00:00:00\", \"2020-04-26T00:00:00\", \"2020-05-12T00:00:00\", \"2020-05-13T00:00:00\", \"2020-07-07T00:00:00\", \"2020-07-09T00:00:00\", \"2020-07-10T00:00:00\", \"2020-07-12T00:00:00\", \"2020-07-13T00:00:00\", \"2020-07-14T00:00:00\", \"2020-07-15T00:00:00\", \"2020-07-16T00:00:00\", \"2020-07-17T00:00:00\", \"2020-07-18T00:00:00\", \"2020-07-19T00:00:00\", \"2020-07-21T00:00:00\", \"2020-07-23T00:00:00\", \"2020-07-24T00:00:00\", \"2020-07-25T00:00:00\", \"2020-07-26T00:00:00\", \"2020-07-27T00:00:00\", \"2020-07-29T00:00:00\", \"2020-07-30T00:00:00\", \"2020-07-31T00:00:00\", \"2020-08-02T00:00:00\", \"2020-08-03T00:00:00\", \"2020-08-04T00:00:00\", \"2020-08-05T00:00:00\", \"2020-08-06T00:00:00\", \"2020-08-07T00:00:00\", \"2020-08-08T00:00:00\", \"2020-08-09T00:00:00\", \"2020-08-11T00:00:00\", \"2020-08-12T00:00:00\", \"2020-08-13T00:00:00\", \"2020-08-14T00:00:00\", \"2020-08-15T00:00:00\", \"2020-08-16T00:00:00\", \"2020-08-17T00:00:00\", \"2020-08-18T00:00:00\", \"2020-08-19T00:00:00\", \"2020-08-20T00:00:00\", \"2020-08-21T00:00:00\", \"2020-08-22T00:00:00\", \"2020-08-25T00:00:00\", \"2020-08-26T00:00:00\", \"2020-08-27T00:00:00\", \"2020-08-28T00:00:00\", \"2020-08-29T00:00:00\", \"2020-08-30T00:00:00\", \"2020-09-01T00:00:00\", \"2020-09-02T00:00:00\", \"2020-09-03T00:00:00\", \"2020-09-04T00:00:00\", \"2020-09-05T00:00:00\", \"2020-09-06T00:00:00\", \"2020-09-07T00:00:00\", \"2020-09-08T00:00:00\", \"2020-09-09T00:00:00\", \"2020-09-10T00:00:00\", \"2020-09-11T00:00:00\", \"2020-09-12T00:00:00\", \"2020-09-13T00:00:00\", \"2020-09-14T00:00:00\", \"2020-09-15T00:00:00\", \"2020-09-16T00:00:00\", \"2020-09-17T00:00:00\", \"2020-09-18T00:00:00\", \"2020-09-19T00:00:00\", \"2020-09-20T00:00:00\", \"2020-09-21T00:00:00\", \"2020-09-22T00:00:00\", \"2020-09-23T00:00:00\", \"2020-09-24T00:00:00\", \"2020-09-25T00:00:00\", \"2020-09-26T00:00:00\", \"2020-09-27T00:00:00\", \"2020-09-28T00:00:00\", \"2020-09-29T00:00:00\", \"2020-09-30T00:00:00\", \"2020-10-01T00:00:00\", \"2020-10-02T00:00:00\", \"2020-10-03T00:00:00\", \"2020-10-04T00:00:00\", \"2020-10-05T00:00:00\", \"2020-10-06T00:00:00\", \"2020-10-07T00:00:00\", \"2020-10-08T00:00:00\", \"2020-10-09T00:00:00\", \"2020-10-10T00:00:00\", \"2020-10-11T00:00:00\", \"2020-10-12T00:00:00\", \"2020-10-13T00:00:00\", \"2020-10-14T00:00:00\", \"2020-10-15T00:00:00\", \"2020-10-16T00:00:00\", \"2020-10-17T00:00:00\", \"2020-10-18T00:00:00\", \"2020-10-19T00:00:00\", \"2020-10-20T00:00:00\", \"2020-10-21T00:00:00\", \"2020-10-22T00:00:00\", \"2020-10-23T00:00:00\"], \"xaxis\": \"x\", \"y\": [1, 1, 1, 6, 6, 5, 2, 5, 3, 3, 5, 6, 3, 7, 7, 12, 2, 14, 5, 1, 9, 2, 1, 1, 12, 3, 1, 5, 1, 1, 2, 1, 1, 2, 2, 3, 1, 1, 3, 1, 1, 1, 1, 6, 5, 7, 4, 2, 9, 6, 3, 2, 4, 2, 2, 1, 3, 2, 3, 2, 5, 1, 1, 4, 1, 1, 7, 2, 10, 15, 13, 1, 1, 27, 1, 5, 15, 6, 3, 9, 5, 2, 8, 2, 14, 6, 7, 19, 8, 2, 10, 23, 12, 54, 36, 31, 6, 16, 45, 42, 77, 27, 60, 29, 18, 48, 30, 58, 61, 57, 46, 50, 78, 70, 85, 153, 97, 81, 54, 82, 115, 163, 210, 97, 128, 99, 137, 209, 189, 186, 162, 99, 140, 220, 274, 243, 145], \"yaxis\": \"y\"}],                        {\"legend\": {\"title\": {\"text\": \"N\\u00e1zev okresu\"}, \"tracegroupgap\": 0}, \"template\": {\"data\": {\"bar\": [{\"error_x\": {\"color\": \"#2a3f5f\"}, \"error_y\": {\"color\": \"#2a3f5f\"}, \"marker\": {\"line\": {\"color\": \"#E5ECF6\", \"width\": 0.5}}, \"type\": \"bar\"}], \"barpolar\": [{\"marker\": {\"line\": {\"color\": \"#E5ECF6\", \"width\": 0.5}}, \"type\": \"barpolar\"}], \"carpet\": [{\"aaxis\": {\"endlinecolor\": \"#2a3f5f\", \"gridcolor\": \"white\", \"linecolor\": \"white\", \"minorgridcolor\": \"white\", \"startlinecolor\": \"#2a3f5f\"}, \"baxis\": {\"endlinecolor\": \"#2a3f5f\", \"gridcolor\": \"white\", \"linecolor\": \"white\", \"minorgridcolor\": \"white\", \"startlinecolor\": \"#2a3f5f\"}, \"type\": \"carpet\"}], \"choropleth\": [{\"colorbar\": {\"outlinewidth\": 0, \"ticks\": \"\"}, \"type\": \"choropleth\"}], \"contour\": [{\"colorbar\": {\"outlinewidth\": 0, \"ticks\": \"\"}, \"colorscale\": [[0.0, \"#0d0887\"], [0.1111111111111111, \"#46039f\"], [0.2222222222222222, \"#7201a8\"], [0.3333333333333333, \"#9c179e\"], [0.4444444444444444, \"#bd3786\"], [0.5555555555555556, \"#d8576b\"], [0.6666666666666666, \"#ed7953\"], [0.7777777777777778, \"#fb9f3a\"], [0.8888888888888888, \"#fdca26\"], [1.0, \"#f0f921\"]], \"type\": \"contour\"}], \"contourcarpet\": [{\"colorbar\": {\"outlinewidth\": 0, \"ticks\": \"\"}, \"type\": \"contourcarpet\"}], \"heatmap\": [{\"colorbar\": {\"outlinewidth\": 0, \"ticks\": \"\"}, \"colorscale\": [[0.0, \"#0d0887\"], [0.1111111111111111, \"#46039f\"], [0.2222222222222222, \"#7201a8\"], [0.3333333333333333, \"#9c179e\"], [0.4444444444444444, \"#bd3786\"], [0.5555555555555556, \"#d8576b\"], [0.6666666666666666, \"#ed7953\"], [0.7777777777777778, \"#fb9f3a\"], [0.8888888888888888, \"#fdca26\"], [1.0, \"#f0f921\"]], \"type\": \"heatmap\"}], \"heatmapgl\": [{\"colorbar\": {\"outlinewidth\": 0, \"ticks\": \"\"}, \"colorscale\": [[0.0, \"#0d0887\"], [0.1111111111111111, \"#46039f\"], [0.2222222222222222, \"#7201a8\"], [0.3333333333333333, \"#9c179e\"], [0.4444444444444444, \"#bd3786\"], [0.5555555555555556, \"#d8576b\"], [0.6666666666666666, \"#ed7953\"], [0.7777777777777778, \"#fb9f3a\"], [0.8888888888888888, \"#fdca26\"], [1.0, \"#f0f921\"]], \"type\": \"heatmapgl\"}], \"histogram\": [{\"marker\": {\"colorbar\": {\"outlinewidth\": 0, \"ticks\": \"\"}}, \"type\": \"histogram\"}], \"histogram2d\": [{\"colorbar\": {\"outlinewidth\": 0, \"ticks\": \"\"}, \"colorscale\": [[0.0, \"#0d0887\"], [0.1111111111111111, \"#46039f\"], [0.2222222222222222, \"#7201a8\"], [0.3333333333333333, \"#9c179e\"], [0.4444444444444444, \"#bd3786\"], [0.5555555555555556, \"#d8576b\"], [0.6666666666666666, \"#ed7953\"], [0.7777777777777778, \"#fb9f3a\"], [0.8888888888888888, \"#fdca26\"], [1.0, \"#f0f921\"]], \"type\": \"histogram2d\"}], \"histogram2dcontour\": [{\"colorbar\": {\"outlinewidth\": 0, \"ticks\": \"\"}, \"colorscale\": [[0.0, \"#0d0887\"], [0.1111111111111111, \"#46039f\"], [0.2222222222222222, \"#7201a8\"], [0.3333333333333333, \"#9c179e\"], [0.4444444444444444, \"#bd3786\"], [0.5555555555555556, \"#d8576b\"], [0.6666666666666666, \"#ed7953\"], [0.7777777777777778, \"#fb9f3a\"], [0.8888888888888888, \"#fdca26\"], [1.0, \"#f0f921\"]], \"type\": \"histogram2dcontour\"}], \"mesh3d\": [{\"colorbar\": {\"outlinewidth\": 0, \"ticks\": \"\"}, \"type\": \"mesh3d\"}], \"parcoords\": [{\"line\": {\"colorbar\": {\"outlinewidth\": 0, \"ticks\": \"\"}}, \"type\": \"parcoords\"}], \"pie\": [{\"automargin\": true, \"type\": \"pie\"}], \"scatter\": [{\"marker\": {\"colorbar\": {\"outlinewidth\": 0, \"ticks\": \"\"}}, \"type\": \"scatter\"}], \"scatter3d\": [{\"line\": {\"colorbar\": {\"outlinewidth\": 0, \"ticks\": \"\"}}, \"marker\": {\"colorbar\": {\"outlinewidth\": 0, \"ticks\": \"\"}}, \"type\": \"scatter3d\"}], \"scattercarpet\": [{\"marker\": {\"colorbar\": {\"outlinewidth\": 0, \"ticks\": \"\"}}, \"type\": \"scattercarpet\"}], \"scattergeo\": [{\"marker\": {\"colorbar\": {\"outlinewidth\": 0, \"ticks\": \"\"}}, \"type\": \"scattergeo\"}], \"scattergl\": [{\"marker\": {\"colorbar\": {\"outlinewidth\": 0, \"ticks\": \"\"}}, \"type\": \"scattergl\"}], \"scattermapbox\": [{\"marker\": {\"colorbar\": {\"outlinewidth\": 0, \"ticks\": \"\"}}, \"type\": \"scattermapbox\"}], \"scatterpolar\": [{\"marker\": {\"colorbar\": {\"outlinewidth\": 0, \"ticks\": \"\"}}, \"type\": \"scatterpolar\"}], \"scatterpolargl\": [{\"marker\": {\"colorbar\": {\"outlinewidth\": 0, \"ticks\": \"\"}}, \"type\": \"scatterpolargl\"}], \"scatterternary\": [{\"marker\": {\"colorbar\": {\"outlinewidth\": 0, \"ticks\": \"\"}}, \"type\": \"scatterternary\"}], \"surface\": [{\"colorbar\": {\"outlinewidth\": 0, \"ticks\": \"\"}, \"colorscale\": [[0.0, \"#0d0887\"], [0.1111111111111111, \"#46039f\"], [0.2222222222222222, \"#7201a8\"], [0.3333333333333333, \"#9c179e\"], [0.4444444444444444, \"#bd3786\"], [0.5555555555555556, \"#d8576b\"], [0.6666666666666666, \"#ed7953\"], [0.7777777777777778, \"#fb9f3a\"], [0.8888888888888888, \"#fdca26\"], [1.0, \"#f0f921\"]], \"type\": \"surface\"}], \"table\": [{\"cells\": {\"fill\": {\"color\": \"#EBF0F8\"}, \"line\": {\"color\": \"white\"}}, \"header\": {\"fill\": {\"color\": \"#C8D4E3\"}, \"line\": {\"color\": \"white\"}}, \"type\": \"table\"}]}, \"layout\": {\"annotationdefaults\": {\"arrowcolor\": \"#2a3f5f\", \"arrowhead\": 0, \"arrowwidth\": 1}, \"coloraxis\": {\"colorbar\": {\"outlinewidth\": 0, \"ticks\": \"\"}}, \"colorscale\": {\"diverging\": [[0, \"#8e0152\"], [0.1, \"#c51b7d\"], [0.2, \"#de77ae\"], [0.3, \"#f1b6da\"], [0.4, \"#fde0ef\"], [0.5, \"#f7f7f7\"], [0.6, \"#e6f5d0\"], [0.7, \"#b8e186\"], [0.8, \"#7fbc41\"], [0.9, \"#4d9221\"], [1, \"#276419\"]], \"sequential\": [[0.0, \"#0d0887\"], [0.1111111111111111, \"#46039f\"], [0.2222222222222222, \"#7201a8\"], [0.3333333333333333, \"#9c179e\"], [0.4444444444444444, \"#bd3786\"], [0.5555555555555556, \"#d8576b\"], [0.6666666666666666, \"#ed7953\"], [0.7777777777777778, \"#fb9f3a\"], [0.8888888888888888, \"#fdca26\"], [1.0, \"#f0f921\"]], \"sequentialminus\": [[0.0, \"#0d0887\"], [0.1111111111111111, \"#46039f\"], [0.2222222222222222, \"#7201a8\"], [0.3333333333333333, \"#9c179e\"], [0.4444444444444444, \"#bd3786\"], [0.5555555555555556, \"#d8576b\"], [0.6666666666666666, \"#ed7953\"], [0.7777777777777778, \"#fb9f3a\"], [0.8888888888888888, \"#fdca26\"], [1.0, \"#f0f921\"]]}, \"colorway\": [\"#636efa\", \"#EF553B\", \"#00cc96\", \"#ab63fa\", \"#FFA15A\", \"#19d3f3\", \"#FF6692\", \"#B6E880\", \"#FF97FF\", \"#FECB52\"], \"font\": {\"color\": \"#2a3f5f\"}, \"geo\": {\"bgcolor\": \"white\", \"lakecolor\": \"white\", \"landcolor\": \"#E5ECF6\", \"showlakes\": true, \"showland\": true, \"subunitcolor\": \"white\"}, \"hoverlabel\": {\"align\": \"left\"}, \"hovermode\": \"closest\", \"mapbox\": {\"style\": \"light\"}, \"paper_bgcolor\": \"white\", \"plot_bgcolor\": \"#E5ECF6\", \"polar\": {\"angularaxis\": {\"gridcolor\": \"white\", \"linecolor\": \"white\", \"ticks\": \"\"}, \"bgcolor\": \"#E5ECF6\", \"radialaxis\": {\"gridcolor\": \"white\", \"linecolor\": \"white\", \"ticks\": \"\"}}, \"scene\": {\"xaxis\": {\"backgroundcolor\": \"#E5ECF6\", \"gridcolor\": \"white\", \"gridwidth\": 2, \"linecolor\": \"white\", \"showbackground\": true, \"ticks\": \"\", \"zerolinecolor\": \"white\"}, \"yaxis\": {\"backgroundcolor\": \"#E5ECF6\", \"gridcolor\": \"white\", \"gridwidth\": 2, \"linecolor\": \"white\", \"showbackground\": true, \"ticks\": \"\", \"zerolinecolor\": \"white\"}, \"zaxis\": {\"backgroundcolor\": \"#E5ECF6\", \"gridcolor\": \"white\", \"gridwidth\": 2, \"linecolor\": \"white\", \"showbackground\": true, \"ticks\": \"\", \"zerolinecolor\": \"white\"}}, \"shapedefaults\": {\"line\": {\"color\": \"#2a3f5f\"}}, \"ternary\": {\"aaxis\": {\"gridcolor\": \"white\", \"linecolor\": \"white\", \"ticks\": \"\"}, \"baxis\": {\"gridcolor\": \"white\", \"linecolor\": \"white\", \"ticks\": \"\"}, \"bgcolor\": \"#E5ECF6\", \"caxis\": {\"gridcolor\": \"white\", \"linecolor\": \"white\", \"ticks\": \"\"}}, \"title\": {\"x\": 0.05}, \"xaxis\": {\"automargin\": true, \"gridcolor\": \"white\", \"linecolor\": \"white\", \"ticks\": \"\", \"title\": {\"standoff\": 15}, \"zerolinecolor\": \"white\", \"zerolinewidth\": 2}, \"yaxis\": {\"automargin\": true, \"gridcolor\": \"white\", \"linecolor\": \"white\", \"ticks\": \"\", \"title\": {\"standoff\": 15}, \"zerolinecolor\": \"white\", \"zerolinewidth\": 2}}}, \"title\": {\"text\": \"P\\u0159\\u00edr\\u016fstky v okresech\"}, \"xaxis\": {\"anchor\": \"y\", \"domain\": [0.0, 1.0], \"title\": {\"text\": \"Datum\"}}, \"yaxis\": {\"anchor\": \"x\", \"domain\": [0.0, 1.0], \"title\": {\"text\": \"Po\\u010det\"}}},                        {\"responsive\": true}                    ).then(function(){\n",
       "                            \n",
       "var gd = document.getElementById('13425660-eb87-4593-938f-0415f3fa7e20');\n",
       "var x = new MutationObserver(function (mutations, observer) {{\n",
       "        var display = window.getComputedStyle(gd).display;\n",
       "        if (!display || display === 'none') {{\n",
       "            console.log([gd, 'removed!']);\n",
       "            Plotly.purge(gd);\n",
       "            observer.disconnect();\n",
       "        }}\n",
       "}});\n",
       "\n",
       "// Listen for the removal of the full notebook cells\n",
       "var notebookContainer = gd.closest('#notebook-container');\n",
       "if (notebookContainer) {{\n",
       "    x.observe(notebookContainer, {childList: true});\n",
       "}}\n",
       "\n",
       "// Listen for the clearing of the current output cell\n",
       "var outputEl = gd.closest('.output');\n",
       "if (outputEl) {{\n",
       "    x.observe(outputEl, {childList: true});\n",
       "}}\n",
       "\n",
       "                        })                };                });            </script>        </div>"
      ]
     },
     "metadata": {},
     "output_type": "display_data"
    }
   ],
   "source": [
    "okres_line = px.line(date_district_count[date_district_count['okres_lau_kod'].isin(['CZ0100','CZ0722'])],\n",
    "                     x='datum',\n",
    "                     y='vek', labels={'datum': 'Datum', 'vek': 'Počet', 'okres_nazev': 'Název okresu'},\n",
    "                     title='Přírůstky v okresech',\n",
    "                     template='plotly', color='okres_nazev',\n",
    "                     color_discrete_sequence=px.colors.diverging.Spectral)\n",
    "okres_line.show()"
   ]
  },
  {
   "cell_type": "code",
   "execution_count": 37,
   "metadata": {},
   "outputs": [
    {
     "data": {
      "text/html": [
       "\n",
       "<div id=\"altair-viz-2a421da8a495474ea8fa5f3ec4361150\"></div>\n",
       "<script type=\"text/javascript\">\n",
       "  (function(spec, embedOpt){\n",
       "    let outputDiv = document.currentScript.previousElementSibling;\n",
       "    if (outputDiv.id !== \"altair-viz-2a421da8a495474ea8fa5f3ec4361150\") {\n",
       "      outputDiv = document.getElementById(\"altair-viz-2a421da8a495474ea8fa5f3ec4361150\");\n",
       "    }\n",
       "    const paths = {\n",
       "      \"vega\": \"https://cdn.jsdelivr.net/npm//vega@5?noext\",\n",
       "      \"vega-lib\": \"https://cdn.jsdelivr.net/npm//vega-lib?noext\",\n",
       "      \"vega-lite\": \"https://cdn.jsdelivr.net/npm//vega-lite@4.8.1?noext\",\n",
       "      \"vega-embed\": \"https://cdn.jsdelivr.net/npm//vega-embed@6?noext\",\n",
       "    };\n",
       "\n",
       "    function loadScript(lib) {\n",
       "      return new Promise(function(resolve, reject) {\n",
       "        var s = document.createElement('script');\n",
       "        s.src = paths[lib];\n",
       "        s.async = true;\n",
       "        s.onload = () => resolve(paths[lib]);\n",
       "        s.onerror = () => reject(`Error loading script: ${paths[lib]}`);\n",
       "        document.getElementsByTagName(\"head\")[0].appendChild(s);\n",
       "      });\n",
       "    }\n",
       "\n",
       "    function showError(err) {\n",
       "      outputDiv.innerHTML = `<div class=\"error\" style=\"color:red;\">${err}</div>`;\n",
       "      throw err;\n",
       "    }\n",
       "\n",
       "    function displayChart(vegaEmbed) {\n",
       "      vegaEmbed(outputDiv, spec, embedOpt)\n",
       "        .catch(err => showError(`Javascript Error: ${err.message}<br>This usually means there's a typo in your chart specification. See the javascript console for the full traceback.`));\n",
       "    }\n",
       "\n",
       "    if(typeof define === \"function\" && define.amd) {\n",
       "      requirejs.config({paths});\n",
       "      require([\"vega-embed\"], displayChart, err => showError(`Error loading script: ${err.message}`));\n",
       "    } else if (typeof vegaEmbed === \"function\") {\n",
       "      displayChart(vegaEmbed);\n",
       "    } else {\n",
       "      loadScript(\"vega\")\n",
       "        .then(() => loadScript(\"vega-lite\"))\n",
       "        .then(() => loadScript(\"vega-embed\"))\n",
       "        .catch(showError)\n",
       "        .then(() => displayChart(vegaEmbed));\n",
       "    }\n",
       "  })({\"config\": {\"view\": {\"continuousWidth\": 400, \"continuousHeight\": 300}}, \"data\": {\"name\": \"data-5944e38eb8ea7593d53c8529be069442\"}, \"mark\": \"line\", \"encoding\": {\"x\": {\"type\": \"temporal\", \"field\": \"datum\"}, \"y\": {\"type\": \"quantitative\", \"field\": \"vek\"}}, \"$schema\": \"https://vega.github.io/schema/vega-lite/v4.8.1.json\", \"datasets\": {\"data-5944e38eb8ea7593d53c8529be069442\": [{\"datum\": \"2020-03-01T00:00:00\", \"okres_lau_kod\": \"CZ0100\", \"okres_nazev\": \"Praha\", \"vek\": 2, \"pohlavi\": 2, \"kraj_nuts_kod\": 2, \"nakaza_v_zahranici\": 2, \"nakaza_zeme_csu_kod\": 2}, {\"datum\": \"2020-03-04T00:00:00\", \"okres_lau_kod\": \"CZ0100\", \"okres_nazev\": \"Praha\", \"vek\": 1, \"pohlavi\": 1, \"kraj_nuts_kod\": 1, \"nakaza_v_zahranici\": 1, \"nakaza_zeme_csu_kod\": 1}, {\"datum\": \"2020-03-06T00:00:00\", \"okres_lau_kod\": \"CZ0100\", \"okres_nazev\": \"Praha\", \"vek\": 8, \"pohlavi\": 8, \"kraj_nuts_kod\": 8, \"nakaza_v_zahranici\": 7, \"nakaza_zeme_csu_kod\": 7}, {\"datum\": \"2020-03-07T00:00:00\", \"okres_lau_kod\": \"CZ0100\", \"okres_nazev\": \"Praha\", \"vek\": 4, \"pohlavi\": 4, \"kraj_nuts_kod\": 4, \"nakaza_v_zahranici\": 3, \"nakaza_zeme_csu_kod\": 3}, {\"datum\": \"2020-03-09T00:00:00\", \"okres_lau_kod\": \"CZ0100\", \"okres_nazev\": \"Praha\", \"vek\": 4, \"pohlavi\": 4, \"kraj_nuts_kod\": 4, \"nakaza_v_zahranici\": 4, \"nakaza_zeme_csu_kod\": 4}, {\"datum\": \"2020-03-10T00:00:00\", \"okres_lau_kod\": \"CZ0100\", \"okres_nazev\": \"Praha\", \"vek\": 12, \"pohlavi\": 12, \"kraj_nuts_kod\": 12, \"nakaza_v_zahranici\": 4, \"nakaza_zeme_csu_kod\": 4}, {\"datum\": \"2020-03-10T00:00:00\", \"okres_lau_kod\": \"CZ0722\", \"okres_nazev\": \"Uhersk\\u00e9 Hradi\\u0161t\\u011b\", \"vek\": 1, \"pohlavi\": 1, \"kraj_nuts_kod\": 1, \"nakaza_v_zahranici\": 1, \"nakaza_zeme_csu_kod\": 1}, {\"datum\": \"2020-03-11T00:00:00\", \"okres_lau_kod\": \"CZ0100\", \"okres_nazev\": \"Praha\", \"vek\": 6, \"pohlavi\": 6, \"kraj_nuts_kod\": 6, \"nakaza_v_zahranici\": 4, \"nakaza_zeme_csu_kod\": 4}, {\"datum\": \"2020-03-11T00:00:00\", \"okres_lau_kod\": \"CZ0722\", \"okres_nazev\": \"Uhersk\\u00e9 Hradi\\u0161t\\u011b\", \"vek\": 1, \"pohlavi\": 1, \"kraj_nuts_kod\": 1, \"nakaza_v_zahranici\": 1, \"nakaza_zeme_csu_kod\": 1}, {\"datum\": \"2020-03-12T00:00:00\", \"okres_lau_kod\": \"CZ0100\", \"okres_nazev\": \"Praha\", \"vek\": 12, \"pohlavi\": 12, \"kraj_nuts_kod\": 12, \"nakaza_v_zahranici\": 3, \"nakaza_zeme_csu_kod\": 3}, {\"datum\": \"2020-03-12T00:00:00\", \"okres_lau_kod\": \"CZ0722\", \"okres_nazev\": \"Uhersk\\u00e9 Hradi\\u0161t\\u011b\", \"vek\": 1, \"pohlavi\": 1, \"kraj_nuts_kod\": 1, \"nakaza_v_zahranici\": 1, \"nakaza_zeme_csu_kod\": 1}, {\"datum\": \"2020-03-13T00:00:00\", \"okres_lau_kod\": \"CZ0100\", \"okres_nazev\": \"Praha\", \"vek\": 7, \"pohlavi\": 7, \"kraj_nuts_kod\": 7, \"nakaza_v_zahranici\": 6, \"nakaza_zeme_csu_kod\": 6}, {\"datum\": \"2020-03-13T00:00:00\", \"okres_lau_kod\": \"CZ0722\", \"okres_nazev\": \"Uhersk\\u00e9 Hradi\\u0161t\\u011b\", \"vek\": 6, \"pohlavi\": 6, \"kraj_nuts_kod\": 6, \"nakaza_v_zahranici\": 3, \"nakaza_zeme_csu_kod\": 3}, {\"datum\": \"2020-03-14T00:00:00\", \"okres_lau_kod\": \"CZ0100\", \"okres_nazev\": \"Praha\", \"vek\": 15, \"pohlavi\": 15, \"kraj_nuts_kod\": 15, \"nakaza_v_zahranici\": 7, \"nakaza_zeme_csu_kod\": 7}, {\"datum\": \"2020-03-15T00:00:00\", \"okres_lau_kod\": \"CZ0100\", \"okres_nazev\": \"Praha\", \"vek\": 39, \"pohlavi\": 39, \"kraj_nuts_kod\": 39, \"nakaza_v_zahranici\": 7, \"nakaza_zeme_csu_kod\": 7}, {\"datum\": \"2020-03-15T00:00:00\", \"okres_lau_kod\": \"CZ0722\", \"okres_nazev\": \"Uhersk\\u00e9 Hradi\\u0161t\\u011b\", \"vek\": 6, \"pohlavi\": 6, \"kraj_nuts_kod\": 6, \"nakaza_v_zahranici\": 0, \"nakaza_zeme_csu_kod\": 0}, {\"datum\": \"2020-03-16T00:00:00\", \"okres_lau_kod\": \"CZ0100\", \"okres_nazev\": \"Praha\", \"vek\": 20, \"pohlavi\": 20, \"kraj_nuts_kod\": 20, \"nakaza_v_zahranici\": 2, \"nakaza_zeme_csu_kod\": 2}, {\"datum\": \"2020-03-17T00:00:00\", \"okres_lau_kod\": \"CZ0100\", \"okres_nazev\": \"Praha\", \"vek\": 20, \"pohlavi\": 20, \"kraj_nuts_kod\": 20, \"nakaza_v_zahranici\": 1, \"nakaza_zeme_csu_kod\": 1}, {\"datum\": \"2020-03-18T00:00:00\", \"okres_lau_kod\": \"CZ0100\", \"okres_nazev\": \"Praha\", \"vek\": 32, \"pohlavi\": 32, \"kraj_nuts_kod\": 32, \"nakaza_v_zahranici\": 8, \"nakaza_zeme_csu_kod\": 8}, {\"datum\": \"2020-03-18T00:00:00\", \"okres_lau_kod\": \"CZ0722\", \"okres_nazev\": \"Uhersk\\u00e9 Hradi\\u0161t\\u011b\", \"vek\": 5, \"pohlavi\": 5, \"kraj_nuts_kod\": 5, \"nakaza_v_zahranici\": 3, \"nakaza_zeme_csu_kod\": 3}, {\"datum\": \"2020-03-19T00:00:00\", \"okres_lau_kod\": \"CZ0100\", \"okres_nazev\": \"Praha\", \"vek\": 78, \"pohlavi\": 78, \"kraj_nuts_kod\": 78, \"nakaza_v_zahranici\": 5, \"nakaza_zeme_csu_kod\": 5}, {\"datum\": \"2020-03-19T00:00:00\", \"okres_lau_kod\": \"CZ0722\", \"okres_nazev\": \"Uhersk\\u00e9 Hradi\\u0161t\\u011b\", \"vek\": 2, \"pohlavi\": 2, \"kraj_nuts_kod\": 2, \"nakaza_v_zahranici\": 0, \"nakaza_zeme_csu_kod\": 0}, {\"datum\": \"2020-03-20T00:00:00\", \"okres_lau_kod\": \"CZ0100\", \"okres_nazev\": \"Praha\", \"vek\": 33, \"pohlavi\": 33, \"kraj_nuts_kod\": 33, \"nakaza_v_zahranici\": 1, \"nakaza_zeme_csu_kod\": 1}, {\"datum\": \"2020-03-21T00:00:00\", \"okres_lau_kod\": \"CZ0100\", \"okres_nazev\": \"Praha\", \"vek\": 61, \"pohlavi\": 61, \"kraj_nuts_kod\": 61, \"nakaza_v_zahranici\": 7, \"nakaza_zeme_csu_kod\": 7}, {\"datum\": \"2020-03-21T00:00:00\", \"okres_lau_kod\": \"CZ0722\", \"okres_nazev\": \"Uhersk\\u00e9 Hradi\\u0161t\\u011b\", \"vek\": 5, \"pohlavi\": 5, \"kraj_nuts_kod\": 5, \"nakaza_v_zahranici\": 0, \"nakaza_zeme_csu_kod\": 0}, {\"datum\": \"2020-03-22T00:00:00\", \"okres_lau_kod\": \"CZ0100\", \"okres_nazev\": \"Praha\", \"vek\": 26, \"pohlavi\": 26, \"kraj_nuts_kod\": 26, \"nakaza_v_zahranici\": 3, \"nakaza_zeme_csu_kod\": 3}, {\"datum\": \"2020-03-22T00:00:00\", \"okres_lau_kod\": \"CZ0722\", \"okres_nazev\": \"Uhersk\\u00e9 Hradi\\u0161t\\u011b\", \"vek\": 3, \"pohlavi\": 3, \"kraj_nuts_kod\": 3, \"nakaza_v_zahranici\": 0, \"nakaza_zeme_csu_kod\": 0}, {\"datum\": \"2020-03-23T00:00:00\", \"okres_lau_kod\": \"CZ0100\", \"okres_nazev\": \"Praha\", \"vek\": 38, \"pohlavi\": 38, \"kraj_nuts_kod\": 38, \"nakaza_v_zahranici\": 9, \"nakaza_zeme_csu_kod\": 9}, {\"datum\": \"2020-03-23T00:00:00\", \"okres_lau_kod\": \"CZ0722\", \"okres_nazev\": \"Uhersk\\u00e9 Hradi\\u0161t\\u011b\", \"vek\": 3, \"pohlavi\": 3, \"kraj_nuts_kod\": 3, \"nakaza_v_zahranici\": 0, \"nakaza_zeme_csu_kod\": 0}, {\"datum\": \"2020-03-24T00:00:00\", \"okres_lau_kod\": \"CZ0100\", \"okres_nazev\": \"Praha\", \"vek\": 58, \"pohlavi\": 58, \"kraj_nuts_kod\": 58, \"nakaza_v_zahranici\": 2, \"nakaza_zeme_csu_kod\": 2}, {\"datum\": \"2020-03-24T00:00:00\", \"okres_lau_kod\": \"CZ0722\", \"okres_nazev\": \"Uhersk\\u00e9 Hradi\\u0161t\\u011b\", \"vek\": 5, \"pohlavi\": 5, \"kraj_nuts_kod\": 5, \"nakaza_v_zahranici\": 0, \"nakaza_zeme_csu_kod\": 0}, {\"datum\": \"2020-03-25T00:00:00\", \"okres_lau_kod\": \"CZ0100\", \"okres_nazev\": \"Praha\", \"vek\": 82, \"pohlavi\": 82, \"kraj_nuts_kod\": 82, \"nakaza_v_zahranici\": 3, \"nakaza_zeme_csu_kod\": 3}, {\"datum\": \"2020-03-25T00:00:00\", \"okres_lau_kod\": \"CZ0722\", \"okres_nazev\": \"Uhersk\\u00e9 Hradi\\u0161t\\u011b\", \"vek\": 6, \"pohlavi\": 6, \"kraj_nuts_kod\": 6, \"nakaza_v_zahranici\": 0, \"nakaza_zeme_csu_kod\": 0}, {\"datum\": \"2020-03-26T00:00:00\", \"okres_lau_kod\": \"CZ0100\", \"okres_nazev\": \"Praha\", \"vek\": 68, \"pohlavi\": 68, \"kraj_nuts_kod\": 68, \"nakaza_v_zahranici\": 9, \"nakaza_zeme_csu_kod\": 9}, {\"datum\": \"2020-03-26T00:00:00\", \"okres_lau_kod\": \"CZ0722\", \"okres_nazev\": \"Uhersk\\u00e9 Hradi\\u0161t\\u011b\", \"vek\": 3, \"pohlavi\": 3, \"kraj_nuts_kod\": 3, \"nakaza_v_zahranici\": 0, \"nakaza_zeme_csu_kod\": 0}, {\"datum\": \"2020-03-27T00:00:00\", \"okres_lau_kod\": \"CZ0100\", \"okres_nazev\": \"Praha\", \"vek\": 109, \"pohlavi\": 109, \"kraj_nuts_kod\": 109, \"nakaza_v_zahranici\": 7, \"nakaza_zeme_csu_kod\": 7}, {\"datum\": \"2020-03-27T00:00:00\", \"okres_lau_kod\": \"CZ0722\", \"okres_nazev\": \"Uhersk\\u00e9 Hradi\\u0161t\\u011b\", \"vek\": 7, \"pohlavi\": 7, \"kraj_nuts_kod\": 7, \"nakaza_v_zahranici\": 0, \"nakaza_zeme_csu_kod\": 0}, {\"datum\": \"2020-03-28T00:00:00\", \"okres_lau_kod\": \"CZ0100\", \"okres_nazev\": \"Praha\", \"vek\": 56, \"pohlavi\": 56, \"kraj_nuts_kod\": 56, \"nakaza_v_zahranici\": 6, \"nakaza_zeme_csu_kod\": 6}, {\"datum\": \"2020-03-28T00:00:00\", \"okres_lau_kod\": \"CZ0722\", \"okres_nazev\": \"Uhersk\\u00e9 Hradi\\u0161t\\u011b\", \"vek\": 7, \"pohlavi\": 7, \"kraj_nuts_kod\": 7, \"nakaza_v_zahranici\": 0, \"nakaza_zeme_csu_kod\": 0}, {\"datum\": \"2020-03-29T00:00:00\", \"okres_lau_kod\": \"CZ0100\", \"okres_nazev\": \"Praha\", \"vek\": 33, \"pohlavi\": 33, \"kraj_nuts_kod\": 33, \"nakaza_v_zahranici\": 0, \"nakaza_zeme_csu_kod\": 0}, {\"datum\": \"2020-03-29T00:00:00\", \"okres_lau_kod\": \"CZ0722\", \"okres_nazev\": \"Uhersk\\u00e9 Hradi\\u0161t\\u011b\", \"vek\": 12, \"pohlavi\": 12, \"kraj_nuts_kod\": 12, \"nakaza_v_zahranici\": 1, \"nakaza_zeme_csu_kod\": 1}, {\"datum\": \"2020-03-30T00:00:00\", \"okres_lau_kod\": \"CZ0100\", \"okres_nazev\": \"Praha\", \"vek\": 37, \"pohlavi\": 37, \"kraj_nuts_kod\": 37, \"nakaza_v_zahranici\": 4, \"nakaza_zeme_csu_kod\": 4}, {\"datum\": \"2020-03-30T00:00:00\", \"okres_lau_kod\": \"CZ0722\", \"okres_nazev\": \"Uhersk\\u00e9 Hradi\\u0161t\\u011b\", \"vek\": 2, \"pohlavi\": 2, \"kraj_nuts_kod\": 2, \"nakaza_v_zahranici\": 0, \"nakaza_zeme_csu_kod\": 0}, {\"datum\": \"2020-03-31T00:00:00\", \"okres_lau_kod\": \"CZ0100\", \"okres_nazev\": \"Praha\", \"vek\": 56, \"pohlavi\": 56, \"kraj_nuts_kod\": 56, \"nakaza_v_zahranici\": 2, \"nakaza_zeme_csu_kod\": 2}, {\"datum\": \"2020-03-31T00:00:00\", \"okres_lau_kod\": \"CZ0722\", \"okres_nazev\": \"Uhersk\\u00e9 Hradi\\u0161t\\u011b\", \"vek\": 14, \"pohlavi\": 14, \"kraj_nuts_kod\": 14, \"nakaza_v_zahranici\": 0, \"nakaza_zeme_csu_kod\": 0}, {\"datum\": \"2020-04-01T00:00:00\", \"okres_lau_kod\": \"CZ0100\", \"okres_nazev\": \"Praha\", \"vek\": 78, \"pohlavi\": 78, \"kraj_nuts_kod\": 78, \"nakaza_v_zahranici\": 4, \"nakaza_zeme_csu_kod\": 4}, {\"datum\": \"2020-04-01T00:00:00\", \"okres_lau_kod\": \"CZ0722\", \"okres_nazev\": \"Uhersk\\u00e9 Hradi\\u0161t\\u011b\", \"vek\": 5, \"pohlavi\": 5, \"kraj_nuts_kod\": 5, \"nakaza_v_zahranici\": 0, \"nakaza_zeme_csu_kod\": 0}, {\"datum\": \"2020-04-02T00:00:00\", \"okres_lau_kod\": \"CZ0100\", \"okres_nazev\": \"Praha\", \"vek\": 81, \"pohlavi\": 81, \"kraj_nuts_kod\": 81, \"nakaza_v_zahranici\": 6, \"nakaza_zeme_csu_kod\": 6}, {\"datum\": \"2020-04-02T00:00:00\", \"okres_lau_kod\": \"CZ0722\", \"okres_nazev\": \"Uhersk\\u00e9 Hradi\\u0161t\\u011b\", \"vek\": 1, \"pohlavi\": 1, \"kraj_nuts_kod\": 1, \"nakaza_v_zahranici\": 0, \"nakaza_zeme_csu_kod\": 0}, {\"datum\": \"2020-04-03T00:00:00\", \"okres_lau_kod\": \"CZ0100\", \"okres_nazev\": \"Praha\", \"vek\": 60, \"pohlavi\": 60, \"kraj_nuts_kod\": 60, \"nakaza_v_zahranici\": 3, \"nakaza_zeme_csu_kod\": 3}, {\"datum\": \"2020-04-03T00:00:00\", \"okres_lau_kod\": \"CZ0722\", \"okres_nazev\": \"Uhersk\\u00e9 Hradi\\u0161t\\u011b\", \"vek\": 9, \"pohlavi\": 9, \"kraj_nuts_kod\": 9, \"nakaza_v_zahranici\": 1, \"nakaza_zeme_csu_kod\": 1}, {\"datum\": \"2020-04-04T00:00:00\", \"okres_lau_kod\": \"CZ0100\", \"okres_nazev\": \"Praha\", \"vek\": 27, \"pohlavi\": 27, \"kraj_nuts_kod\": 27, \"nakaza_v_zahranici\": 1, \"nakaza_zeme_csu_kod\": 1}, {\"datum\": \"2020-04-04T00:00:00\", \"okres_lau_kod\": \"CZ0722\", \"okres_nazev\": \"Uhersk\\u00e9 Hradi\\u0161t\\u011b\", \"vek\": 2, \"pohlavi\": 2, \"kraj_nuts_kod\": 2, \"nakaza_v_zahranici\": 0, \"nakaza_zeme_csu_kod\": 0}, {\"datum\": \"2020-04-05T00:00:00\", \"okres_lau_kod\": \"CZ0100\", \"okres_nazev\": \"Praha\", \"vek\": 38, \"pohlavi\": 38, \"kraj_nuts_kod\": 38, \"nakaza_v_zahranici\": 2, \"nakaza_zeme_csu_kod\": 2}, {\"datum\": \"2020-04-05T00:00:00\", \"okres_lau_kod\": \"CZ0722\", \"okres_nazev\": \"Uhersk\\u00e9 Hradi\\u0161t\\u011b\", \"vek\": 1, \"pohlavi\": 1, \"kraj_nuts_kod\": 1, \"nakaza_v_zahranici\": 0, \"nakaza_zeme_csu_kod\": 0}, {\"datum\": \"2020-04-06T00:00:00\", \"okres_lau_kod\": \"CZ0100\", \"okres_nazev\": \"Praha\", \"vek\": 36, \"pohlavi\": 36, \"kraj_nuts_kod\": 36, \"nakaza_v_zahranici\": 1, \"nakaza_zeme_csu_kod\": 1}, {\"datum\": \"2020-04-07T00:00:00\", \"okres_lau_kod\": \"CZ0100\", \"okres_nazev\": \"Praha\", \"vek\": 32, \"pohlavi\": 32, \"kraj_nuts_kod\": 32, \"nakaza_v_zahranici\": 0, \"nakaza_zeme_csu_kod\": 0}, {\"datum\": \"2020-04-07T00:00:00\", \"okres_lau_kod\": \"CZ0722\", \"okres_nazev\": \"Uhersk\\u00e9 Hradi\\u0161t\\u011b\", \"vek\": 1, \"pohlavi\": 1, \"kraj_nuts_kod\": 1, \"nakaza_v_zahranici\": 0, \"nakaza_zeme_csu_kod\": 0}, {\"datum\": \"2020-04-08T00:00:00\", \"okres_lau_kod\": \"CZ0100\", \"okres_nazev\": \"Praha\", \"vek\": 55, \"pohlavi\": 55, \"kraj_nuts_kod\": 55, \"nakaza_v_zahranici\": 4, \"nakaza_zeme_csu_kod\": 4}, {\"datum\": \"2020-04-08T00:00:00\", \"okres_lau_kod\": \"CZ0722\", \"okres_nazev\": \"Uhersk\\u00e9 Hradi\\u0161t\\u011b\", \"vek\": 12, \"pohlavi\": 12, \"kraj_nuts_kod\": 12, \"nakaza_v_zahranici\": 0, \"nakaza_zeme_csu_kod\": 0}, {\"datum\": \"2020-04-09T00:00:00\", \"okres_lau_kod\": \"CZ0100\", \"okres_nazev\": \"Praha\", \"vek\": 40, \"pohlavi\": 40, \"kraj_nuts_kod\": 40, \"nakaza_v_zahranici\": 0, \"nakaza_zeme_csu_kod\": 0}, {\"datum\": \"2020-04-09T00:00:00\", \"okres_lau_kod\": \"CZ0722\", \"okres_nazev\": \"Uhersk\\u00e9 Hradi\\u0161t\\u011b\", \"vek\": 3, \"pohlavi\": 3, \"kraj_nuts_kod\": 3, \"nakaza_v_zahranici\": 0, \"nakaza_zeme_csu_kod\": 0}, {\"datum\": \"2020-04-10T00:00:00\", \"okres_lau_kod\": \"CZ0100\", \"okres_nazev\": \"Praha\", \"vek\": 34, \"pohlavi\": 34, \"kraj_nuts_kod\": 34, \"nakaza_v_zahranici\": 3, \"nakaza_zeme_csu_kod\": 3}, {\"datum\": \"2020-04-10T00:00:00\", \"okres_lau_kod\": \"CZ0722\", \"okres_nazev\": \"Uhersk\\u00e9 Hradi\\u0161t\\u011b\", \"vek\": 1, \"pohlavi\": 1, \"kraj_nuts_kod\": 1, \"nakaza_v_zahranici\": 0, \"nakaza_zeme_csu_kod\": 0}, {\"datum\": \"2020-04-11T00:00:00\", \"okres_lau_kod\": \"CZ0100\", \"okres_nazev\": \"Praha\", \"vek\": 19, \"pohlavi\": 19, \"kraj_nuts_kod\": 19, \"nakaza_v_zahranici\": 1, \"nakaza_zeme_csu_kod\": 1}, {\"datum\": \"2020-04-11T00:00:00\", \"okres_lau_kod\": \"CZ0722\", \"okres_nazev\": \"Uhersk\\u00e9 Hradi\\u0161t\\u011b\", \"vek\": 5, \"pohlavi\": 5, \"kraj_nuts_kod\": 5, \"nakaza_v_zahranici\": 1, \"nakaza_zeme_csu_kod\": 1}, {\"datum\": \"2020-04-12T00:00:00\", \"okres_lau_kod\": \"CZ0100\", \"okres_nazev\": \"Praha\", \"vek\": 16, \"pohlavi\": 16, \"kraj_nuts_kod\": 16, \"nakaza_v_zahranici\": 0, \"nakaza_zeme_csu_kod\": 0}, {\"datum\": \"2020-04-12T00:00:00\", \"okres_lau_kod\": \"CZ0722\", \"okres_nazev\": \"Uhersk\\u00e9 Hradi\\u0161t\\u011b\", \"vek\": 1, \"pohlavi\": 1, \"kraj_nuts_kod\": 1, \"nakaza_v_zahranici\": 0, \"nakaza_zeme_csu_kod\": 0}, {\"datum\": \"2020-04-13T00:00:00\", \"okres_lau_kod\": \"CZ0100\", \"okres_nazev\": \"Praha\", \"vek\": 10, \"pohlavi\": 10, \"kraj_nuts_kod\": 10, \"nakaza_v_zahranici\": 0, \"nakaza_zeme_csu_kod\": 0}, {\"datum\": \"2020-04-14T00:00:00\", \"okres_lau_kod\": \"CZ0100\", \"okres_nazev\": \"Praha\", \"vek\": 11, \"pohlavi\": 11, \"kraj_nuts_kod\": 11, \"nakaza_v_zahranici\": 0, \"nakaza_zeme_csu_kod\": 0}, {\"datum\": \"2020-04-15T00:00:00\", \"okres_lau_kod\": \"CZ0100\", \"okres_nazev\": \"Praha\", \"vek\": 39, \"pohlavi\": 39, \"kraj_nuts_kod\": 39, \"nakaza_v_zahranici\": 1, \"nakaza_zeme_csu_kod\": 1}, {\"datum\": \"2020-04-15T00:00:00\", \"okres_lau_kod\": \"CZ0722\", \"okres_nazev\": \"Uhersk\\u00e9 Hradi\\u0161t\\u011b\", \"vek\": 1, \"pohlavi\": 1, \"kraj_nuts_kod\": 1, \"nakaza_v_zahranici\": 1, \"nakaza_zeme_csu_kod\": 1}, {\"datum\": \"2020-04-16T00:00:00\", \"okres_lau_kod\": \"CZ0100\", \"okres_nazev\": \"Praha\", \"vek\": 22, \"pohlavi\": 22, \"kraj_nuts_kod\": 22, \"nakaza_v_zahranici\": 2, \"nakaza_zeme_csu_kod\": 2}, {\"datum\": \"2020-04-16T00:00:00\", \"okres_lau_kod\": \"CZ0722\", \"okres_nazev\": \"Uhersk\\u00e9 Hradi\\u0161t\\u011b\", \"vek\": 2, \"pohlavi\": 2, \"kraj_nuts_kod\": 2, \"nakaza_v_zahranici\": 0, \"nakaza_zeme_csu_kod\": 0}, {\"datum\": \"2020-04-17T00:00:00\", \"okres_lau_kod\": \"CZ0100\", \"okres_nazev\": \"Praha\", \"vek\": 22, \"pohlavi\": 22, \"kraj_nuts_kod\": 22, \"nakaza_v_zahranici\": 1, \"nakaza_zeme_csu_kod\": 1}, {\"datum\": \"2020-04-17T00:00:00\", \"okres_lau_kod\": \"CZ0722\", \"okres_nazev\": \"Uhersk\\u00e9 Hradi\\u0161t\\u011b\", \"vek\": 1, \"pohlavi\": 1, \"kraj_nuts_kod\": 1, \"nakaza_v_zahranici\": 0, \"nakaza_zeme_csu_kod\": 0}, {\"datum\": \"2020-04-18T00:00:00\", \"okres_lau_kod\": \"CZ0100\", \"okres_nazev\": \"Praha\", \"vek\": 28, \"pohlavi\": 28, \"kraj_nuts_kod\": 28, \"nakaza_v_zahranici\": 0, \"nakaza_zeme_csu_kod\": 0}, {\"datum\": \"2020-04-19T00:00:00\", \"okres_lau_kod\": \"CZ0100\", \"okres_nazev\": \"Praha\", \"vek\": 13, \"pohlavi\": 13, \"kraj_nuts_kod\": 13, \"nakaza_v_zahranici\": 0, \"nakaza_zeme_csu_kod\": 0}, {\"datum\": \"2020-04-20T00:00:00\", \"okres_lau_kod\": \"CZ0100\", \"okres_nazev\": \"Praha\", \"vek\": 43, \"pohlavi\": 43, \"kraj_nuts_kod\": 43, \"nakaza_v_zahranici\": 0, \"nakaza_zeme_csu_kod\": 0}, {\"datum\": \"2020-04-21T00:00:00\", \"okres_lau_kod\": \"CZ0100\", \"okres_nazev\": \"Praha\", \"vek\": 9, \"pohlavi\": 9, \"kraj_nuts_kod\": 9, \"nakaza_v_zahranici\": 0, \"nakaza_zeme_csu_kod\": 0}, {\"datum\": \"2020-04-21T00:00:00\", \"okres_lau_kod\": \"CZ0722\", \"okres_nazev\": \"Uhersk\\u00e9 Hradi\\u0161t\\u011b\", \"vek\": 1, \"pohlavi\": 1, \"kraj_nuts_kod\": 1, \"nakaza_v_zahranici\": 0, \"nakaza_zeme_csu_kod\": 0}, {\"datum\": \"2020-04-22T00:00:00\", \"okres_lau_kod\": \"CZ0100\", \"okres_nazev\": \"Praha\", \"vek\": 14, \"pohlavi\": 14, \"kraj_nuts_kod\": 14, \"nakaza_v_zahranici\": 0, \"nakaza_zeme_csu_kod\": 0}, {\"datum\": \"2020-04-22T00:00:00\", \"okres_lau_kod\": \"CZ0722\", \"okres_nazev\": \"Uhersk\\u00e9 Hradi\\u0161t\\u011b\", \"vek\": 2, \"pohlavi\": 2, \"kraj_nuts_kod\": 2, \"nakaza_v_zahranici\": 0, \"nakaza_zeme_csu_kod\": 0}, {\"datum\": \"2020-04-23T00:00:00\", \"okres_lau_kod\": \"CZ0100\", \"okres_nazev\": \"Praha\", \"vek\": 2, \"pohlavi\": 2, \"kraj_nuts_kod\": 2, \"nakaza_v_zahranici\": 0, \"nakaza_zeme_csu_kod\": 0}, {\"datum\": \"2020-04-24T00:00:00\", \"okres_lau_kod\": \"CZ0100\", \"okres_nazev\": \"Praha\", \"vek\": 14, \"pohlavi\": 14, \"kraj_nuts_kod\": 14, \"nakaza_v_zahranici\": 1, \"nakaza_zeme_csu_kod\": 1}, {\"datum\": \"2020-04-25T00:00:00\", \"okres_lau_kod\": \"CZ0100\", \"okres_nazev\": \"Praha\", \"vek\": 14, \"pohlavi\": 14, \"kraj_nuts_kod\": 14, \"nakaza_v_zahranici\": 0, \"nakaza_zeme_csu_kod\": 0}, {\"datum\": \"2020-04-25T00:00:00\", \"okres_lau_kod\": \"CZ0722\", \"okres_nazev\": \"Uhersk\\u00e9 Hradi\\u0161t\\u011b\", \"vek\": 2, \"pohlavi\": 2, \"kraj_nuts_kod\": 2, \"nakaza_v_zahranici\": 0, \"nakaza_zeme_csu_kod\": 0}, {\"datum\": \"2020-04-26T00:00:00\", \"okres_lau_kod\": \"CZ0100\", \"okres_nazev\": \"Praha\", \"vek\": 1, \"pohlavi\": 1, \"kraj_nuts_kod\": 1, \"nakaza_v_zahranici\": 0, \"nakaza_zeme_csu_kod\": 0}, {\"datum\": \"2020-04-26T00:00:00\", \"okres_lau_kod\": \"CZ0722\", \"okres_nazev\": \"Uhersk\\u00e9 Hradi\\u0161t\\u011b\", \"vek\": 3, \"pohlavi\": 3, \"kraj_nuts_kod\": 3, \"nakaza_v_zahranici\": 0, \"nakaza_zeme_csu_kod\": 0}, {\"datum\": \"2020-04-27T00:00:00\", \"okres_lau_kod\": \"CZ0100\", \"okres_nazev\": \"Praha\", \"vek\": 4, \"pohlavi\": 4, \"kraj_nuts_kod\": 4, \"nakaza_v_zahranici\": 0, \"nakaza_zeme_csu_kod\": 0}, {\"datum\": \"2020-04-28T00:00:00\", \"okres_lau_kod\": \"CZ0100\", \"okres_nazev\": \"Praha\", \"vek\": 10, \"pohlavi\": 10, \"kraj_nuts_kod\": 10, \"nakaza_v_zahranici\": 0, \"nakaza_zeme_csu_kod\": 0}, {\"datum\": \"2020-04-29T00:00:00\", \"okres_lau_kod\": \"CZ0100\", \"okres_nazev\": \"Praha\", \"vek\": 10, \"pohlavi\": 10, \"kraj_nuts_kod\": 10, \"nakaza_v_zahranici\": 0, \"nakaza_zeme_csu_kod\": 0}, {\"datum\": \"2020-04-30T00:00:00\", \"okres_lau_kod\": \"CZ0100\", \"okres_nazev\": \"Praha\", \"vek\": 22, \"pohlavi\": 22, \"kraj_nuts_kod\": 22, \"nakaza_v_zahranici\": 4, \"nakaza_zeme_csu_kod\": 4}, {\"datum\": \"2020-05-01T00:00:00\", \"okres_lau_kod\": \"CZ0100\", \"okres_nazev\": \"Praha\", \"vek\": 12, \"pohlavi\": 12, \"kraj_nuts_kod\": 12, \"nakaza_v_zahranici\": 0, \"nakaza_zeme_csu_kod\": 0}, {\"datum\": \"2020-05-02T00:00:00\", \"okres_lau_kod\": \"CZ0100\", \"okres_nazev\": \"Praha\", \"vek\": 2, \"pohlavi\": 2, \"kraj_nuts_kod\": 2, \"nakaza_v_zahranici\": 0, \"nakaza_zeme_csu_kod\": 0}, {\"datum\": \"2020-05-03T00:00:00\", \"okres_lau_kod\": \"CZ0100\", \"okres_nazev\": \"Praha\", \"vek\": 1, \"pohlavi\": 1, \"kraj_nuts_kod\": 1, \"nakaza_v_zahranici\": 0, \"nakaza_zeme_csu_kod\": 0}, {\"datum\": \"2020-05-04T00:00:00\", \"okres_lau_kod\": \"CZ0100\", \"okres_nazev\": \"Praha\", \"vek\": 7, \"pohlavi\": 7, \"kraj_nuts_kod\": 7, \"nakaza_v_zahranici\": 0, \"nakaza_zeme_csu_kod\": 0}, {\"datum\": \"2020-05-05T00:00:00\", \"okres_lau_kod\": \"CZ0100\", \"okres_nazev\": \"Praha\", \"vek\": 15, \"pohlavi\": 15, \"kraj_nuts_kod\": 15, \"nakaza_v_zahranici\": 1, \"nakaza_zeme_csu_kod\": 1}, {\"datum\": \"2020-05-06T00:00:00\", \"okres_lau_kod\": \"CZ0100\", \"okres_nazev\": \"Praha\", \"vek\": 10, \"pohlavi\": 10, \"kraj_nuts_kod\": 10, \"nakaza_v_zahranici\": 1, \"nakaza_zeme_csu_kod\": 1}, {\"datum\": \"2020-05-07T00:00:00\", \"okres_lau_kod\": \"CZ0100\", \"okres_nazev\": \"Praha\", \"vek\": 14, \"pohlavi\": 14, \"kraj_nuts_kod\": 14, \"nakaza_v_zahranici\": 0, \"nakaza_zeme_csu_kod\": 0}, {\"datum\": \"2020-05-08T00:00:00\", \"okres_lau_kod\": \"CZ0100\", \"okres_nazev\": \"Praha\", \"vek\": 14, \"pohlavi\": 14, \"kraj_nuts_kod\": 14, \"nakaza_v_zahranici\": 0, \"nakaza_zeme_csu_kod\": 0}, {\"datum\": \"2020-05-09T00:00:00\", \"okres_lau_kod\": \"CZ0100\", \"okres_nazev\": \"Praha\", \"vek\": 12, \"pohlavi\": 12, \"kraj_nuts_kod\": 12, \"nakaza_v_zahranici\": 0, \"nakaza_zeme_csu_kod\": 0}, {\"datum\": \"2020-05-10T00:00:00\", \"okres_lau_kod\": \"CZ0100\", \"okres_nazev\": \"Praha\", \"vek\": 9, \"pohlavi\": 9, \"kraj_nuts_kod\": 9, \"nakaza_v_zahranici\": 0, \"nakaza_zeme_csu_kod\": 0}, {\"datum\": \"2020-05-11T00:00:00\", \"okres_lau_kod\": \"CZ0100\", \"okres_nazev\": \"Praha\", \"vek\": 12, \"pohlavi\": 12, \"kraj_nuts_kod\": 12, \"nakaza_v_zahranici\": 0, \"nakaza_zeme_csu_kod\": 0}, {\"datum\": \"2020-05-12T00:00:00\", \"okres_lau_kod\": \"CZ0100\", \"okres_nazev\": \"Praha\", \"vek\": 6, \"pohlavi\": 6, \"kraj_nuts_kod\": 6, \"nakaza_v_zahranici\": 0, \"nakaza_zeme_csu_kod\": 0}, {\"datum\": \"2020-05-12T00:00:00\", \"okres_lau_kod\": \"CZ0722\", \"okres_nazev\": \"Uhersk\\u00e9 Hradi\\u0161t\\u011b\", \"vek\": 1, \"pohlavi\": 1, \"kraj_nuts_kod\": 1, \"nakaza_v_zahranici\": 0, \"nakaza_zeme_csu_kod\": 0}, {\"datum\": \"2020-05-13T00:00:00\", \"okres_lau_kod\": \"CZ0100\", \"okres_nazev\": \"Praha\", \"vek\": 21, \"pohlavi\": 21, \"kraj_nuts_kod\": 21, \"nakaza_v_zahranici\": 2, \"nakaza_zeme_csu_kod\": 2}, {\"datum\": \"2020-05-13T00:00:00\", \"okres_lau_kod\": \"CZ0722\", \"okres_nazev\": \"Uhersk\\u00e9 Hradi\\u0161t\\u011b\", \"vek\": 1, \"pohlavi\": 1, \"kraj_nuts_kod\": 1, \"nakaza_v_zahranici\": 0, \"nakaza_zeme_csu_kod\": 0}, {\"datum\": \"2020-05-14T00:00:00\", \"okres_lau_kod\": \"CZ0100\", \"okres_nazev\": \"Praha\", \"vek\": 13, \"pohlavi\": 13, \"kraj_nuts_kod\": 13, \"nakaza_v_zahranici\": 0, \"nakaza_zeme_csu_kod\": 0}, {\"datum\": \"2020-05-15T00:00:00\", \"okres_lau_kod\": \"CZ0100\", \"okres_nazev\": \"Praha\", \"vek\": 15, \"pohlavi\": 15, \"kraj_nuts_kod\": 15, \"nakaza_v_zahranici\": 0, \"nakaza_zeme_csu_kod\": 0}, {\"datum\": \"2020-05-16T00:00:00\", \"okres_lau_kod\": \"CZ0100\", \"okres_nazev\": \"Praha\", \"vek\": 15, \"pohlavi\": 15, \"kraj_nuts_kod\": 15, \"nakaza_v_zahranici\": 0, \"nakaza_zeme_csu_kod\": 0}, {\"datum\": \"2020-05-17T00:00:00\", \"okres_lau_kod\": \"CZ0100\", \"okres_nazev\": \"Praha\", \"vek\": 13, \"pohlavi\": 13, \"kraj_nuts_kod\": 13, \"nakaza_v_zahranici\": 0, \"nakaza_zeme_csu_kod\": 0}, {\"datum\": \"2020-05-18T00:00:00\", \"okres_lau_kod\": \"CZ0100\", \"okres_nazev\": \"Praha\", \"vek\": 24, \"pohlavi\": 24, \"kraj_nuts_kod\": 24, \"nakaza_v_zahranici\": 0, \"nakaza_zeme_csu_kod\": 0}, {\"datum\": \"2020-05-19T00:00:00\", \"okres_lau_kod\": \"CZ0100\", \"okres_nazev\": \"Praha\", \"vek\": 11, \"pohlavi\": 11, \"kraj_nuts_kod\": 11, \"nakaza_v_zahranici\": 0, \"nakaza_zeme_csu_kod\": 0}, {\"datum\": \"2020-05-20T00:00:00\", \"okres_lau_kod\": \"CZ0100\", \"okres_nazev\": \"Praha\", \"vek\": 14, \"pohlavi\": 14, \"kraj_nuts_kod\": 14, \"nakaza_v_zahranici\": 0, \"nakaza_zeme_csu_kod\": 0}, {\"datum\": \"2020-05-21T00:00:00\", \"okres_lau_kod\": \"CZ0100\", \"okres_nazev\": \"Praha\", \"vek\": 2, \"pohlavi\": 2, \"kraj_nuts_kod\": 2, \"nakaza_v_zahranici\": 0, \"nakaza_zeme_csu_kod\": 0}, {\"datum\": \"2020-05-22T00:00:00\", \"okres_lau_kod\": \"CZ0100\", \"okres_nazev\": \"Praha\", \"vek\": 22, \"pohlavi\": 22, \"kraj_nuts_kod\": 22, \"nakaza_v_zahranici\": 1, \"nakaza_zeme_csu_kod\": 1}, {\"datum\": \"2020-05-23T00:00:00\", \"okres_lau_kod\": \"CZ0100\", \"okres_nazev\": \"Praha\", \"vek\": 3, \"pohlavi\": 3, \"kraj_nuts_kod\": 3, \"nakaza_v_zahranici\": 0, \"nakaza_zeme_csu_kod\": 0}, {\"datum\": \"2020-05-24T00:00:00\", \"okres_lau_kod\": \"CZ0100\", \"okres_nazev\": \"Praha\", \"vek\": 4, \"pohlavi\": 4, \"kraj_nuts_kod\": 4, \"nakaza_v_zahranici\": 0, \"nakaza_zeme_csu_kod\": 0}, {\"datum\": \"2020-05-25T00:00:00\", \"okres_lau_kod\": \"CZ0100\", \"okres_nazev\": \"Praha\", \"vek\": 3, \"pohlavi\": 3, \"kraj_nuts_kod\": 3, \"nakaza_v_zahranici\": 0, \"nakaza_zeme_csu_kod\": 0}, {\"datum\": \"2020-05-26T00:00:00\", \"okres_lau_kod\": \"CZ0100\", \"okres_nazev\": \"Praha\", \"vek\": 3, \"pohlavi\": 3, \"kraj_nuts_kod\": 3, \"nakaza_v_zahranici\": 0, \"nakaza_zeme_csu_kod\": 0}, {\"datum\": \"2020-05-27T00:00:00\", \"okres_lau_kod\": \"CZ0100\", \"okres_nazev\": \"Praha\", \"vek\": 8, \"pohlavi\": 8, \"kraj_nuts_kod\": 8, \"nakaza_v_zahranici\": 0, \"nakaza_zeme_csu_kod\": 0}, {\"datum\": \"2020-05-28T00:00:00\", \"okres_lau_kod\": \"CZ0100\", \"okres_nazev\": \"Praha\", \"vek\": 12, \"pohlavi\": 12, \"kraj_nuts_kod\": 12, \"nakaza_v_zahranici\": 0, \"nakaza_zeme_csu_kod\": 0}, {\"datum\": \"2020-05-29T00:00:00\", \"okres_lau_kod\": \"CZ0100\", \"okres_nazev\": \"Praha\", \"vek\": 10, \"pohlavi\": 10, \"kraj_nuts_kod\": 10, \"nakaza_v_zahranici\": 0, \"nakaza_zeme_csu_kod\": 0}, {\"datum\": \"2020-05-30T00:00:00\", \"okres_lau_kod\": \"CZ0100\", \"okres_nazev\": \"Praha\", \"vek\": 9, \"pohlavi\": 9, \"kraj_nuts_kod\": 9, \"nakaza_v_zahranici\": 1, \"nakaza_zeme_csu_kod\": 1}, {\"datum\": \"2020-05-31T00:00:00\", \"okres_lau_kod\": \"CZ0100\", \"okres_nazev\": \"Praha\", \"vek\": 8, \"pohlavi\": 8, \"kraj_nuts_kod\": 8, \"nakaza_v_zahranici\": 0, \"nakaza_zeme_csu_kod\": 0}, {\"datum\": \"2020-06-01T00:00:00\", \"okres_lau_kod\": \"CZ0100\", \"okres_nazev\": \"Praha\", \"vek\": 11, \"pohlavi\": 11, \"kraj_nuts_kod\": 11, \"nakaza_v_zahranici\": 0, \"nakaza_zeme_csu_kod\": 0}, {\"datum\": \"2020-06-02T00:00:00\", \"okres_lau_kod\": \"CZ0100\", \"okres_nazev\": \"Praha\", \"vek\": 15, \"pohlavi\": 15, \"kraj_nuts_kod\": 15, \"nakaza_v_zahranici\": 4, \"nakaza_zeme_csu_kod\": 4}, {\"datum\": \"2020-06-03T00:00:00\", \"okres_lau_kod\": \"CZ0100\", \"okres_nazev\": \"Praha\", \"vek\": 24, \"pohlavi\": 24, \"kraj_nuts_kod\": 24, \"nakaza_v_zahranici\": 0, \"nakaza_zeme_csu_kod\": 0}, {\"datum\": \"2020-06-04T00:00:00\", \"okres_lau_kod\": \"CZ0100\", \"okres_nazev\": \"Praha\", \"vek\": 15, \"pohlavi\": 15, \"kraj_nuts_kod\": 15, \"nakaza_v_zahranici\": 0, \"nakaza_zeme_csu_kod\": 0}, {\"datum\": \"2020-06-05T00:00:00\", \"okres_lau_kod\": \"CZ0100\", \"okres_nazev\": \"Praha\", \"vek\": 5, \"pohlavi\": 5, \"kraj_nuts_kod\": 5, \"nakaza_v_zahranici\": 1, \"nakaza_zeme_csu_kod\": 1}, {\"datum\": \"2020-06-06T00:00:00\", \"okres_lau_kod\": \"CZ0100\", \"okres_nazev\": \"Praha\", \"vek\": 2, \"pohlavi\": 2, \"kraj_nuts_kod\": 2, \"nakaza_v_zahranici\": 0, \"nakaza_zeme_csu_kod\": 0}, {\"datum\": \"2020-06-07T00:00:00\", \"okres_lau_kod\": \"CZ0100\", \"okres_nazev\": \"Praha\", \"vek\": 6, \"pohlavi\": 6, \"kraj_nuts_kod\": 6, \"nakaza_v_zahranici\": 1, \"nakaza_zeme_csu_kod\": 1}, {\"datum\": \"2020-06-08T00:00:00\", \"okres_lau_kod\": \"CZ0100\", \"okres_nazev\": \"Praha\", \"vek\": 13, \"pohlavi\": 13, \"kraj_nuts_kod\": 13, \"nakaza_v_zahranici\": 0, \"nakaza_zeme_csu_kod\": 0}, {\"datum\": \"2020-06-09T00:00:00\", \"okres_lau_kod\": \"CZ0100\", \"okres_nazev\": \"Praha\", \"vek\": 6, \"pohlavi\": 6, \"kraj_nuts_kod\": 6, \"nakaza_v_zahranici\": 2, \"nakaza_zeme_csu_kod\": 2}, {\"datum\": \"2020-06-10T00:00:00\", \"okres_lau_kod\": \"CZ0100\", \"okres_nazev\": \"Praha\", \"vek\": 14, \"pohlavi\": 14, \"kraj_nuts_kod\": 14, \"nakaza_v_zahranici\": 0, \"nakaza_zeme_csu_kod\": 0}, {\"datum\": \"2020-06-11T00:00:00\", \"okres_lau_kod\": \"CZ0100\", \"okres_nazev\": \"Praha\", \"vek\": 12, \"pohlavi\": 12, \"kraj_nuts_kod\": 12, \"nakaza_v_zahranici\": 0, \"nakaza_zeme_csu_kod\": 0}, {\"datum\": \"2020-06-12T00:00:00\", \"okres_lau_kod\": \"CZ0100\", \"okres_nazev\": \"Praha\", \"vek\": 17, \"pohlavi\": 17, \"kraj_nuts_kod\": 17, \"nakaza_v_zahranici\": 0, \"nakaza_zeme_csu_kod\": 0}, {\"datum\": \"2020-06-13T00:00:00\", \"okres_lau_kod\": \"CZ0100\", \"okres_nazev\": \"Praha\", \"vek\": 18, \"pohlavi\": 18, \"kraj_nuts_kod\": 18, \"nakaza_v_zahranici\": 0, \"nakaza_zeme_csu_kod\": 0}, {\"datum\": \"2020-06-14T00:00:00\", \"okres_lau_kod\": \"CZ0100\", \"okres_nazev\": \"Praha\", \"vek\": 14, \"pohlavi\": 14, \"kraj_nuts_kod\": 14, \"nakaza_v_zahranici\": 0, \"nakaza_zeme_csu_kod\": 0}, {\"datum\": \"2020-06-15T00:00:00\", \"okres_lau_kod\": \"CZ0100\", \"okres_nazev\": \"Praha\", \"vek\": 13, \"pohlavi\": 13, \"kraj_nuts_kod\": 13, \"nakaza_v_zahranici\": 1, \"nakaza_zeme_csu_kod\": 1}, {\"datum\": \"2020-06-16T00:00:00\", \"okres_lau_kod\": \"CZ0100\", \"okres_nazev\": \"Praha\", \"vek\": 12, \"pohlavi\": 12, \"kraj_nuts_kod\": 12, \"nakaza_v_zahranici\": 0, \"nakaza_zeme_csu_kod\": 0}, {\"datum\": \"2020-06-17T00:00:00\", \"okres_lau_kod\": \"CZ0100\", \"okres_nazev\": \"Praha\", \"vek\": 12, \"pohlavi\": 12, \"kraj_nuts_kod\": 12, \"nakaza_v_zahranici\": 0, \"nakaza_zeme_csu_kod\": 0}, {\"datum\": \"2020-06-18T00:00:00\", \"okres_lau_kod\": \"CZ0100\", \"okres_nazev\": \"Praha\", \"vek\": 24, \"pohlavi\": 24, \"kraj_nuts_kod\": 24, \"nakaza_v_zahranici\": 2, \"nakaza_zeme_csu_kod\": 2}, {\"datum\": \"2020-06-19T00:00:00\", \"okres_lau_kod\": \"CZ0100\", \"okres_nazev\": \"Praha\", \"vek\": 21, \"pohlavi\": 21, \"kraj_nuts_kod\": 21, \"nakaza_v_zahranici\": 0, \"nakaza_zeme_csu_kod\": 0}, {\"datum\": \"2020-06-20T00:00:00\", \"okres_lau_kod\": \"CZ0100\", \"okres_nazev\": \"Praha\", \"vek\": 4, \"pohlavi\": 4, \"kraj_nuts_kod\": 4, \"nakaza_v_zahranici\": 1, \"nakaza_zeme_csu_kod\": 1}, {\"datum\": \"2020-06-21T00:00:00\", \"okres_lau_kod\": \"CZ0100\", \"okres_nazev\": \"Praha\", \"vek\": 9, \"pohlavi\": 9, \"kraj_nuts_kod\": 9, \"nakaza_v_zahranici\": 0, \"nakaza_zeme_csu_kod\": 0}, {\"datum\": \"2020-06-22T00:00:00\", \"okres_lau_kod\": \"CZ0100\", \"okres_nazev\": \"Praha\", \"vek\": 8, \"pohlavi\": 8, \"kraj_nuts_kod\": 8, \"nakaza_v_zahranici\": 0, \"nakaza_zeme_csu_kod\": 0}, {\"datum\": \"2020-06-23T00:00:00\", \"okres_lau_kod\": \"CZ0100\", \"okres_nazev\": \"Praha\", \"vek\": 19, \"pohlavi\": 19, \"kraj_nuts_kod\": 19, \"nakaza_v_zahranici\": 2, \"nakaza_zeme_csu_kod\": 2}, {\"datum\": \"2020-06-24T00:00:00\", \"okres_lau_kod\": \"CZ0100\", \"okres_nazev\": \"Praha\", \"vek\": 19, \"pohlavi\": 19, \"kraj_nuts_kod\": 19, \"nakaza_v_zahranici\": 5, \"nakaza_zeme_csu_kod\": 5}, {\"datum\": \"2020-06-25T00:00:00\", \"okres_lau_kod\": \"CZ0100\", \"okres_nazev\": \"Praha\", \"vek\": 15, \"pohlavi\": 15, \"kraj_nuts_kod\": 15, \"nakaza_v_zahranici\": 7, \"nakaza_zeme_csu_kod\": 7}, {\"datum\": \"2020-06-26T00:00:00\", \"okres_lau_kod\": \"CZ0100\", \"okres_nazev\": \"Praha\", \"vek\": 12, \"pohlavi\": 12, \"kraj_nuts_kod\": 12, \"nakaza_v_zahranici\": 2, \"nakaza_zeme_csu_kod\": 1}, {\"datum\": \"2020-06-27T00:00:00\", \"okres_lau_kod\": \"CZ0100\", \"okres_nazev\": \"Praha\", \"vek\": 10, \"pohlavi\": 10, \"kraj_nuts_kod\": 10, \"nakaza_v_zahranici\": 2, \"nakaza_zeme_csu_kod\": 2}, {\"datum\": \"2020-06-28T00:00:00\", \"okres_lau_kod\": \"CZ0100\", \"okres_nazev\": \"Praha\", \"vek\": 8, \"pohlavi\": 8, \"kraj_nuts_kod\": 8, \"nakaza_v_zahranici\": 0, \"nakaza_zeme_csu_kod\": 0}, {\"datum\": \"2020-06-29T00:00:00\", \"okres_lau_kod\": \"CZ0100\", \"okres_nazev\": \"Praha\", \"vek\": 3, \"pohlavi\": 3, \"kraj_nuts_kod\": 3, \"nakaza_v_zahranici\": 0, \"nakaza_zeme_csu_kod\": 0}, {\"datum\": \"2020-06-30T00:00:00\", \"okres_lau_kod\": \"CZ0100\", \"okres_nazev\": \"Praha\", \"vek\": 9, \"pohlavi\": 9, \"kraj_nuts_kod\": 9, \"nakaza_v_zahranici\": 1, \"nakaza_zeme_csu_kod\": 1}, {\"datum\": \"2020-07-01T00:00:00\", \"okres_lau_kod\": \"CZ0100\", \"okres_nazev\": \"Praha\", \"vek\": 8, \"pohlavi\": 8, \"kraj_nuts_kod\": 8, \"nakaza_v_zahranici\": 3, \"nakaza_zeme_csu_kod\": 3}, {\"datum\": \"2020-07-02T00:00:00\", \"okres_lau_kod\": \"CZ0100\", \"okres_nazev\": \"Praha\", \"vek\": 16, \"pohlavi\": 16, \"kraj_nuts_kod\": 16, \"nakaza_v_zahranici\": 1, \"nakaza_zeme_csu_kod\": 1}, {\"datum\": \"2020-07-03T00:00:00\", \"okres_lau_kod\": \"CZ0100\", \"okres_nazev\": \"Praha\", \"vek\": 11, \"pohlavi\": 11, \"kraj_nuts_kod\": 11, \"nakaza_v_zahranici\": 1, \"nakaza_zeme_csu_kod\": 1}, {\"datum\": \"2020-07-04T00:00:00\", \"okres_lau_kod\": \"CZ0100\", \"okres_nazev\": \"Praha\", \"vek\": 1, \"pohlavi\": 1, \"kraj_nuts_kod\": 1, \"nakaza_v_zahranici\": 0, \"nakaza_zeme_csu_kod\": 0}, {\"datum\": \"2020-07-05T00:00:00\", \"okres_lau_kod\": \"CZ0100\", \"okres_nazev\": \"Praha\", \"vek\": 8, \"pohlavi\": 8, \"kraj_nuts_kod\": 8, \"nakaza_v_zahranici\": 1, \"nakaza_zeme_csu_kod\": 1}, {\"datum\": \"2020-07-06T00:00:00\", \"okres_lau_kod\": \"CZ0100\", \"okres_nazev\": \"Praha\", \"vek\": 9, \"pohlavi\": 9, \"kraj_nuts_kod\": 9, \"nakaza_v_zahranici\": 1, \"nakaza_zeme_csu_kod\": 1}, {\"datum\": \"2020-07-07T00:00:00\", \"okres_lau_kod\": \"CZ0100\", \"okres_nazev\": \"Praha\", \"vek\": 5, \"pohlavi\": 5, \"kraj_nuts_kod\": 5, \"nakaza_v_zahranici\": 1, \"nakaza_zeme_csu_kod\": 1}, {\"datum\": \"2020-07-07T00:00:00\", \"okres_lau_kod\": \"CZ0722\", \"okres_nazev\": \"Uhersk\\u00e9 Hradi\\u0161t\\u011b\", \"vek\": 3, \"pohlavi\": 3, \"kraj_nuts_kod\": 3, \"nakaza_v_zahranici\": 0, \"nakaza_zeme_csu_kod\": 0}, {\"datum\": \"2020-07-08T00:00:00\", \"okres_lau_kod\": \"CZ0100\", \"okres_nazev\": \"Praha\", \"vek\": 11, \"pohlavi\": 11, \"kraj_nuts_kod\": 11, \"nakaza_v_zahranici\": 2, \"nakaza_zeme_csu_kod\": 2}, {\"datum\": \"2020-07-09T00:00:00\", \"okres_lau_kod\": \"CZ0100\", \"okres_nazev\": \"Praha\", \"vek\": 15, \"pohlavi\": 15, \"kraj_nuts_kod\": 15, \"nakaza_v_zahranici\": 1, \"nakaza_zeme_csu_kod\": 1}, {\"datum\": \"2020-07-09T00:00:00\", \"okres_lau_kod\": \"CZ0722\", \"okres_nazev\": \"Uhersk\\u00e9 Hradi\\u0161t\\u011b\", \"vek\": 1, \"pohlavi\": 1, \"kraj_nuts_kod\": 1, \"nakaza_v_zahranici\": 0, \"nakaza_zeme_csu_kod\": 0}, {\"datum\": \"2020-07-10T00:00:00\", \"okres_lau_kod\": \"CZ0100\", \"okres_nazev\": \"Praha\", \"vek\": 16, \"pohlavi\": 16, \"kraj_nuts_kod\": 16, \"nakaza_v_zahranici\": 1, \"nakaza_zeme_csu_kod\": 1}, {\"datum\": \"2020-07-10T00:00:00\", \"okres_lau_kod\": \"CZ0722\", \"okres_nazev\": \"Uhersk\\u00e9 Hradi\\u0161t\\u011b\", \"vek\": 1, \"pohlavi\": 1, \"kraj_nuts_kod\": 1, \"nakaza_v_zahranici\": 0, \"nakaza_zeme_csu_kod\": 0}, {\"datum\": \"2020-07-11T00:00:00\", \"okres_lau_kod\": \"CZ0100\", \"okres_nazev\": \"Praha\", \"vek\": 7, \"pohlavi\": 7, \"kraj_nuts_kod\": 7, \"nakaza_v_zahranici\": 1, \"nakaza_zeme_csu_kod\": 1}, {\"datum\": \"2020-07-12T00:00:00\", \"okres_lau_kod\": \"CZ0100\", \"okres_nazev\": \"Praha\", \"vek\": 6, \"pohlavi\": 6, \"kraj_nuts_kod\": 6, \"nakaza_v_zahranici\": 0, \"nakaza_zeme_csu_kod\": 0}, {\"datum\": \"2020-07-12T00:00:00\", \"okres_lau_kod\": \"CZ0722\", \"okres_nazev\": \"Uhersk\\u00e9 Hradi\\u0161t\\u011b\", \"vek\": 1, \"pohlavi\": 1, \"kraj_nuts_kod\": 1, \"nakaza_v_zahranici\": 0, \"nakaza_zeme_csu_kod\": 0}, {\"datum\": \"2020-07-13T00:00:00\", \"okres_lau_kod\": \"CZ0100\", \"okres_nazev\": \"Praha\", \"vek\": 12, \"pohlavi\": 12, \"kraj_nuts_kod\": 12, \"nakaza_v_zahranici\": 0, \"nakaza_zeme_csu_kod\": 0}, {\"datum\": \"2020-07-13T00:00:00\", \"okres_lau_kod\": \"CZ0722\", \"okres_nazev\": \"Uhersk\\u00e9 Hradi\\u0161t\\u011b\", \"vek\": 1, \"pohlavi\": 1, \"kraj_nuts_kod\": 1, \"nakaza_v_zahranici\": 0, \"nakaza_zeme_csu_kod\": 0}, {\"datum\": \"2020-07-14T00:00:00\", \"okres_lau_kod\": \"CZ0100\", \"okres_nazev\": \"Praha\", \"vek\": 14, \"pohlavi\": 14, \"kraj_nuts_kod\": 14, \"nakaza_v_zahranici\": 3, \"nakaza_zeme_csu_kod\": 3}, {\"datum\": \"2020-07-14T00:00:00\", \"okres_lau_kod\": \"CZ0722\", \"okres_nazev\": \"Uhersk\\u00e9 Hradi\\u0161t\\u011b\", \"vek\": 6, \"pohlavi\": 6, \"kraj_nuts_kod\": 6, \"nakaza_v_zahranici\": 0, \"nakaza_zeme_csu_kod\": 0}, {\"datum\": \"2020-07-15T00:00:00\", \"okres_lau_kod\": \"CZ0100\", \"okres_nazev\": \"Praha\", \"vek\": 14, \"pohlavi\": 14, \"kraj_nuts_kod\": 14, \"nakaza_v_zahranici\": 3, \"nakaza_zeme_csu_kod\": 3}, {\"datum\": \"2020-07-15T00:00:00\", \"okres_lau_kod\": \"CZ0722\", \"okres_nazev\": \"Uhersk\\u00e9 Hradi\\u0161t\\u011b\", \"vek\": 5, \"pohlavi\": 5, \"kraj_nuts_kod\": 5, \"nakaza_v_zahranici\": 0, \"nakaza_zeme_csu_kod\": 0}, {\"datum\": \"2020-07-16T00:00:00\", \"okres_lau_kod\": \"CZ0100\", \"okres_nazev\": \"Praha\", \"vek\": 20, \"pohlavi\": 20, \"kraj_nuts_kod\": 20, \"nakaza_v_zahranici\": 2, \"nakaza_zeme_csu_kod\": 2}, {\"datum\": \"2020-07-16T00:00:00\", \"okres_lau_kod\": \"CZ0722\", \"okres_nazev\": \"Uhersk\\u00e9 Hradi\\u0161t\\u011b\", \"vek\": 7, \"pohlavi\": 7, \"kraj_nuts_kod\": 7, \"nakaza_v_zahranici\": 0, \"nakaza_zeme_csu_kod\": 0}, {\"datum\": \"2020-07-17T00:00:00\", \"okres_lau_kod\": \"CZ0100\", \"okres_nazev\": \"Praha\", \"vek\": 11, \"pohlavi\": 11, \"kraj_nuts_kod\": 11, \"nakaza_v_zahranici\": 1, \"nakaza_zeme_csu_kod\": 1}, {\"datum\": \"2020-07-17T00:00:00\", \"okres_lau_kod\": \"CZ0722\", \"okres_nazev\": \"Uhersk\\u00e9 Hradi\\u0161t\\u011b\", \"vek\": 4, \"pohlavi\": 4, \"kraj_nuts_kod\": 4, \"nakaza_v_zahranici\": 0, \"nakaza_zeme_csu_kod\": 0}, {\"datum\": \"2020-07-18T00:00:00\", \"okres_lau_kod\": \"CZ0100\", \"okres_nazev\": \"Praha\", \"vek\": 16, \"pohlavi\": 16, \"kraj_nuts_kod\": 16, \"nakaza_v_zahranici\": 5, \"nakaza_zeme_csu_kod\": 5}, {\"datum\": \"2020-07-18T00:00:00\", \"okres_lau_kod\": \"CZ0722\", \"okres_nazev\": \"Uhersk\\u00e9 Hradi\\u0161t\\u011b\", \"vek\": 2, \"pohlavi\": 2, \"kraj_nuts_kod\": 2, \"nakaza_v_zahranici\": 0, \"nakaza_zeme_csu_kod\": 0}, {\"datum\": \"2020-07-19T00:00:00\", \"okres_lau_kod\": \"CZ0100\", \"okres_nazev\": \"Praha\", \"vek\": 26, \"pohlavi\": 26, \"kraj_nuts_kod\": 26, \"nakaza_v_zahranici\": 6, \"nakaza_zeme_csu_kod\": 5}, {\"datum\": \"2020-07-19T00:00:00\", \"okres_lau_kod\": \"CZ0722\", \"okres_nazev\": \"Uhersk\\u00e9 Hradi\\u0161t\\u011b\", \"vek\": 9, \"pohlavi\": 9, \"kraj_nuts_kod\": 9, \"nakaza_v_zahranici\": 0, \"nakaza_zeme_csu_kod\": 0}, {\"datum\": \"2020-07-20T00:00:00\", \"okres_lau_kod\": \"CZ0100\", \"okres_nazev\": \"Praha\", \"vek\": 24, \"pohlavi\": 24, \"kraj_nuts_kod\": 24, \"nakaza_v_zahranici\": 2, \"nakaza_zeme_csu_kod\": 2}, {\"datum\": \"2020-07-21T00:00:00\", \"okres_lau_kod\": \"CZ0100\", \"okres_nazev\": \"Praha\", \"vek\": 62, \"pohlavi\": 62, \"kraj_nuts_kod\": 62, \"nakaza_v_zahranici\": 9, \"nakaza_zeme_csu_kod\": 9}, {\"datum\": \"2020-07-21T00:00:00\", \"okres_lau_kod\": \"CZ0722\", \"okres_nazev\": \"Uhersk\\u00e9 Hradi\\u0161t\\u011b\", \"vek\": 6, \"pohlavi\": 6, \"kraj_nuts_kod\": 6, \"nakaza_v_zahranici\": 0, \"nakaza_zeme_csu_kod\": 0}, {\"datum\": \"2020-07-22T00:00:00\", \"okres_lau_kod\": \"CZ0100\", \"okres_nazev\": \"Praha\", \"vek\": 54, \"pohlavi\": 54, \"kraj_nuts_kod\": 54, \"nakaza_v_zahranici\": 2, \"nakaza_zeme_csu_kod\": 2}, {\"datum\": \"2020-07-23T00:00:00\", \"okres_lau_kod\": \"CZ0100\", \"okres_nazev\": \"Praha\", \"vek\": 50, \"pohlavi\": 50, \"kraj_nuts_kod\": 50, \"nakaza_v_zahranici\": 4, \"nakaza_zeme_csu_kod\": 4}, {\"datum\": \"2020-07-23T00:00:00\", \"okres_lau_kod\": \"CZ0722\", \"okres_nazev\": \"Uhersk\\u00e9 Hradi\\u0161t\\u011b\", \"vek\": 3, \"pohlavi\": 3, \"kraj_nuts_kod\": 3, \"nakaza_v_zahranici\": 0, \"nakaza_zeme_csu_kod\": 0}, {\"datum\": \"2020-07-24T00:00:00\", \"okres_lau_kod\": \"CZ0100\", \"okres_nazev\": \"Praha\", \"vek\": 82, \"pohlavi\": 82, \"kraj_nuts_kod\": 82, \"nakaza_v_zahranici\": 4, \"nakaza_zeme_csu_kod\": 4}, {\"datum\": \"2020-07-24T00:00:00\", \"okres_lau_kod\": \"CZ0722\", \"okres_nazev\": \"Uhersk\\u00e9 Hradi\\u0161t\\u011b\", \"vek\": 2, \"pohlavi\": 2, \"kraj_nuts_kod\": 2, \"nakaza_v_zahranici\": 0, \"nakaza_zeme_csu_kod\": 0}, {\"datum\": \"2020-07-25T00:00:00\", \"okres_lau_kod\": \"CZ0100\", \"okres_nazev\": \"Praha\", \"vek\": 39, \"pohlavi\": 39, \"kraj_nuts_kod\": 39, \"nakaza_v_zahranici\": 1, \"nakaza_zeme_csu_kod\": 1}, {\"datum\": \"2020-07-25T00:00:00\", \"okres_lau_kod\": \"CZ0722\", \"okres_nazev\": \"Uhersk\\u00e9 Hradi\\u0161t\\u011b\", \"vek\": 4, \"pohlavi\": 4, \"kraj_nuts_kod\": 4, \"nakaza_v_zahranici\": 0, \"nakaza_zeme_csu_kod\": 0}, {\"datum\": \"2020-07-26T00:00:00\", \"okres_lau_kod\": \"CZ0100\", \"okres_nazev\": \"Praha\", \"vek\": 34, \"pohlavi\": 34, \"kraj_nuts_kod\": 34, \"nakaza_v_zahranici\": 2, \"nakaza_zeme_csu_kod\": 2}, {\"datum\": \"2020-07-26T00:00:00\", \"okres_lau_kod\": \"CZ0722\", \"okres_nazev\": \"Uhersk\\u00e9 Hradi\\u0161t\\u011b\", \"vek\": 2, \"pohlavi\": 2, \"kraj_nuts_kod\": 2, \"nakaza_v_zahranici\": 0, \"nakaza_zeme_csu_kod\": 0}, {\"datum\": \"2020-07-27T00:00:00\", \"okres_lau_kod\": \"CZ0100\", \"okres_nazev\": \"Praha\", \"vek\": 44, \"pohlavi\": 44, \"kraj_nuts_kod\": 44, \"nakaza_v_zahranici\": 7, \"nakaza_zeme_csu_kod\": 6}, {\"datum\": \"2020-07-27T00:00:00\", \"okres_lau_kod\": \"CZ0722\", \"okres_nazev\": \"Uhersk\\u00e9 Hradi\\u0161t\\u011b\", \"vek\": 2, \"pohlavi\": 2, \"kraj_nuts_kod\": 2, \"nakaza_v_zahranici\": 0, \"nakaza_zeme_csu_kod\": 0}, {\"datum\": \"2020-07-28T00:00:00\", \"okres_lau_kod\": \"CZ0100\", \"okres_nazev\": \"Praha\", \"vek\": 63, \"pohlavi\": 63, \"kraj_nuts_kod\": 63, \"nakaza_v_zahranici\": 11, \"nakaza_zeme_csu_kod\": 11}, {\"datum\": \"2020-07-29T00:00:00\", \"okres_lau_kod\": \"CZ0100\", \"okres_nazev\": \"Praha\", \"vek\": 67, \"pohlavi\": 67, \"kraj_nuts_kod\": 67, \"nakaza_v_zahranici\": 6, \"nakaza_zeme_csu_kod\": 6}, {\"datum\": \"2020-07-29T00:00:00\", \"okres_lau_kod\": \"CZ0722\", \"okres_nazev\": \"Uhersk\\u00e9 Hradi\\u0161t\\u011b\", \"vek\": 1, \"pohlavi\": 1, \"kraj_nuts_kod\": 1, \"nakaza_v_zahranici\": 0, \"nakaza_zeme_csu_kod\": 0}, {\"datum\": \"2020-07-30T00:00:00\", \"okres_lau_kod\": \"CZ0100\", \"okres_nazev\": \"Praha\", \"vek\": 46, \"pohlavi\": 46, \"kraj_nuts_kod\": 46, \"nakaza_v_zahranici\": 3, \"nakaza_zeme_csu_kod\": 3}, {\"datum\": \"2020-07-30T00:00:00\", \"okres_lau_kod\": \"CZ0722\", \"okres_nazev\": \"Uhersk\\u00e9 Hradi\\u0161t\\u011b\", \"vek\": 3, \"pohlavi\": 3, \"kraj_nuts_kod\": 3, \"nakaza_v_zahranici\": 0, \"nakaza_zeme_csu_kod\": 0}, {\"datum\": \"2020-07-31T00:00:00\", \"okres_lau_kod\": \"CZ0100\", \"okres_nazev\": \"Praha\", \"vek\": 52, \"pohlavi\": 52, \"kraj_nuts_kod\": 52, \"nakaza_v_zahranici\": 4, \"nakaza_zeme_csu_kod\": 4}, {\"datum\": \"2020-07-31T00:00:00\", \"okres_lau_kod\": \"CZ0722\", \"okres_nazev\": \"Uhersk\\u00e9 Hradi\\u0161t\\u011b\", \"vek\": 2, \"pohlavi\": 2, \"kraj_nuts_kod\": 2, \"nakaza_v_zahranici\": 0, \"nakaza_zeme_csu_kod\": 0}, {\"datum\": \"2020-08-01T00:00:00\", \"okres_lau_kod\": \"CZ0100\", \"okres_nazev\": \"Praha\", \"vek\": 32, \"pohlavi\": 32, \"kraj_nuts_kod\": 32, \"nakaza_v_zahranici\": 2, \"nakaza_zeme_csu_kod\": 2}, {\"datum\": \"2020-08-02T00:00:00\", \"okres_lau_kod\": \"CZ0100\", \"okres_nazev\": \"Praha\", \"vek\": 26, \"pohlavi\": 26, \"kraj_nuts_kod\": 26, \"nakaza_v_zahranici\": 3, \"nakaza_zeme_csu_kod\": 3}, {\"datum\": \"2020-08-02T00:00:00\", \"okres_lau_kod\": \"CZ0722\", \"okres_nazev\": \"Uhersk\\u00e9 Hradi\\u0161t\\u011b\", \"vek\": 3, \"pohlavi\": 3, \"kraj_nuts_kod\": 3, \"nakaza_v_zahranici\": 0, \"nakaza_zeme_csu_kod\": 0}, {\"datum\": \"2020-08-03T00:00:00\", \"okres_lau_kod\": \"CZ0100\", \"okres_nazev\": \"Praha\", \"vek\": 43, \"pohlavi\": 43, \"kraj_nuts_kod\": 43, \"nakaza_v_zahranici\": 5, \"nakaza_zeme_csu_kod\": 5}, {\"datum\": \"2020-08-03T00:00:00\", \"okres_lau_kod\": \"CZ0722\", \"okres_nazev\": \"Uhersk\\u00e9 Hradi\\u0161t\\u011b\", \"vek\": 2, \"pohlavi\": 2, \"kraj_nuts_kod\": 2, \"nakaza_v_zahranici\": 2, \"nakaza_zeme_csu_kod\": 2}, {\"datum\": \"2020-08-04T00:00:00\", \"okres_lau_kod\": \"CZ0100\", \"okres_nazev\": \"Praha\", \"vek\": 78, \"pohlavi\": 78, \"kraj_nuts_kod\": 78, \"nakaza_v_zahranici\": 20, \"nakaza_zeme_csu_kod\": 20}, {\"datum\": \"2020-08-04T00:00:00\", \"okres_lau_kod\": \"CZ0722\", \"okres_nazev\": \"Uhersk\\u00e9 Hradi\\u0161t\\u011b\", \"vek\": 5, \"pohlavi\": 5, \"kraj_nuts_kod\": 5, \"nakaza_v_zahranici\": 0, \"nakaza_zeme_csu_kod\": 0}, {\"datum\": \"2020-08-05T00:00:00\", \"okres_lau_kod\": \"CZ0100\", \"okres_nazev\": \"Praha\", \"vek\": 37, \"pohlavi\": 37, \"kraj_nuts_kod\": 37, \"nakaza_v_zahranici\": 4, \"nakaza_zeme_csu_kod\": 4}, {\"datum\": \"2020-08-05T00:00:00\", \"okres_lau_kod\": \"CZ0722\", \"okres_nazev\": \"Uhersk\\u00e9 Hradi\\u0161t\\u011b\", \"vek\": 1, \"pohlavi\": 1, \"kraj_nuts_kod\": 1, \"nakaza_v_zahranici\": 0, \"nakaza_zeme_csu_kod\": 0}, {\"datum\": \"2020-08-06T00:00:00\", \"okres_lau_kod\": \"CZ0100\", \"okres_nazev\": \"Praha\", \"vek\": 52, \"pohlavi\": 52, \"kraj_nuts_kod\": 52, \"nakaza_v_zahranici\": 6, \"nakaza_zeme_csu_kod\": 6}, {\"datum\": \"2020-08-06T00:00:00\", \"okres_lau_kod\": \"CZ0722\", \"okres_nazev\": \"Uhersk\\u00e9 Hradi\\u0161t\\u011b\", \"vek\": 1, \"pohlavi\": 1, \"kraj_nuts_kod\": 1, \"nakaza_v_zahranici\": 0, \"nakaza_zeme_csu_kod\": 0}, {\"datum\": \"2020-08-07T00:00:00\", \"okres_lau_kod\": \"CZ0100\", \"okres_nazev\": \"Praha\", \"vek\": 71, \"pohlavi\": 71, \"kraj_nuts_kod\": 71, \"nakaza_v_zahranici\": 16, \"nakaza_zeme_csu_kod\": 15}, {\"datum\": \"2020-08-07T00:00:00\", \"okres_lau_kod\": \"CZ0722\", \"okres_nazev\": \"Uhersk\\u00e9 Hradi\\u0161t\\u011b\", \"vek\": 4, \"pohlavi\": 4, \"kraj_nuts_kod\": 4, \"nakaza_v_zahranici\": 0, \"nakaza_zeme_csu_kod\": 0}, {\"datum\": \"2020-08-08T00:00:00\", \"okres_lau_kod\": \"CZ0100\", \"okres_nazev\": \"Praha\", \"vek\": 46, \"pohlavi\": 46, \"kraj_nuts_kod\": 46, \"nakaza_v_zahranici\": 11, \"nakaza_zeme_csu_kod\": 11}, {\"datum\": \"2020-08-08T00:00:00\", \"okres_lau_kod\": \"CZ0722\", \"okres_nazev\": \"Uhersk\\u00e9 Hradi\\u0161t\\u011b\", \"vek\": 1, \"pohlavi\": 1, \"kraj_nuts_kod\": 1, \"nakaza_v_zahranici\": 0, \"nakaza_zeme_csu_kod\": 0}, {\"datum\": \"2020-08-09T00:00:00\", \"okres_lau_kod\": \"CZ0100\", \"okres_nazev\": \"Praha\", \"vek\": 32, \"pohlavi\": 32, \"kraj_nuts_kod\": 32, \"nakaza_v_zahranici\": 3, \"nakaza_zeme_csu_kod\": 3}, {\"datum\": \"2020-08-09T00:00:00\", \"okres_lau_kod\": \"CZ0722\", \"okres_nazev\": \"Uhersk\\u00e9 Hradi\\u0161t\\u011b\", \"vek\": 1, \"pohlavi\": 1, \"kraj_nuts_kod\": 1, \"nakaza_v_zahranici\": 0, \"nakaza_zeme_csu_kod\": 0}, {\"datum\": \"2020-08-10T00:00:00\", \"okres_lau_kod\": \"CZ0100\", \"okres_nazev\": \"Praha\", \"vek\": 50, \"pohlavi\": 50, \"kraj_nuts_kod\": 50, \"nakaza_v_zahranici\": 6, \"nakaza_zeme_csu_kod\": 6}, {\"datum\": \"2020-08-11T00:00:00\", \"okres_lau_kod\": \"CZ0100\", \"okres_nazev\": \"Praha\", \"vek\": 84, \"pohlavi\": 84, \"kraj_nuts_kod\": 84, \"nakaza_v_zahranici\": 14, \"nakaza_zeme_csu_kod\": 14}, {\"datum\": \"2020-08-11T00:00:00\", \"okres_lau_kod\": \"CZ0722\", \"okres_nazev\": \"Uhersk\\u00e9 Hradi\\u0161t\\u011b\", \"vek\": 7, \"pohlavi\": 7, \"kraj_nuts_kod\": 7, \"nakaza_v_zahranici\": 0, \"nakaza_zeme_csu_kod\": 0}, {\"datum\": \"2020-08-12T00:00:00\", \"okres_lau_kod\": \"CZ0100\", \"okres_nazev\": \"Praha\", \"vek\": 81, \"pohlavi\": 81, \"kraj_nuts_kod\": 81, \"nakaza_v_zahranici\": 13, \"nakaza_zeme_csu_kod\": 13}, {\"datum\": \"2020-08-12T00:00:00\", \"okres_lau_kod\": \"CZ0722\", \"okres_nazev\": \"Uhersk\\u00e9 Hradi\\u0161t\\u011b\", \"vek\": 2, \"pohlavi\": 2, \"kraj_nuts_kod\": 2, \"nakaza_v_zahranici\": 1, \"nakaza_zeme_csu_kod\": 1}, {\"datum\": \"2020-08-13T00:00:00\", \"okres_lau_kod\": \"CZ0100\", \"okres_nazev\": \"Praha\", \"vek\": 89, \"pohlavi\": 89, \"kraj_nuts_kod\": 89, \"nakaza_v_zahranici\": 13, \"nakaza_zeme_csu_kod\": 13}, {\"datum\": \"2020-08-13T00:00:00\", \"okres_lau_kod\": \"CZ0722\", \"okres_nazev\": \"Uhersk\\u00e9 Hradi\\u0161t\\u011b\", \"vek\": 10, \"pohlavi\": 10, \"kraj_nuts_kod\": 10, \"nakaza_v_zahranici\": 1, \"nakaza_zeme_csu_kod\": 1}, {\"datum\": \"2020-08-14T00:00:00\", \"okres_lau_kod\": \"CZ0100\", \"okres_nazev\": \"Praha\", \"vek\": 78, \"pohlavi\": 78, \"kraj_nuts_kod\": 78, \"nakaza_v_zahranici\": 15, \"nakaza_zeme_csu_kod\": 15}, {\"datum\": \"2020-08-14T00:00:00\", \"okres_lau_kod\": \"CZ0722\", \"okres_nazev\": \"Uhersk\\u00e9 Hradi\\u0161t\\u011b\", \"vek\": 15, \"pohlavi\": 15, \"kraj_nuts_kod\": 15, \"nakaza_v_zahranici\": 0, \"nakaza_zeme_csu_kod\": 0}, {\"datum\": \"2020-08-15T00:00:00\", \"okres_lau_kod\": \"CZ0100\", \"okres_nazev\": \"Praha\", \"vek\": 43, \"pohlavi\": 43, \"kraj_nuts_kod\": 43, \"nakaza_v_zahranici\": 4, \"nakaza_zeme_csu_kod\": 4}, {\"datum\": \"2020-08-15T00:00:00\", \"okres_lau_kod\": \"CZ0722\", \"okres_nazev\": \"Uhersk\\u00e9 Hradi\\u0161t\\u011b\", \"vek\": 13, \"pohlavi\": 13, \"kraj_nuts_kod\": 13, \"nakaza_v_zahranici\": 0, \"nakaza_zeme_csu_kod\": 0}, {\"datum\": \"2020-08-16T00:00:00\", \"okres_lau_kod\": \"CZ0100\", \"okres_nazev\": \"Praha\", \"vek\": 39, \"pohlavi\": 39, \"kraj_nuts_kod\": 39, \"nakaza_v_zahranici\": 5, \"nakaza_zeme_csu_kod\": 5}, {\"datum\": \"2020-08-16T00:00:00\", \"okres_lau_kod\": \"CZ0722\", \"okres_nazev\": \"Uhersk\\u00e9 Hradi\\u0161t\\u011b\", \"vek\": 1, \"pohlavi\": 1, \"kraj_nuts_kod\": 1, \"nakaza_v_zahranici\": 0, \"nakaza_zeme_csu_kod\": 0}, {\"datum\": \"2020-08-17T00:00:00\", \"okres_lau_kod\": \"CZ0100\", \"okres_nazev\": \"Praha\", \"vek\": 47, \"pohlavi\": 47, \"kraj_nuts_kod\": 47, \"nakaza_v_zahranici\": 9, \"nakaza_zeme_csu_kod\": 9}, {\"datum\": \"2020-08-17T00:00:00\", \"okres_lau_kod\": \"CZ0722\", \"okres_nazev\": \"Uhersk\\u00e9 Hradi\\u0161t\\u011b\", \"vek\": 1, \"pohlavi\": 1, \"kraj_nuts_kod\": 1, \"nakaza_v_zahranici\": 0, \"nakaza_zeme_csu_kod\": 0}, {\"datum\": \"2020-08-18T00:00:00\", \"okres_lau_kod\": \"CZ0100\", \"okres_nazev\": \"Praha\", \"vek\": 66, \"pohlavi\": 66, \"kraj_nuts_kod\": 66, \"nakaza_v_zahranici\": 10, \"nakaza_zeme_csu_kod\": 10}, {\"datum\": \"2020-08-18T00:00:00\", \"okres_lau_kod\": \"CZ0722\", \"okres_nazev\": \"Uhersk\\u00e9 Hradi\\u0161t\\u011b\", \"vek\": 27, \"pohlavi\": 27, \"kraj_nuts_kod\": 27, \"nakaza_v_zahranici\": 0, \"nakaza_zeme_csu_kod\": 0}, {\"datum\": \"2020-08-19T00:00:00\", \"okres_lau_kod\": \"CZ0100\", \"okres_nazev\": \"Praha\", \"vek\": 84, \"pohlavi\": 84, \"kraj_nuts_kod\": 84, \"nakaza_v_zahranici\": 16, \"nakaza_zeme_csu_kod\": 16}, {\"datum\": \"2020-08-19T00:00:00\", \"okres_lau_kod\": \"CZ0722\", \"okres_nazev\": \"Uhersk\\u00e9 Hradi\\u0161t\\u011b\", \"vek\": 1, \"pohlavi\": 1, \"kraj_nuts_kod\": 1, \"nakaza_v_zahranici\": 0, \"nakaza_zeme_csu_kod\": 0}, {\"datum\": \"2020-08-20T00:00:00\", \"okres_lau_kod\": \"CZ0100\", \"okres_nazev\": \"Praha\", \"vek\": 45, \"pohlavi\": 45, \"kraj_nuts_kod\": 45, \"nakaza_v_zahranici\": 4, \"nakaza_zeme_csu_kod\": 4}, {\"datum\": \"2020-08-20T00:00:00\", \"okres_lau_kod\": \"CZ0722\", \"okres_nazev\": \"Uhersk\\u00e9 Hradi\\u0161t\\u011b\", \"vek\": 5, \"pohlavi\": 5, \"kraj_nuts_kod\": 5, \"nakaza_v_zahranici\": 0, \"nakaza_zeme_csu_kod\": 0}, {\"datum\": \"2020-08-21T00:00:00\", \"okres_lau_kod\": \"CZ0100\", \"okres_nazev\": \"Praha\", \"vek\": 128, \"pohlavi\": 128, \"kraj_nuts_kod\": 128, \"nakaza_v_zahranici\": 11, \"nakaza_zeme_csu_kod\": 11}, {\"datum\": \"2020-08-21T00:00:00\", \"okres_lau_kod\": \"CZ0722\", \"okres_nazev\": \"Uhersk\\u00e9 Hradi\\u0161t\\u011b\", \"vek\": 15, \"pohlavi\": 15, \"kraj_nuts_kod\": 15, \"nakaza_v_zahranici\": 0, \"nakaza_zeme_csu_kod\": 0}, {\"datum\": \"2020-08-22T00:00:00\", \"okres_lau_kod\": \"CZ0100\", \"okres_nazev\": \"Praha\", \"vek\": 83, \"pohlavi\": 83, \"kraj_nuts_kod\": 83, \"nakaza_v_zahranici\": 13, \"nakaza_zeme_csu_kod\": 13}, {\"datum\": \"2020-08-22T00:00:00\", \"okres_lau_kod\": \"CZ0722\", \"okres_nazev\": \"Uhersk\\u00e9 Hradi\\u0161t\\u011b\", \"vek\": 6, \"pohlavi\": 6, \"kraj_nuts_kod\": 6, \"nakaza_v_zahranici\": 0, \"nakaza_zeme_csu_kod\": 0}, {\"datum\": \"2020-08-23T00:00:00\", \"okres_lau_kod\": \"CZ0100\", \"okres_nazev\": \"Praha\", \"vek\": 33, \"pohlavi\": 33, \"kraj_nuts_kod\": 33, \"nakaza_v_zahranici\": 6, \"nakaza_zeme_csu_kod\": 6}, {\"datum\": \"2020-08-24T00:00:00\", \"okres_lau_kod\": \"CZ0100\", \"okres_nazev\": \"Praha\", \"vek\": 58, \"pohlavi\": 58, \"kraj_nuts_kod\": 58, \"nakaza_v_zahranici\": 11, \"nakaza_zeme_csu_kod\": 12}, {\"datum\": \"2020-08-25T00:00:00\", \"okres_lau_kod\": \"CZ0100\", \"okres_nazev\": \"Praha\", \"vek\": 68, \"pohlavi\": 68, \"kraj_nuts_kod\": 68, \"nakaza_v_zahranici\": 13, \"nakaza_zeme_csu_kod\": 13}, {\"datum\": \"2020-08-25T00:00:00\", \"okres_lau_kod\": \"CZ0722\", \"okres_nazev\": \"Uhersk\\u00e9 Hradi\\u0161t\\u011b\", \"vek\": 3, \"pohlavi\": 3, \"kraj_nuts_kod\": 3, \"nakaza_v_zahranici\": 1, \"nakaza_zeme_csu_kod\": 1}, {\"datum\": \"2020-08-26T00:00:00\", \"okres_lau_kod\": \"CZ0100\", \"okres_nazev\": \"Praha\", \"vek\": 106, \"pohlavi\": 106, \"kraj_nuts_kod\": 106, \"nakaza_v_zahranici\": 14, \"nakaza_zeme_csu_kod\": 14}, {\"datum\": \"2020-08-26T00:00:00\", \"okres_lau_kod\": \"CZ0722\", \"okres_nazev\": \"Uhersk\\u00e9 Hradi\\u0161t\\u011b\", \"vek\": 9, \"pohlavi\": 9, \"kraj_nuts_kod\": 9, \"nakaza_v_zahranici\": 0, \"nakaza_zeme_csu_kod\": 0}, {\"datum\": \"2020-08-27T00:00:00\", \"okres_lau_kod\": \"CZ0100\", \"okres_nazev\": \"Praha\", \"vek\": 93, \"pohlavi\": 93, \"kraj_nuts_kod\": 93, \"nakaza_v_zahranici\": 12, \"nakaza_zeme_csu_kod\": 12}, {\"datum\": \"2020-08-27T00:00:00\", \"okres_lau_kod\": \"CZ0722\", \"okres_nazev\": \"Uhersk\\u00e9 Hradi\\u0161t\\u011b\", \"vek\": 5, \"pohlavi\": 5, \"kraj_nuts_kod\": 5, \"nakaza_v_zahranici\": 0, \"nakaza_zeme_csu_kod\": 0}, {\"datum\": \"2020-08-28T00:00:00\", \"okres_lau_kod\": \"CZ0100\", \"okres_nazev\": \"Praha\", \"vek\": 135, \"pohlavi\": 135, \"kraj_nuts_kod\": 135, \"nakaza_v_zahranici\": 14, \"nakaza_zeme_csu_kod\": 14}, {\"datum\": \"2020-08-28T00:00:00\", \"okres_lau_kod\": \"CZ0722\", \"okres_nazev\": \"Uhersk\\u00e9 Hradi\\u0161t\\u011b\", \"vek\": 2, \"pohlavi\": 2, \"kraj_nuts_kod\": 2, \"nakaza_v_zahranici\": 0, \"nakaza_zeme_csu_kod\": 0}, {\"datum\": \"2020-08-29T00:00:00\", \"okres_lau_kod\": \"CZ0100\", \"okres_nazev\": \"Praha\", \"vek\": 57, \"pohlavi\": 57, \"kraj_nuts_kod\": 57, \"nakaza_v_zahranici\": 5, \"nakaza_zeme_csu_kod\": 5}, {\"datum\": \"2020-08-29T00:00:00\", \"okres_lau_kod\": \"CZ0722\", \"okres_nazev\": \"Uhersk\\u00e9 Hradi\\u0161t\\u011b\", \"vek\": 8, \"pohlavi\": 8, \"kraj_nuts_kod\": 8, \"nakaza_v_zahranici\": 0, \"nakaza_zeme_csu_kod\": 0}, {\"datum\": \"2020-08-30T00:00:00\", \"okres_lau_kod\": \"CZ0100\", \"okres_nazev\": \"Praha\", \"vek\": 127, \"pohlavi\": 127, \"kraj_nuts_kod\": 127, \"nakaza_v_zahranici\": 15, \"nakaza_zeme_csu_kod\": 15}, {\"datum\": \"2020-08-30T00:00:00\", \"okres_lau_kod\": \"CZ0722\", \"okres_nazev\": \"Uhersk\\u00e9 Hradi\\u0161t\\u011b\", \"vek\": 2, \"pohlavi\": 2, \"kraj_nuts_kod\": 2, \"nakaza_v_zahranici\": 1, \"nakaza_zeme_csu_kod\": 1}, {\"datum\": \"2020-08-31T00:00:00\", \"okres_lau_kod\": \"CZ0100\", \"okres_nazev\": \"Praha\", \"vek\": 54, \"pohlavi\": 54, \"kraj_nuts_kod\": 54, \"nakaza_v_zahranici\": 10, \"nakaza_zeme_csu_kod\": 10}, {\"datum\": \"2020-09-01T00:00:00\", \"okres_lau_kod\": \"CZ0100\", \"okres_nazev\": \"Praha\", \"vek\": 119, \"pohlavi\": 119, \"kraj_nuts_kod\": 119, \"nakaza_v_zahranici\": 14, \"nakaza_zeme_csu_kod\": 14}, {\"datum\": \"2020-09-01T00:00:00\", \"okres_lau_kod\": \"CZ0722\", \"okres_nazev\": \"Uhersk\\u00e9 Hradi\\u0161t\\u011b\", \"vek\": 14, \"pohlavi\": 14, \"kraj_nuts_kod\": 14, \"nakaza_v_zahranici\": 4, \"nakaza_zeme_csu_kod\": 4}, {\"datum\": \"2020-09-02T00:00:00\", \"okres_lau_kod\": \"CZ0100\", \"okres_nazev\": \"Praha\", \"vek\": 140, \"pohlavi\": 140, \"kraj_nuts_kod\": 140, \"nakaza_v_zahranici\": 11, \"nakaza_zeme_csu_kod\": 11}, {\"datum\": \"2020-09-02T00:00:00\", \"okres_lau_kod\": \"CZ0722\", \"okres_nazev\": \"Uhersk\\u00e9 Hradi\\u0161t\\u011b\", \"vek\": 6, \"pohlavi\": 6, \"kraj_nuts_kod\": 6, \"nakaza_v_zahranici\": 0, \"nakaza_zeme_csu_kod\": 0}, {\"datum\": \"2020-09-03T00:00:00\", \"okres_lau_kod\": \"CZ0100\", \"okres_nazev\": \"Praha\", \"vek\": 180, \"pohlavi\": 180, \"kraj_nuts_kod\": 180, \"nakaza_v_zahranici\": 18, \"nakaza_zeme_csu_kod\": 18}, {\"datum\": \"2020-09-03T00:00:00\", \"okres_lau_kod\": \"CZ0722\", \"okres_nazev\": \"Uhersk\\u00e9 Hradi\\u0161t\\u011b\", \"vek\": 7, \"pohlavi\": 7, \"kraj_nuts_kod\": 7, \"nakaza_v_zahranici\": 0, \"nakaza_zeme_csu_kod\": 0}, {\"datum\": \"2020-09-04T00:00:00\", \"okres_lau_kod\": \"CZ0100\", \"okres_nazev\": \"Praha\", \"vek\": 198, \"pohlavi\": 198, \"kraj_nuts_kod\": 198, \"nakaza_v_zahranici\": 12, \"nakaza_zeme_csu_kod\": 12}, {\"datum\": \"2020-09-04T00:00:00\", \"okres_lau_kod\": \"CZ0722\", \"okres_nazev\": \"Uhersk\\u00e9 Hradi\\u0161t\\u011b\", \"vek\": 19, \"pohlavi\": 19, \"kraj_nuts_kod\": 19, \"nakaza_v_zahranici\": 1, \"nakaza_zeme_csu_kod\": 1}, {\"datum\": \"2020-09-05T00:00:00\", \"okres_lau_kod\": \"CZ0100\", \"okres_nazev\": \"Praha\", \"vek\": 122, \"pohlavi\": 122, \"kraj_nuts_kod\": 122, \"nakaza_v_zahranici\": 3, \"nakaza_zeme_csu_kod\": 3}, {\"datum\": \"2020-09-05T00:00:00\", \"okres_lau_kod\": \"CZ0722\", \"okres_nazev\": \"Uhersk\\u00e9 Hradi\\u0161t\\u011b\", \"vek\": 8, \"pohlavi\": 8, \"kraj_nuts_kod\": 8, \"nakaza_v_zahranici\": 0, \"nakaza_zeme_csu_kod\": 0}, {\"datum\": \"2020-09-06T00:00:00\", \"okres_lau_kod\": \"CZ0100\", \"okres_nazev\": \"Praha\", \"vek\": 163, \"pohlavi\": 163, \"kraj_nuts_kod\": 163, \"nakaza_v_zahranici\": 8, \"nakaza_zeme_csu_kod\": 8}, {\"datum\": \"2020-09-06T00:00:00\", \"okres_lau_kod\": \"CZ0722\", \"okres_nazev\": \"Uhersk\\u00e9 Hradi\\u0161t\\u011b\", \"vek\": 2, \"pohlavi\": 2, \"kraj_nuts_kod\": 2, \"nakaza_v_zahranici\": 0, \"nakaza_zeme_csu_kod\": 0}, {\"datum\": \"2020-09-07T00:00:00\", \"okres_lau_kod\": \"CZ0100\", \"okres_nazev\": \"Praha\", \"vek\": 128, \"pohlavi\": 128, \"kraj_nuts_kod\": 128, \"nakaza_v_zahranici\": 10, \"nakaza_zeme_csu_kod\": 10}, {\"datum\": \"2020-09-07T00:00:00\", \"okres_lau_kod\": \"CZ0722\", \"okres_nazev\": \"Uhersk\\u00e9 Hradi\\u0161t\\u011b\", \"vek\": 10, \"pohlavi\": 10, \"kraj_nuts_kod\": 10, \"nakaza_v_zahranici\": 0, \"nakaza_zeme_csu_kod\": 0}, {\"datum\": \"2020-09-08T00:00:00\", \"okres_lau_kod\": \"CZ0100\", \"okres_nazev\": \"Praha\", \"vek\": 304, \"pohlavi\": 304, \"kraj_nuts_kod\": 304, \"nakaza_v_zahranici\": 15, \"nakaza_zeme_csu_kod\": 15}, {\"datum\": \"2020-09-08T00:00:00\", \"okres_lau_kod\": \"CZ0722\", \"okres_nazev\": \"Uhersk\\u00e9 Hradi\\u0161t\\u011b\", \"vek\": 23, \"pohlavi\": 23, \"kraj_nuts_kod\": 23, \"nakaza_v_zahranici\": 0, \"nakaza_zeme_csu_kod\": 0}, {\"datum\": \"2020-09-09T00:00:00\", \"okres_lau_kod\": \"CZ0100\", \"okres_nazev\": \"Praha\", \"vek\": 270, \"pohlavi\": 270, \"kraj_nuts_kod\": 270, \"nakaza_v_zahranici\": 17, \"nakaza_zeme_csu_kod\": 17}, {\"datum\": \"2020-09-09T00:00:00\", \"okres_lau_kod\": \"CZ0722\", \"okres_nazev\": \"Uhersk\\u00e9 Hradi\\u0161t\\u011b\", \"vek\": 12, \"pohlavi\": 12, \"kraj_nuts_kod\": 12, \"nakaza_v_zahranici\": 1, \"nakaza_zeme_csu_kod\": 1}, {\"datum\": \"2020-09-10T00:00:00\", \"okres_lau_kod\": \"CZ0100\", \"okres_nazev\": \"Praha\", \"vek\": 315, \"pohlavi\": 315, \"kraj_nuts_kod\": 315, \"nakaza_v_zahranici\": 9, \"nakaza_zeme_csu_kod\": 9}, {\"datum\": \"2020-09-10T00:00:00\", \"okres_lau_kod\": \"CZ0722\", \"okres_nazev\": \"Uhersk\\u00e9 Hradi\\u0161t\\u011b\", \"vek\": 54, \"pohlavi\": 54, \"kraj_nuts_kod\": 54, \"nakaza_v_zahranici\": 0, \"nakaza_zeme_csu_kod\": 0}, {\"datum\": \"2020-09-11T00:00:00\", \"okres_lau_kod\": \"CZ0100\", \"okres_nazev\": \"Praha\", \"vek\": 276, \"pohlavi\": 276, \"kraj_nuts_kod\": 276, \"nakaza_v_zahranici\": 3, \"nakaza_zeme_csu_kod\": 3}, {\"datum\": \"2020-09-11T00:00:00\", \"okres_lau_kod\": \"CZ0722\", \"okres_nazev\": \"Uhersk\\u00e9 Hradi\\u0161t\\u011b\", \"vek\": 36, \"pohlavi\": 36, \"kraj_nuts_kod\": 36, \"nakaza_v_zahranici\": 0, \"nakaza_zeme_csu_kod\": 0}, {\"datum\": \"2020-09-12T00:00:00\", \"okres_lau_kod\": \"CZ0100\", \"okres_nazev\": \"Praha\", \"vek\": 408, \"pohlavi\": 408, \"kraj_nuts_kod\": 408, \"nakaza_v_zahranici\": 13, \"nakaza_zeme_csu_kod\": 13}, {\"datum\": \"2020-09-12T00:00:00\", \"okres_lau_kod\": \"CZ0722\", \"okres_nazev\": \"Uhersk\\u00e9 Hradi\\u0161t\\u011b\", \"vek\": 31, \"pohlavi\": 31, \"kraj_nuts_kod\": 31, \"nakaza_v_zahranici\": 1, \"nakaza_zeme_csu_kod\": 1}, {\"datum\": \"2020-09-13T00:00:00\", \"okres_lau_kod\": \"CZ0100\", \"okres_nazev\": \"Praha\", \"vek\": 247, \"pohlavi\": 247, \"kraj_nuts_kod\": 247, \"nakaza_v_zahranici\": 6, \"nakaza_zeme_csu_kod\": 6}, {\"datum\": \"2020-09-13T00:00:00\", \"okres_lau_kod\": \"CZ0722\", \"okres_nazev\": \"Uhersk\\u00e9 Hradi\\u0161t\\u011b\", \"vek\": 6, \"pohlavi\": 6, \"kraj_nuts_kod\": 6, \"nakaza_v_zahranici\": 0, \"nakaza_zeme_csu_kod\": 0}, {\"datum\": \"2020-09-14T00:00:00\", \"okres_lau_kod\": \"CZ0100\", \"okres_nazev\": \"Praha\", \"vek\": 245, \"pohlavi\": 245, \"kraj_nuts_kod\": 245, \"nakaza_v_zahranici\": 11, \"nakaza_zeme_csu_kod\": 11}, {\"datum\": \"2020-09-14T00:00:00\", \"okres_lau_kod\": \"CZ0722\", \"okres_nazev\": \"Uhersk\\u00e9 Hradi\\u0161t\\u011b\", \"vek\": 16, \"pohlavi\": 16, \"kraj_nuts_kod\": 16, \"nakaza_v_zahranici\": 0, \"nakaza_zeme_csu_kod\": 0}, {\"datum\": \"2020-09-15T00:00:00\", \"okres_lau_kod\": \"CZ0100\", \"okres_nazev\": \"Praha\", \"vek\": 266, \"pohlavi\": 266, \"kraj_nuts_kod\": 266, \"nakaza_v_zahranici\": 14, \"nakaza_zeme_csu_kod\": 14}, {\"datum\": \"2020-09-15T00:00:00\", \"okres_lau_kod\": \"CZ0722\", \"okres_nazev\": \"Uhersk\\u00e9 Hradi\\u0161t\\u011b\", \"vek\": 45, \"pohlavi\": 45, \"kraj_nuts_kod\": 45, \"nakaza_v_zahranici\": 0, \"nakaza_zeme_csu_kod\": 0}, {\"datum\": \"2020-09-16T00:00:00\", \"okres_lau_kod\": \"CZ0100\", \"okres_nazev\": \"Praha\", \"vek\": 447, \"pohlavi\": 447, \"kraj_nuts_kod\": 447, \"nakaza_v_zahranici\": 9, \"nakaza_zeme_csu_kod\": 9}, {\"datum\": \"2020-09-16T00:00:00\", \"okres_lau_kod\": \"CZ0722\", \"okres_nazev\": \"Uhersk\\u00e9 Hradi\\u0161t\\u011b\", \"vek\": 42, \"pohlavi\": 42, \"kraj_nuts_kod\": 42, \"nakaza_v_zahranici\": 0, \"nakaza_zeme_csu_kod\": 0}, {\"datum\": \"2020-09-17T00:00:00\", \"okres_lau_kod\": \"CZ0100\", \"okres_nazev\": \"Praha\", \"vek\": 676, \"pohlavi\": 676, \"kraj_nuts_kod\": 676, \"nakaza_v_zahranici\": 11, \"nakaza_zeme_csu_kod\": 11}, {\"datum\": \"2020-09-17T00:00:00\", \"okres_lau_kod\": \"CZ0722\", \"okres_nazev\": \"Uhersk\\u00e9 Hradi\\u0161t\\u011b\", \"vek\": 77, \"pohlavi\": 77, \"kraj_nuts_kod\": 77, \"nakaza_v_zahranici\": 1, \"nakaza_zeme_csu_kod\": 1}, {\"datum\": \"2020-09-18T00:00:00\", \"okres_lau_kod\": \"CZ0100\", \"okres_nazev\": \"Praha\", \"vek\": 377, \"pohlavi\": 377, \"kraj_nuts_kod\": 377, \"nakaza_v_zahranici\": 7, \"nakaza_zeme_csu_kod\": 7}, {\"datum\": \"2020-09-18T00:00:00\", \"okres_lau_kod\": \"CZ0722\", \"okres_nazev\": \"Uhersk\\u00e9 Hradi\\u0161t\\u011b\", \"vek\": 27, \"pohlavi\": 27, \"kraj_nuts_kod\": 27, \"nakaza_v_zahranici\": 0, \"nakaza_zeme_csu_kod\": 0}, {\"datum\": \"2020-09-19T00:00:00\", \"okres_lau_kod\": \"CZ0100\", \"okres_nazev\": \"Praha\", \"vek\": 374, \"pohlavi\": 374, \"kraj_nuts_kod\": 374, \"nakaza_v_zahranici\": 6, \"nakaza_zeme_csu_kod\": 6}, {\"datum\": \"2020-09-19T00:00:00\", \"okres_lau_kod\": \"CZ0722\", \"okres_nazev\": \"Uhersk\\u00e9 Hradi\\u0161t\\u011b\", \"vek\": 60, \"pohlavi\": 60, \"kraj_nuts_kod\": 60, \"nakaza_v_zahranici\": 2, \"nakaza_zeme_csu_kod\": 2}, {\"datum\": \"2020-09-20T00:00:00\", \"okres_lau_kod\": \"CZ0100\", \"okres_nazev\": \"Praha\", \"vek\": 204, \"pohlavi\": 204, \"kraj_nuts_kod\": 204, \"nakaza_v_zahranici\": 6, \"nakaza_zeme_csu_kod\": 6}, {\"datum\": \"2020-09-20T00:00:00\", \"okres_lau_kod\": \"CZ0722\", \"okres_nazev\": \"Uhersk\\u00e9 Hradi\\u0161t\\u011b\", \"vek\": 29, \"pohlavi\": 29, \"kraj_nuts_kod\": 29, \"nakaza_v_zahranici\": 0, \"nakaza_zeme_csu_kod\": 0}, {\"datum\": \"2020-09-21T00:00:00\", \"okres_lau_kod\": \"CZ0100\", \"okres_nazev\": \"Praha\", \"vek\": 250, \"pohlavi\": 250, \"kraj_nuts_kod\": 250, \"nakaza_v_zahranici\": 11, \"nakaza_zeme_csu_kod\": 11}, {\"datum\": \"2020-09-21T00:00:00\", \"okres_lau_kod\": \"CZ0722\", \"okres_nazev\": \"Uhersk\\u00e9 Hradi\\u0161t\\u011b\", \"vek\": 18, \"pohlavi\": 18, \"kraj_nuts_kod\": 18, \"nakaza_v_zahranici\": 0, \"nakaza_zeme_csu_kod\": 0}, {\"datum\": \"2020-09-22T00:00:00\", \"okres_lau_kod\": \"CZ0100\", \"okres_nazev\": \"Praha\", \"vek\": 426, \"pohlavi\": 426, \"kraj_nuts_kod\": 426, \"nakaza_v_zahranici\": 16, \"nakaza_zeme_csu_kod\": 16}, {\"datum\": \"2020-09-22T00:00:00\", \"okres_lau_kod\": \"CZ0722\", \"okres_nazev\": \"Uhersk\\u00e9 Hradi\\u0161t\\u011b\", \"vek\": 48, \"pohlavi\": 48, \"kraj_nuts_kod\": 48, \"nakaza_v_zahranici\": 0, \"nakaza_zeme_csu_kod\": 0}, {\"datum\": \"2020-09-23T00:00:00\", \"okres_lau_kod\": \"CZ0100\", \"okres_nazev\": \"Praha\", \"vek\": 360, \"pohlavi\": 360, \"kraj_nuts_kod\": 360, \"nakaza_v_zahranici\": 8, \"nakaza_zeme_csu_kod\": 8}, {\"datum\": \"2020-09-23T00:00:00\", \"okres_lau_kod\": \"CZ0722\", \"okres_nazev\": \"Uhersk\\u00e9 Hradi\\u0161t\\u011b\", \"vek\": 30, \"pohlavi\": 30, \"kraj_nuts_kod\": 30, \"nakaza_v_zahranici\": 0, \"nakaza_zeme_csu_kod\": 0}, {\"datum\": \"2020-09-24T00:00:00\", \"okres_lau_kod\": \"CZ0100\", \"okres_nazev\": \"Praha\", \"vek\": 425, \"pohlavi\": 425, \"kraj_nuts_kod\": 425, \"nakaza_v_zahranici\": 12, \"nakaza_zeme_csu_kod\": 12}, {\"datum\": \"2020-09-24T00:00:00\", \"okres_lau_kod\": \"CZ0722\", \"okres_nazev\": \"Uhersk\\u00e9 Hradi\\u0161t\\u011b\", \"vek\": 58, \"pohlavi\": 58, \"kraj_nuts_kod\": 58, \"nakaza_v_zahranici\": 0, \"nakaza_zeme_csu_kod\": 0}, {\"datum\": \"2020-09-25T00:00:00\", \"okres_lau_kod\": \"CZ0100\", \"okres_nazev\": \"Praha\", \"vek\": 488, \"pohlavi\": 488, \"kraj_nuts_kod\": 488, \"nakaza_v_zahranici\": 10, \"nakaza_zeme_csu_kod\": 10}, {\"datum\": \"2020-09-25T00:00:00\", \"okres_lau_kod\": \"CZ0722\", \"okres_nazev\": \"Uhersk\\u00e9 Hradi\\u0161t\\u011b\", \"vek\": 61, \"pohlavi\": 61, \"kraj_nuts_kod\": 61, \"nakaza_v_zahranici\": 0, \"nakaza_zeme_csu_kod\": 0}, {\"datum\": \"2020-09-26T00:00:00\", \"okres_lau_kod\": \"CZ0100\", \"okres_nazev\": \"Praha\", \"vek\": 449, \"pohlavi\": 449, \"kraj_nuts_kod\": 449, \"nakaza_v_zahranici\": 5, \"nakaza_zeme_csu_kod\": 5}, {\"datum\": \"2020-09-26T00:00:00\", \"okres_lau_kod\": \"CZ0722\", \"okres_nazev\": \"Uhersk\\u00e9 Hradi\\u0161t\\u011b\", \"vek\": 57, \"pohlavi\": 57, \"kraj_nuts_kod\": 57, \"nakaza_v_zahranici\": 0, \"nakaza_zeme_csu_kod\": 0}, {\"datum\": \"2020-09-27T00:00:00\", \"okres_lau_kod\": \"CZ0100\", \"okres_nazev\": \"Praha\", \"vek\": 311, \"pohlavi\": 311, \"kraj_nuts_kod\": 311, \"nakaza_v_zahranici\": 6, \"nakaza_zeme_csu_kod\": 6}, {\"datum\": \"2020-09-27T00:00:00\", \"okres_lau_kod\": \"CZ0722\", \"okres_nazev\": \"Uhersk\\u00e9 Hradi\\u0161t\\u011b\", \"vek\": 46, \"pohlavi\": 46, \"kraj_nuts_kod\": 46, \"nakaza_v_zahranici\": 0, \"nakaza_zeme_csu_kod\": 0}, {\"datum\": \"2020-09-28T00:00:00\", \"okres_lau_kod\": \"CZ0100\", \"okres_nazev\": \"Praha\", \"vek\": 230, \"pohlavi\": 230, \"kraj_nuts_kod\": 230, \"nakaza_v_zahranici\": 6, \"nakaza_zeme_csu_kod\": 6}, {\"datum\": \"2020-09-28T00:00:00\", \"okres_lau_kod\": \"CZ0722\", \"okres_nazev\": \"Uhersk\\u00e9 Hradi\\u0161t\\u011b\", \"vek\": 50, \"pohlavi\": 50, \"kraj_nuts_kod\": 50, \"nakaza_v_zahranici\": 0, \"nakaza_zeme_csu_kod\": 0}, {\"datum\": \"2020-09-29T00:00:00\", \"okres_lau_kod\": \"CZ0100\", \"okres_nazev\": \"Praha\", \"vek\": 340, \"pohlavi\": 340, \"kraj_nuts_kod\": 340, \"nakaza_v_zahranici\": 14, \"nakaza_zeme_csu_kod\": 14}, {\"datum\": \"2020-09-29T00:00:00\", \"okres_lau_kod\": \"CZ0722\", \"okres_nazev\": \"Uhersk\\u00e9 Hradi\\u0161t\\u011b\", \"vek\": 78, \"pohlavi\": 78, \"kraj_nuts_kod\": 78, \"nakaza_v_zahranici\": 0, \"nakaza_zeme_csu_kod\": 0}, {\"datum\": \"2020-09-30T00:00:00\", \"okres_lau_kod\": \"CZ0100\", \"okres_nazev\": \"Praha\", \"vek\": 499, \"pohlavi\": 499, \"kraj_nuts_kod\": 499, \"nakaza_v_zahranici\": 11, \"nakaza_zeme_csu_kod\": 11}, {\"datum\": \"2020-09-30T00:00:00\", \"okres_lau_kod\": \"CZ0722\", \"okres_nazev\": \"Uhersk\\u00e9 Hradi\\u0161t\\u011b\", \"vek\": 70, \"pohlavi\": 70, \"kraj_nuts_kod\": 70, \"nakaza_v_zahranici\": 4, \"nakaza_zeme_csu_kod\": 4}, {\"datum\": \"2020-10-01T00:00:00\", \"okres_lau_kod\": \"CZ0100\", \"okres_nazev\": \"Praha\", \"vek\": 651, \"pohlavi\": 651, \"kraj_nuts_kod\": 651, \"nakaza_v_zahranici\": 9, \"nakaza_zeme_csu_kod\": 9}, {\"datum\": \"2020-10-01T00:00:00\", \"okres_lau_kod\": \"CZ0722\", \"okres_nazev\": \"Uhersk\\u00e9 Hradi\\u0161t\\u011b\", \"vek\": 85, \"pohlavi\": 85, \"kraj_nuts_kod\": 85, \"nakaza_v_zahranici\": 0, \"nakaza_zeme_csu_kod\": 0}, {\"datum\": \"2020-10-02T00:00:00\", \"okres_lau_kod\": \"CZ0100\", \"okres_nazev\": \"Praha\", \"vek\": 510, \"pohlavi\": 510, \"kraj_nuts_kod\": 510, \"nakaza_v_zahranici\": 11, \"nakaza_zeme_csu_kod\": 11}, {\"datum\": \"2020-10-02T00:00:00\", \"okres_lau_kod\": \"CZ0722\", \"okres_nazev\": \"Uhersk\\u00e9 Hradi\\u0161t\\u011b\", \"vek\": 153, \"pohlavi\": 153, \"kraj_nuts_kod\": 153, \"nakaza_v_zahranici\": 0, \"nakaza_zeme_csu_kod\": 0}, {\"datum\": \"2020-10-03T00:00:00\", \"okres_lau_kod\": \"CZ0100\", \"okres_nazev\": \"Praha\", \"vek\": 472, \"pohlavi\": 472, \"kraj_nuts_kod\": 472, \"nakaza_v_zahranici\": 4, \"nakaza_zeme_csu_kod\": 4}, {\"datum\": \"2020-10-03T00:00:00\", \"okres_lau_kod\": \"CZ0722\", \"okres_nazev\": \"Uhersk\\u00e9 Hradi\\u0161t\\u011b\", \"vek\": 97, \"pohlavi\": 97, \"kraj_nuts_kod\": 97, \"nakaza_v_zahranici\": 0, \"nakaza_zeme_csu_kod\": 0}, {\"datum\": \"2020-10-04T00:00:00\", \"okres_lau_kod\": \"CZ0100\", \"okres_nazev\": \"Praha\", \"vek\": 490, \"pohlavi\": 490, \"kraj_nuts_kod\": 490, \"nakaza_v_zahranici\": 7, \"nakaza_zeme_csu_kod\": 7}, {\"datum\": \"2020-10-04T00:00:00\", \"okres_lau_kod\": \"CZ0722\", \"okres_nazev\": \"Uhersk\\u00e9 Hradi\\u0161t\\u011b\", \"vek\": 81, \"pohlavi\": 81, \"kraj_nuts_kod\": 81, \"nakaza_v_zahranici\": 0, \"nakaza_zeme_csu_kod\": 0}, {\"datum\": \"2020-10-05T00:00:00\", \"okres_lau_kod\": \"CZ0100\", \"okres_nazev\": \"Praha\", \"vek\": 445, \"pohlavi\": 445, \"kraj_nuts_kod\": 445, \"nakaza_v_zahranici\": 5, \"nakaza_zeme_csu_kod\": 5}, {\"datum\": \"2020-10-05T00:00:00\", \"okres_lau_kod\": \"CZ0722\", \"okres_nazev\": \"Uhersk\\u00e9 Hradi\\u0161t\\u011b\", \"vek\": 54, \"pohlavi\": 54, \"kraj_nuts_kod\": 54, \"nakaza_v_zahranici\": 0, \"nakaza_zeme_csu_kod\": 0}, {\"datum\": \"2020-10-06T00:00:00\", \"okres_lau_kod\": \"CZ0100\", \"okres_nazev\": \"Praha\", \"vek\": 823, \"pohlavi\": 823, \"kraj_nuts_kod\": 823, \"nakaza_v_zahranici\": 7, \"nakaza_zeme_csu_kod\": 7}, {\"datum\": \"2020-10-06T00:00:00\", \"okres_lau_kod\": \"CZ0722\", \"okres_nazev\": \"Uhersk\\u00e9 Hradi\\u0161t\\u011b\", \"vek\": 82, \"pohlavi\": 82, \"kraj_nuts_kod\": 82, \"nakaza_v_zahranici\": 0, \"nakaza_zeme_csu_kod\": 0}, {\"datum\": \"2020-10-07T00:00:00\", \"okres_lau_kod\": \"CZ0100\", \"okres_nazev\": \"Praha\", \"vek\": 825, \"pohlavi\": 825, \"kraj_nuts_kod\": 825, \"nakaza_v_zahranici\": 20, \"nakaza_zeme_csu_kod\": 20}, {\"datum\": \"2020-10-07T00:00:00\", \"okres_lau_kod\": \"CZ0722\", \"okres_nazev\": \"Uhersk\\u00e9 Hradi\\u0161t\\u011b\", \"vek\": 115, \"pohlavi\": 115, \"kraj_nuts_kod\": 115, \"nakaza_v_zahranici\": 1, \"nakaza_zeme_csu_kod\": 1}, {\"datum\": \"2020-10-08T00:00:00\", \"okres_lau_kod\": \"CZ0100\", \"okres_nazev\": \"Praha\", \"vek\": 694, \"pohlavi\": 694, \"kraj_nuts_kod\": 694, \"nakaza_v_zahranici\": 6, \"nakaza_zeme_csu_kod\": 6}, {\"datum\": \"2020-10-08T00:00:00\", \"okres_lau_kod\": \"CZ0722\", \"okres_nazev\": \"Uhersk\\u00e9 Hradi\\u0161t\\u011b\", \"vek\": 163, \"pohlavi\": 163, \"kraj_nuts_kod\": 163, \"nakaza_v_zahranici\": 0, \"nakaza_zeme_csu_kod\": 0}, {\"datum\": \"2020-10-09T00:00:00\", \"okres_lau_kod\": \"CZ0100\", \"okres_nazev\": \"Praha\", \"vek\": 1333, \"pohlavi\": 1333, \"kraj_nuts_kod\": 1333, \"nakaza_v_zahranici\": 4, \"nakaza_zeme_csu_kod\": 4}, {\"datum\": \"2020-10-09T00:00:00\", \"okres_lau_kod\": \"CZ0722\", \"okres_nazev\": \"Uhersk\\u00e9 Hradi\\u0161t\\u011b\", \"vek\": 210, \"pohlavi\": 210, \"kraj_nuts_kod\": 210, \"nakaza_v_zahranici\": 0, \"nakaza_zeme_csu_kod\": 0}, {\"datum\": \"2020-10-10T00:00:00\", \"okres_lau_kod\": \"CZ0100\", \"okres_nazev\": \"Praha\", \"vek\": 627, \"pohlavi\": 627, \"kraj_nuts_kod\": 627, \"nakaza_v_zahranici\": 5, \"nakaza_zeme_csu_kod\": 5}, {\"datum\": \"2020-10-10T00:00:00\", \"okres_lau_kod\": \"CZ0722\", \"okres_nazev\": \"Uhersk\\u00e9 Hradi\\u0161t\\u011b\", \"vek\": 97, \"pohlavi\": 97, \"kraj_nuts_kod\": 97, \"nakaza_v_zahranici\": 0, \"nakaza_zeme_csu_kod\": 0}, {\"datum\": \"2020-10-11T00:00:00\", \"okres_lau_kod\": \"CZ0100\", \"okres_nazev\": \"Praha\", \"vek\": 407, \"pohlavi\": 407, \"kraj_nuts_kod\": 407, \"nakaza_v_zahranici\": 9, \"nakaza_zeme_csu_kod\": 9}, {\"datum\": \"2020-10-11T00:00:00\", \"okres_lau_kod\": \"CZ0722\", \"okres_nazev\": \"Uhersk\\u00e9 Hradi\\u0161t\\u011b\", \"vek\": 128, \"pohlavi\": 128, \"kraj_nuts_kod\": 128, \"nakaza_v_zahranici\": 1, \"nakaza_zeme_csu_kod\": 1}, {\"datum\": \"2020-10-12T00:00:00\", \"okres_lau_kod\": \"CZ0100\", \"okres_nazev\": \"Praha\", \"vek\": 611, \"pohlavi\": 611, \"kraj_nuts_kod\": 611, \"nakaza_v_zahranici\": 13, \"nakaza_zeme_csu_kod\": 13}, {\"datum\": \"2020-10-12T00:00:00\", \"okres_lau_kod\": \"CZ0722\", \"okres_nazev\": \"Uhersk\\u00e9 Hradi\\u0161t\\u011b\", \"vek\": 99, \"pohlavi\": 99, \"kraj_nuts_kod\": 99, \"nakaza_v_zahranici\": 0, \"nakaza_zeme_csu_kod\": 0}, {\"datum\": \"2020-10-13T00:00:00\", \"okres_lau_kod\": \"CZ0100\", \"okres_nazev\": \"Praha\", \"vek\": 1099, \"pohlavi\": 1099, \"kraj_nuts_kod\": 1099, \"nakaza_v_zahranici\": 13, \"nakaza_zeme_csu_kod\": 13}, {\"datum\": \"2020-10-13T00:00:00\", \"okres_lau_kod\": \"CZ0722\", \"okres_nazev\": \"Uhersk\\u00e9 Hradi\\u0161t\\u011b\", \"vek\": 137, \"pohlavi\": 137, \"kraj_nuts_kod\": 137, \"nakaza_v_zahranici\": 1, \"nakaza_zeme_csu_kod\": 1}, {\"datum\": \"2020-10-14T00:00:00\", \"okres_lau_kod\": \"CZ0100\", \"okres_nazev\": \"Praha\", \"vek\": 1239, \"pohlavi\": 1239, \"kraj_nuts_kod\": 1239, \"nakaza_v_zahranici\": 7, \"nakaza_zeme_csu_kod\": 7}, {\"datum\": \"2020-10-14T00:00:00\", \"okres_lau_kod\": \"CZ0722\", \"okres_nazev\": \"Uhersk\\u00e9 Hradi\\u0161t\\u011b\", \"vek\": 209, \"pohlavi\": 209, \"kraj_nuts_kod\": 209, \"nakaza_v_zahranici\": 0, \"nakaza_zeme_csu_kod\": 0}, {\"datum\": \"2020-10-15T00:00:00\", \"okres_lau_kod\": \"CZ0100\", \"okres_nazev\": \"Praha\", \"vek\": 1098, \"pohlavi\": 1098, \"kraj_nuts_kod\": 1098, \"nakaza_v_zahranici\": 3, \"nakaza_zeme_csu_kod\": 3}, {\"datum\": \"2020-10-15T00:00:00\", \"okres_lau_kod\": \"CZ0722\", \"okres_nazev\": \"Uhersk\\u00e9 Hradi\\u0161t\\u011b\", \"vek\": 189, \"pohlavi\": 189, \"kraj_nuts_kod\": 189, \"nakaza_v_zahranici\": 0, \"nakaza_zeme_csu_kod\": 0}, {\"datum\": \"2020-10-16T00:00:00\", \"okres_lau_kod\": \"CZ0100\", \"okres_nazev\": \"Praha\", \"vek\": 1311, \"pohlavi\": 1311, \"kraj_nuts_kod\": 1311, \"nakaza_v_zahranici\": 5, \"nakaza_zeme_csu_kod\": 5}, {\"datum\": \"2020-10-16T00:00:00\", \"okres_lau_kod\": \"CZ0722\", \"okres_nazev\": \"Uhersk\\u00e9 Hradi\\u0161t\\u011b\", \"vek\": 186, \"pohlavi\": 186, \"kraj_nuts_kod\": 186, \"nakaza_v_zahranici\": 1, \"nakaza_zeme_csu_kod\": 1}, {\"datum\": \"2020-10-17T00:00:00\", \"okres_lau_kod\": \"CZ0100\", \"okres_nazev\": \"Praha\", \"vek\": 1151, \"pohlavi\": 1151, \"kraj_nuts_kod\": 1151, \"nakaza_v_zahranici\": 6, \"nakaza_zeme_csu_kod\": 6}, {\"datum\": \"2020-10-17T00:00:00\", \"okres_lau_kod\": \"CZ0722\", \"okres_nazev\": \"Uhersk\\u00e9 Hradi\\u0161t\\u011b\", \"vek\": 162, \"pohlavi\": 162, \"kraj_nuts_kod\": 162, \"nakaza_v_zahranici\": 1, \"nakaza_zeme_csu_kod\": 1}, {\"datum\": \"2020-10-18T00:00:00\", \"okres_lau_kod\": \"CZ0100\", \"okres_nazev\": \"Praha\", \"vek\": 629, \"pohlavi\": 629, \"kraj_nuts_kod\": 629, \"nakaza_v_zahranici\": 11, \"nakaza_zeme_csu_kod\": 11}, {\"datum\": \"2020-10-18T00:00:00\", \"okres_lau_kod\": \"CZ0722\", \"okres_nazev\": \"Uhersk\\u00e9 Hradi\\u0161t\\u011b\", \"vek\": 99, \"pohlavi\": 99, \"kraj_nuts_kod\": 99, \"nakaza_v_zahranici\": 2, \"nakaza_zeme_csu_kod\": 2}, {\"datum\": \"2020-10-19T00:00:00\", \"okres_lau_kod\": \"CZ0100\", \"okres_nazev\": \"Praha\", \"vek\": 995, \"pohlavi\": 995, \"kraj_nuts_kod\": 995, \"nakaza_v_zahranici\": 14, \"nakaza_zeme_csu_kod\": 14}, {\"datum\": \"2020-10-19T00:00:00\", \"okres_lau_kod\": \"CZ0722\", \"okres_nazev\": \"Uhersk\\u00e9 Hradi\\u0161t\\u011b\", \"vek\": 140, \"pohlavi\": 140, \"kraj_nuts_kod\": 140, \"nakaza_v_zahranici\": 0, \"nakaza_zeme_csu_kod\": 0}, {\"datum\": \"2020-10-20T00:00:00\", \"okres_lau_kod\": \"CZ0100\", \"okres_nazev\": \"Praha\", \"vek\": 1542, \"pohlavi\": 1542, \"kraj_nuts_kod\": 1542, \"nakaza_v_zahranici\": 6, \"nakaza_zeme_csu_kod\": 6}, {\"datum\": \"2020-10-20T00:00:00\", \"okres_lau_kod\": \"CZ0722\", \"okres_nazev\": \"Uhersk\\u00e9 Hradi\\u0161t\\u011b\", \"vek\": 220, \"pohlavi\": 220, \"kraj_nuts_kod\": 220, \"nakaza_v_zahranici\": 0, \"nakaza_zeme_csu_kod\": 0}, {\"datum\": \"2020-10-21T00:00:00\", \"okres_lau_kod\": \"CZ0100\", \"okres_nazev\": \"Praha\", \"vek\": 1635, \"pohlavi\": 1635, \"kraj_nuts_kod\": 1635, \"nakaza_v_zahranici\": 13, \"nakaza_zeme_csu_kod\": 13}, {\"datum\": \"2020-10-21T00:00:00\", \"okres_lau_kod\": \"CZ0722\", \"okres_nazev\": \"Uhersk\\u00e9 Hradi\\u0161t\\u011b\", \"vek\": 274, \"pohlavi\": 274, \"kraj_nuts_kod\": 274, \"nakaza_v_zahranici\": 1, \"nakaza_zeme_csu_kod\": 1}, {\"datum\": \"2020-10-22T00:00:00\", \"okres_lau_kod\": \"CZ0100\", \"okres_nazev\": \"Praha\", \"vek\": 1670, \"pohlavi\": 1670, \"kraj_nuts_kod\": 1670, \"nakaza_v_zahranici\": 7, \"nakaza_zeme_csu_kod\": 7}, {\"datum\": \"2020-10-22T00:00:00\", \"okres_lau_kod\": \"CZ0722\", \"okres_nazev\": \"Uhersk\\u00e9 Hradi\\u0161t\\u011b\", \"vek\": 243, \"pohlavi\": 243, \"kraj_nuts_kod\": 243, \"nakaza_v_zahranici\": 0, \"nakaza_zeme_csu_kod\": 0}, {\"datum\": \"2020-10-23T00:00:00\", \"okres_lau_kod\": \"CZ0100\", \"okres_nazev\": \"Praha\", \"vek\": 579, \"pohlavi\": 579, \"kraj_nuts_kod\": 579, \"nakaza_v_zahranici\": 0, \"nakaza_zeme_csu_kod\": 0}, {\"datum\": \"2020-10-23T00:00:00\", \"okres_lau_kod\": \"CZ0722\", \"okres_nazev\": \"Uhersk\\u00e9 Hradi\\u0161t\\u011b\", \"vek\": 145, \"pohlavi\": 145, \"kraj_nuts_kod\": 145, \"nakaza_v_zahranici\": 0, \"nakaza_zeme_csu_kod\": 0}]}}, {\"mode\": \"vega-lite\"});\n",
       "</script>"
      ],
      "text/plain": [
       "alt.Chart(...)"
      ]
     },
     "execution_count": 37,
     "metadata": {},
     "output_type": "execute_result"
    }
   ],
   "source": [
    "alt.Chart(date_district_count[date_district_count['okres_lau_kod'].isin(['CZ0100','CZ0722'])]).mark_line().encode(\n",
    "    x='datum',\n",
    "    y='vek',\n",
    ")"
   ]
  },
  {
   "cell_type": "code",
   "execution_count": null,
   "metadata": {},
   "outputs": [],
   "source": []
  },
  {
   "cell_type": "code",
   "execution_count": null,
   "metadata": {},
   "outputs": [],
   "source": []
  },
  {
   "cell_type": "code",
   "execution_count": null,
   "metadata": {},
   "outputs": [],
   "source": []
  }
 ],
 "metadata": {
  "kernelspec": {
   "display_name": "Python 3",
   "language": "python",
   "name": "python3"
  },
  "language_info": {
   "codemirror_mode": {
    "name": "ipython",
    "version": 3
   },
   "file_extension": ".py",
   "mimetype": "text/x-python",
   "name": "python",
   "nbconvert_exporter": "python",
   "pygments_lexer": "ipython3",
   "version": "3.7.4"
  }
 },
 "nbformat": 4,
 "nbformat_minor": 2
}
